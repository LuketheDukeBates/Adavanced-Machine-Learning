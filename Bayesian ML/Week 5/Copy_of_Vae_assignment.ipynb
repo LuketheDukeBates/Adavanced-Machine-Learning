{
 "cells": [
  {
   "cell_type": "markdown",
   "metadata": {
    "colab_type": "text",
    "id": "G233yNiDOnLp"
   },
   "source": [
    "# First things first\n",
    "* Click **File -> Save a copy in Drive** and click **Open in new tab** in the pop-up window to save your progress in Google Drive.\n",
    "* Click **Runtime -> Change runtime type** and select **GPU** in Hardware accelerator box to enable faster GPU training."
   ]
  },
  {
   "cell_type": "markdown",
   "metadata": {
    "colab_type": "text",
    "id": "74KEu1L8OnLq"
   },
   "source": [
    "# Variational Autoencoder"
   ]
  },
  {
   "cell_type": "markdown",
   "metadata": {
    "colab_type": "text",
    "id": "r94_BRA-OnLr"
   },
   "source": [
    "In this assignment, you will build Variational Autoencoder, train it on the MNIST dataset, and play with its architecture and hyperparameters."
   ]
  },
  {
   "cell_type": "markdown",
   "metadata": {
    "colab_type": "text",
    "id": "LyLQLqBcOnLt"
   },
   "source": [
    "### Setup\n",
    "Loading auxiliary files and importing the necessary libraries."
   ]
  },
  {
   "cell_type": "code",
   "execution_count": 1,
   "metadata": {
    "colab": {
     "base_uri": "https://localhost:8080/",
     "height": 238
    },
    "colab_type": "code",
    "id": "naC94KtXOnLt",
    "outputId": "3e4639ee-1336-417c-c942-1e8e5bfffefa"
   },
   "outputs": [
    {
     "name": "stdout",
     "output_type": "stream",
     "text": [
      "Downloading Colab files\n",
      "shred: setup_google_colab.py: failed to open for writing: No such file or directory\n",
      "--2019-05-29 08:56:49--  https://raw.githubusercontent.com/hse-aml/bayesian-methods-for-ml/master/setup_google_colab.py\n",
      "Resolving raw.githubusercontent.com (raw.githubusercontent.com)... 151.101.0.133, 151.101.64.133, 151.101.128.133, ...\n",
      "Connecting to raw.githubusercontent.com (raw.githubusercontent.com)|151.101.0.133|:443... connected.\n",
      "HTTP request sent, awaiting response... 200 OK\n",
      "Length: 1308 (1.3K) [text/plain]\n",
      "Saving to: ‘setup_google_colab.py’\n",
      "\n",
      "setup_google_colab. 100%[===================>]   1.28K  --.-KB/s    in 0s      \n",
      "\n",
      "2019-05-29 08:56:49 (232 MB/s) - ‘setup_google_colab.py’ saved [1308/1308]\n",
      "\n"
     ]
    }
   ],
   "source": [
    "try:\n",
    "    import google.colab\n",
    "    IN_COLAB = True\n",
    "except:\n",
    "    IN_COLAB = False\n",
    "if IN_COLAB:\n",
    "    print(\"Downloading Colab files\")\n",
    "    ! shred -u setup_google_colab.py\n",
    "    ! wget https://raw.githubusercontent.com/hse-aml/bayesian-methods-for-ml/master/setup_google_colab.py -O setup_google_colab.py\n",
    "    import setup_google_colab\n",
    "    setup_google_colab.load_data_week5()"
   ]
  },
  {
   "cell_type": "code",
   "execution_count": 2,
   "metadata": {
    "colab": {
     "base_uri": "https://localhost:8080/",
     "height": 34
    },
    "colab_type": "code",
    "id": "H-hJ6_wBOnLz",
    "outputId": "ef77e251-fcec-4124-ae72-e5ac41daa9b7"
   },
   "outputs": [
    {
     "name": "stderr",
     "output_type": "stream",
     "text": [
      "Using TensorFlow backend.\n"
     ]
    }
   ],
   "source": [
    "import tensorflow as tf\n",
    "import keras\n",
    "import numpy as np\n",
    "import matplotlib.pyplot as plt\n",
    "\n",
    "from keras.layers import Input, Dense, Lambda, InputLayer, concatenate\n",
    "from keras.models import Model, Sequential\n",
    "from keras import backend as K\n",
    "from keras import metrics\n",
    "from keras.datasets import mnist\n",
    "from keras.utils import np_utils\n",
    "from w5_grader import VAEGrader"
   ]
  },
  {
   "cell_type": "markdown",
   "metadata": {
    "colab_type": "text",
    "id": "KyZf9DsOOnL2"
   },
   "source": [
    "### Grading\n",
    "We will create a grader instance below and use it to collect your answers. Note that these outputs will be stored locally inside grader and will be uploaded to the platform only after running submit function in the last part of this assignment. If you want to make a partial submission, you can run that cell anytime you want."
   ]
  },
  {
   "cell_type": "code",
   "execution_count": 0,
   "metadata": {
    "colab": {},
    "colab_type": "code",
    "id": "V5D7sEDBOnL3"
   },
   "outputs": [],
   "source": [
    "grader = VAEGrader()"
   ]
  },
  {
   "cell_type": "markdown",
   "metadata": {
    "colab_type": "text",
    "id": "RnkOQUeSOnL5"
   },
   "source": [
    "### Variational Autoencoder"
   ]
  },
  {
   "cell_type": "markdown",
   "metadata": {
    "colab_type": "text",
    "id": "GmV9OxiIOnL7"
   },
   "source": [
    "Recall that Variational Autoencoder is a probabilistic model of data based on a continious mixture of distributions. In the lecture we covered the mixture of gaussians case, but here we will apply VAE to binary MNIST images (each pixel is either black or white). To better model binary data we will use a continuous mixture of binomial distributions: $p(x \\mid w) = \\int p(x \\mid t, w) p(t) dt$, where the prior distribution on the latent code $t$ is standard normal $p(t) = \\mathcal{N}(0, I)$, but probability that $(i, j)$-th pixel is black equals to $(i, j)$-th output of the decoder neural detwork: $p(x_{i, j} \\mid t, w) = \\text{decoder}(t, w)_{i, j}$.\n",
    "\n",
    "To train this model we would like to maximize marginal log-likelihood of our dataset $\\max_w \\log p(X \\mid w)$, but it's very hard to do computationally, so instead we maximize the Variational Lower Bound w.r.t. both the original parameters $w$ and variational distribution $q$ which we define as encoder neural network with parameters $\\phi$ which takes input image $x$ and outputs parameters of the gaussian distribution $q(t \\mid x, \\phi)$: $\\log p(X \\mid w) \\geq \\mathcal{L}(w, \\phi) \\rightarrow \\max_{w, \\phi}$.\n",
    "\n",
    "So overall our model looks as follows: encoder takes an image $x$, produces a distribution over latent codes $q(t \\mid x)$ which should approximate the posterior distribution $p(t \\mid x)$ (at least after training), samples a point from this distribution $\\widehat{t} \\sim q(t \\mid x, \\phi)$, and finally feeds it into a decoder that outputs a distribution over images.\n",
    "\n",
    "![](https://github.com/hse-aml/bayesian-methods-for-ml/blob/master/week5/VAE.png?raw=1)\n",
    "\n",
    "In the lecture, we also discussed that variational lower bound has an expected value inside which we are going to approximate with sampling. But it is not trivial since we need to differentiate through this approximation. However, we learned about _reparametrization trick_ which suggests instead of sampling from distribution $\\widehat{t} \\sim q(t \\mid x, \\phi)$ sample from a distribution which doesn't depend on any parameters, e.g. standard normal, and then deterministically transform this sample to the desired one: $\\varepsilon \\sim \\mathcal{N}(0, I); ~~\\widehat{t} = m(x, \\phi) + \\varepsilon \\sigma(x, \\phi)$. This way we don't have to worry about our stochastic gradient being biased and can straightforwardly differentiate our loss w.r.t. all the parameters while treating the current sample $\\varepsilon$ as constant.\n",
    "\n",
    "\n"
   ]
  },
  {
   "cell_type": "markdown",
   "metadata": {
    "colab_type": "text",
    "id": "fVszOw7ROnL8"
   },
   "source": [
    "### Negative Variational Lower Bound"
   ]
  },
  {
   "cell_type": "markdown",
   "metadata": {
    "colab_type": "text",
    "id": "aRMMKLiGOnL9"
   },
   "source": [
    "**Task 1** Derive and implement Variational Lower Bound for the continuous mixture of Binomial distributions.\n",
    "\n",
    "**Note** that in lectures we discussed maximizing the VLB (which is typically a negative number), but in this assignment, for convenience, we will **minimize** the **negated** version of VLB (which will be a positive number) instead of maximizing the usual VLB. In what follows we always talk about _negated_ VLB, even when we use the term VLB for short.\n",
    "\n",
    "**Also note** that to pass the test, your code should work with any mini-batch size.\n",
    "\n",
    "To do that, we need a stochastic estimate of VLB: \n",
    "$$\\text{VLB} = \\sum_{i=1}^N \\text{VLB}_i \\approx \\frac{N}{M}\\sum_{i_s}^M \\text{VLB}_{i_s}$$\n",
    "where $N$ is the dataset size, $\\text{VLB}_i$ is the term of VLB corresponding to the $i$-th object, and $M$ is the mini-batch size. But instead of this stochastic estimate of the full VLB we will use an estimate of the negated VLB normalized by the dataset size, i.e. in the function below you need to return average across the mini-batch $-\\frac{1}{M}\\sum_{i_s}^M \\text{VLB}_{i_s}$. People usually optimize this normalized version of VLB since it doesn't depend on the dataset set - you can write VLB function once and use it for different datasets - the dataset size won't affect the learning rate too much. The correct value for this normalized negated VLB should be around $100 - 170$ in the example below."
   ]
  },
  {
   "cell_type": "code",
   "execution_count": 0,
   "metadata": {
    "colab": {},
    "colab_type": "code",
    "id": "OwynsmjaOnL-"
   },
   "outputs": [],
   "source": [
    "def vlb_binomial(x, x_decoded_mean, t_mean, t_log_var):\n",
    "    \"\"\"Returns the value of negative Variational Lower Bound\n",
    "    \n",
    "    The inputs are tf.Tensor\n",
    "        x: (batch_size x number_of_pixels) matrix with one image per row with zeros and ones\n",
    "        x_decoded_mean: (batch_size x number_of_pixels) mean of the distribution p(x | t), real numbers from 0 to 1\n",
    "        t_mean: (batch_size x latent_dim) mean vector of the (normal) distribution q(t | x)\n",
    "        t_log_var: (batch_size x latent_dim) logarithm of the variance vector of the (normal) distribution q(t | x)\n",
    "    \n",
    "    Returns:\n",
    "        A tf.Tensor with one element (averaged across the batch), VLB\n",
    "    \"\"\"\n",
    "    ### YOUR CODE HERE\n",
    "    loss = x*tf.log(x_decoded_mean + 1e-20) + (1-x)*tf.log(1 - x_decoded_mean + 1e-20)\n",
    "    loss = tf.reduce_mean(-tf.reduce_sum(loss, axis = 1))\n",
    "    kl = (-t_log_var + tf.exp(t_log_var) + np.square(t_mean) - 1) / 2\n",
    "    kl = tf.reduce_mean(tf.reduce_sum(kl, axis = 1))\n",
    "    \n",
    "    return kl + loss"
   ]
  },
  {
   "cell_type": "code",
   "execution_count": 82,
   "metadata": {
    "colab": {
     "base_uri": "https://localhost:8080/",
     "height": 71
    },
    "colab_type": "code",
    "id": "dpZjbDz0OnMA",
    "outputId": "c7fbf4f4-ead7-43c7-bb17-9a0cc114104f"
   },
   "outputs": [
    {
     "name": "stderr",
     "output_type": "stream",
     "text": [
      "/usr/local/lib/python3.6/dist-packages/tensorflow/python/client/session.py:1702: UserWarning: An interactive session is already active. This can cause out-of-memory errors in some cases. You must explicitly call `InteractiveSession.close()` to release resources held by the other session(s).\n",
      "  warnings.warn('An interactive session is already active. This can '\n"
     ]
    }
   ],
   "source": [
    "# Start tf session so we can run code.\n",
    "sess = tf.InteractiveSession()\n",
    "# Connect keras to the created session.\n",
    "K.set_session(sess)"
   ]
  },
  {
   "cell_type": "code",
   "execution_count": 83,
   "metadata": {
    "colab": {
     "base_uri": "https://localhost:8080/",
     "height": 34
    },
    "colab_type": "code",
    "id": "sJoWFRnDOnMF",
    "outputId": "4d8d925c-d3d9-40b1-a51a-9bb1b44c5637"
   },
   "outputs": [
    {
     "name": "stdout",
     "output_type": "stream",
     "text": [
      "Current answer for task 1 (vlb) is: 157.59705\n"
     ]
    }
   ],
   "source": [
    "grader.submit_vlb(sess, vlb_binomial)"
   ]
  },
  {
   "cell_type": "markdown",
   "metadata": {
    "colab_type": "text",
    "id": "JIajOY9bOnMK"
   },
   "source": [
    "## Encoder / decoder definition"
   ]
  },
  {
   "cell_type": "markdown",
   "metadata": {
    "colab_type": "text",
    "id": "agpMFTzKOnML"
   },
   "source": [
    "**Task 2** Read the code below that defines encoder and decoder networks and implement sampling with reparametrization trick in the provided space."
   ]
  },
  {
   "cell_type": "code",
   "execution_count": 0,
   "metadata": {
    "colab": {},
    "colab_type": "code",
    "id": "uY_dcGHmOnML"
   },
   "outputs": [],
   "source": [
    "batch_size = 100\n",
    "original_dim = 784 # Number of pixels in MNIST images.\n",
    "latent_dim = 100 # d, dimensionality of the latent code t.\n",
    "intermediate_dim = 256 # Size of the hidden layer.\n",
    "epochs = 3\n",
    "\n",
    "x = Input(batch_shape=(batch_size, original_dim))\n",
    "def create_encoder(input_dim):\n",
    "    # Encoder network.\n",
    "    # We instantiate these layers separately so as to reuse them later\n",
    "    encoder = Sequential(name='encoder')\n",
    "    encoder.add(InputLayer([input_dim]))\n",
    "    encoder.add(Dense(intermediate_dim, activation='relu'))\n",
    "    encoder.add(Dense(2 * latent_dim))\n",
    "    return encoder\n",
    "encoder = create_encoder(original_dim)\n",
    "\n",
    "get_t_mean = Lambda(lambda h: h[:, :latent_dim])\n",
    "get_t_log_var = Lambda(lambda h: h[:, latent_dim:])\n",
    "h = encoder(x)\n",
    "t_mean = get_t_mean(h)\n",
    "t_log_var = get_t_log_var(h)\n",
    "\n",
    "# Sampling from the distribution \n",
    "#     q(t | x) = N(t_mean, exp(t_log_var))\n",
    "# with reparametrization trick.\n",
    "def sampling(args):\n",
    "    \"\"\"Returns sample from a distribution N(args[0], diag(args[1]))\n",
    "    \n",
    "    The sample should be computed with reparametrization trick.\n",
    "    \n",
    "    The inputs are tf.Tensor\n",
    "        args[0]: (batch_size x latent_dim) mean of the desired distribution\n",
    "        args[1]: (batch_size x latent_dim) logarithm of the variance vector of the desired distribution\n",
    "    \n",
    "    Returns:\n",
    "        A tf.Tensor of size (batch_size x latent_dim), the samples.\n",
    "    \"\"\"\n",
    "    t_mean, t_log_var = args\n",
    "    # YOUR CODE HERE\n",
    "    epi = tf.random_normal(tf.shape(t_mean))\n",
    "    return epi * tf.exp(t_log_var/2) + t_mean\n",
    "    \n",
    "\n",
    "\n",
    "t = Lambda(sampling)([t_mean, t_log_var])\n",
    "\n",
    "def create_decoder(input_dim):\n",
    "    # Decoder network\n",
    "    # We instantiate these layers separately so as to reuse them later\n",
    "    decoder = Sequential(name='decoder')\n",
    "    decoder.add(InputLayer([input_dim]))\n",
    "    decoder.add(Dense(intermediate_dim, activation='relu'))\n",
    "    decoder.add(Dense(original_dim, activation='sigmoid'))\n",
    "    return decoder\n",
    "decoder = create_decoder(latent_dim)\n",
    "x_decoded_mean = decoder(t)"
   ]
  },
  {
   "cell_type": "code",
   "execution_count": 85,
   "metadata": {
    "colab": {
     "base_uri": "https://localhost:8080/",
     "height": 51
    },
    "colab_type": "code",
    "id": "YXhY1G7POnMN",
    "outputId": "34866517-4b46-42ef-b8c0-23cf30a2e978"
   },
   "outputs": [
    {
     "name": "stdout",
     "output_type": "stream",
     "text": [
      "Current answer for task 2.1 (samples mean) is: -0.120831124\n",
      "Current answer for task 2.2 (samples var) is: 0.036648326\n"
     ]
    }
   ],
   "source": [
    "grader.submit_samples(sess, sampling)"
   ]
  },
  {
   "cell_type": "markdown",
   "metadata": {
    "colab_type": "text",
    "id": "nktDqnapOnMS"
   },
   "source": [
    "## Training the model"
   ]
  },
  {
   "cell_type": "markdown",
   "metadata": {
    "colab_type": "text",
    "id": "Bcs69AvMOnMT"
   },
   "source": [
    "**Task 3** Run the cells below to train the model with the default settings. Modify the parameters to get better results. Especially pay attention to the encoder/decoder architectures (e.g. using more layers, maybe making them convolutional), learning rate, and the number of epochs."
   ]
  },
  {
   "cell_type": "code",
   "execution_count": 0,
   "metadata": {
    "colab": {},
    "colab_type": "code",
    "id": "ZC2LPovUOnMU"
   },
   "outputs": [],
   "source": [
    "loss = vlb_binomial(x, x_decoded_mean, t_mean, t_log_var)\n",
    "vae = Model(x, x_decoded_mean)\n",
    "# Keras will provide input (x) and output (x_decoded_mean) to the function that\n",
    "# should construct loss, but since our function also depends on other\n",
    "# things (e.g. t_means), it is easier to build the loss in advance and pass\n",
    "# a function that always returns it.\n",
    "vae.compile(optimizer=keras.optimizers.RMSprop(lr=0.001), loss=lambda x, y: loss)"
   ]
  },
  {
   "cell_type": "markdown",
   "metadata": {
    "colab_type": "text",
    "id": "SVJQG9l4OnMY"
   },
   "source": [
    "#### Load and prepare the data"
   ]
  },
  {
   "cell_type": "code",
   "execution_count": 0,
   "metadata": {
    "colab": {},
    "colab_type": "code",
    "id": "AS79kH0VOnMZ"
   },
   "outputs": [],
   "source": [
    "# train the VAE on MNIST digits\n",
    "(x_train, y_train), (x_test, y_test) = mnist.load_data()\n",
    "# One hot encoding.\n",
    "y_train = np_utils.to_categorical(y_train)\n",
    "y_test = np_utils.to_categorical(y_test)\n",
    "\n",
    "x_train = x_train.astype('float32') / 255.\n",
    "x_test = x_test.astype('float32') / 255.\n",
    "x_train = x_train.reshape((len(x_train), np.prod(x_train.shape[1:])))\n",
    "x_test = x_test.reshape((len(x_test), np.prod(x_test.shape[1:])))"
   ]
  },
  {
   "cell_type": "markdown",
   "metadata": {
    "colab_type": "text",
    "id": "EnWfL2xrOnMb"
   },
   "source": [
    "#### Train the model"
   ]
  },
  {
   "cell_type": "code",
   "execution_count": 87,
   "metadata": {
    "colab": {
     "base_uri": "https://localhost:8080/",
     "height": 1734
    },
    "colab_type": "code",
    "id": "J_-zXvnpOnMc",
    "outputId": "46092a41-0d60-44ff-baea-e12cf7113227"
   },
   "outputs": [
    {
     "name": "stdout",
     "output_type": "stream",
     "text": [
      "Train on 60000 samples, validate on 10000 samples\n",
      "Epoch 1/50\n",
      " - 2s - loss: 165.2317 - val_loss: 140.5293\n",
      "Epoch 2/50\n",
      " - 2s - loss: 136.1910 - val_loss: 129.6764\n",
      "Epoch 3/50\n",
      " - 2s - loss: 126.0916 - val_loss: 120.9096\n",
      "Epoch 4/50\n",
      " - 2s - loss: 119.6450 - val_loss: 116.3813\n",
      "Epoch 5/50\n",
      " - 2s - loss: 115.6364 - val_loss: 113.8995\n",
      "Epoch 6/50\n",
      " - 2s - loss: 113.1239 - val_loss: 111.6315\n",
      "Epoch 7/50\n",
      " - 2s - loss: 111.5066 - val_loss: 109.9139\n",
      "Epoch 8/50\n",
      " - 2s - loss: 110.4043 - val_loss: 109.4958\n",
      "Epoch 9/50\n",
      " - 2s - loss: 109.6269 - val_loss: 109.8378\n",
      "Epoch 10/50\n",
      " - 2s - loss: 109.0222 - val_loss: 107.5075\n",
      "Epoch 11/50\n",
      " - 2s - loss: 108.5760 - val_loss: 107.4976\n",
      "Epoch 12/50\n",
      " - 2s - loss: 108.2393 - val_loss: 107.4269\n",
      "Epoch 13/50\n",
      " - 2s - loss: 107.9310 - val_loss: 106.9564\n",
      "Epoch 14/50\n",
      " - 2s - loss: 107.7081 - val_loss: 106.8276\n",
      "Epoch 15/50\n",
      " - 2s - loss: 107.5222 - val_loss: 106.6828\n",
      "Epoch 16/50\n",
      " - 2s - loss: 107.2914 - val_loss: 106.4876\n",
      "Epoch 17/50\n",
      " - 2s - loss: 107.0827 - val_loss: 106.4846\n",
      "Epoch 18/50\n",
      " - 2s - loss: 106.9638 - val_loss: 106.4463\n",
      "Epoch 19/50\n",
      " - 2s - loss: 106.8315 - val_loss: 106.1981\n",
      "Epoch 20/50\n",
      " - 2s - loss: 106.6487 - val_loss: 105.9165\n",
      "Epoch 21/50\n",
      " - 2s - loss: 106.5780 - val_loss: 106.1437\n",
      "Epoch 22/50\n",
      " - 2s - loss: 106.4298 - val_loss: 107.7073\n",
      "Epoch 23/50\n",
      " - 2s - loss: 106.3295 - val_loss: 105.7326\n",
      "Epoch 24/50\n",
      " - 2s - loss: 106.2946 - val_loss: 105.4797\n",
      "Epoch 25/50\n",
      " - 2s - loss: 106.1694 - val_loss: 105.7039\n",
      "Epoch 26/50\n",
      " - 2s - loss: 106.0827 - val_loss: 105.5617\n",
      "Epoch 27/50\n",
      " - 2s - loss: 105.9903 - val_loss: 106.0638\n",
      "Epoch 28/50\n",
      " - 2s - loss: 105.9405 - val_loss: 105.2681\n",
      "Epoch 29/50\n",
      " - 2s - loss: 105.9141 - val_loss: 106.0533\n",
      "Epoch 30/50\n",
      " - 2s - loss: 105.7914 - val_loss: 105.4094\n",
      "Epoch 31/50\n",
      " - 2s - loss: 105.7669 - val_loss: 105.6478\n",
      "Epoch 32/50\n",
      " - 2s - loss: 105.7038 - val_loss: 105.4380\n",
      "Epoch 33/50\n",
      " - 2s - loss: 105.6659 - val_loss: 105.2851\n",
      "Epoch 34/50\n",
      " - 2s - loss: 105.5747 - val_loss: 105.1841\n",
      "Epoch 35/50\n",
      " - 2s - loss: 105.5573 - val_loss: 104.9308\n",
      "Epoch 36/50\n",
      " - 2s - loss: 105.4862 - val_loss: 104.9989\n",
      "Epoch 37/50\n",
      " - 2s - loss: 105.4463 - val_loss: 105.4514\n",
      "Epoch 38/50\n",
      " - 2s - loss: 105.3818 - val_loss: 104.7958\n",
      "Epoch 39/50\n",
      " - 2s - loss: 105.3187 - val_loss: 105.2416\n",
      "Epoch 40/50\n",
      " - 2s - loss: 105.3080 - val_loss: 105.0298\n",
      "Epoch 41/50\n",
      " - 2s - loss: 105.2142 - val_loss: 105.5271\n",
      "Epoch 42/50\n",
      " - 2s - loss: 105.1875 - val_loss: 104.9796\n",
      "Epoch 43/50\n",
      " - 2s - loss: 105.1362 - val_loss: 105.2079\n",
      "Epoch 44/50\n",
      " - 2s - loss: 105.1138 - val_loss: 104.7539\n",
      "Epoch 45/50\n",
      " - 2s - loss: 105.0621 - val_loss: 105.1707\n",
      "Epoch 46/50\n",
      " - 2s - loss: 105.0453 - val_loss: 105.0995\n",
      "Epoch 47/50\n",
      " - 2s - loss: 105.0213 - val_loss: 105.2305\n",
      "Epoch 48/50\n",
      " - 2s - loss: 105.0002 - val_loss: 105.0788\n",
      "Epoch 49/50\n",
      " - 2s - loss: 104.9465 - val_loss: 104.6994\n",
      "Epoch 50/50\n",
      " - 2s - loss: 104.9622 - val_loss: 105.0131\n"
     ]
    }
   ],
   "source": [
    "hist = vae.fit(x=x_train, y=x_train,\n",
    "               shuffle=True,\n",
    "               epochs=50,\n",
    "               batch_size=batch_size,\n",
    "               validation_data=(x_test, x_test),\n",
    "               verbose=2)"
   ]
  },
  {
   "cell_type": "markdown",
   "metadata": {
    "colab_type": "text",
    "id": "FdjnEbpkOnMf"
   },
   "source": [
    "### Visualize reconstructions for train and validation data\n",
    "In the picture below you can see the reconstruction ability of your network on training and validation data. In each of the two images, the left column is MNIST images and the right column is the corresponding image after passing through autoencoder (or more precisely the mean of the binomial distribution over the output images).\n",
    "\n",
    "Note that getting the best possible reconstruction is not the point of VAE, the KL term of the objective specifically hurts the reconstruction performance. But the reconstruction should be anyway reasonable and they provide a visual debugging tool."
   ]
  },
  {
   "cell_type": "code",
   "execution_count": 88,
   "metadata": {
    "colab": {
     "base_uri": "https://localhost:8080/",
     "height": 607
    },
    "colab_type": "code",
    "id": "sDAjZV_kOnMf",
    "outputId": "66396f84-771e-4318-b820-d5548c6a4aef"
   },
   "outputs": [
    {
     "data": {
      "image/png": "[encoded data removed]",
      "text/plain": [
       "<Figure size 720x720 with 2 Axes>"
      ]
     },
     "metadata": {
      "tags": []
     },
     "output_type": "display_data"
    }
   ],
   "source": [
    "fig = plt.figure(figsize=(10, 10))\n",
    "for fid_idx, (data, title) in enumerate(\n",
    "            zip([x_train, x_test], ['Train', 'Validation'])):\n",
    "    n = 10  # figure with 10 x 2 digits\n",
    "    digit_size = 28\n",
    "    figure = np.zeros((digit_size * n, digit_size * 2))\n",
    "    decoded = sess.run(x_decoded_mean, feed_dict={x: data[:batch_size, :]})\n",
    "    for i in range(10):\n",
    "        figure[i * digit_size: (i + 1) * digit_size,\n",
    "               :digit_size] = data[i, :].reshape(digit_size, digit_size)\n",
    "        figure[i * digit_size: (i + 1) * digit_size,\n",
    "               digit_size:] = decoded[i, :].reshape(digit_size, digit_size)\n",
    "    ax = fig.add_subplot(1, 2, fid_idx + 1)\n",
    "    ax.imshow(figure, cmap='Greys_r')\n",
    "    ax.set_title(title)\n",
    "    ax.axis('off')\n",
    "plt.show()"
   ]
  },
  {
   "cell_type": "markdown",
   "metadata": {
    "colab_type": "text",
    "collapsed": true,
    "id": "95lpEe2cOnMi"
   },
   "source": [
    "### Sending the results of your best model as Task 3 submission"
   ]
  },
  {
   "cell_type": "code",
   "execution_count": 89,
   "metadata": {
    "colab": {
     "base_uri": "https://localhost:8080/",
     "height": 34
    },
    "colab_type": "code",
    "id": "KudUfupuOnMi",
    "outputId": "55a9bca2-3e69-4640-cf05-06c22b8389ba"
   },
   "outputs": [
    {
     "name": "stdout",
     "output_type": "stream",
     "text": [
      "Current answer for task 3 (best val loss) is: 105.01305953979492\n"
     ]
    }
   ],
   "source": [
    "grader.submit_best_val_loss(hist)"
   ]
  },
  {
   "cell_type": "markdown",
   "metadata": {
    "colab_type": "text",
    "id": "WEclzA3WOnMk"
   },
   "source": [
    "## Hallucinating new data\n",
    "**Task 4** Write code to generate new samples of images from your trained VAE. To do that you have to sample from the prior distribution $p(t)$ and then from the likelihood $p(x \\mid t)$.\n",
    "\n",
    "**Note** that the sampling you've written in Task 2 was for the variational distribution $q(t \\mid x)$, while here you need to sample from the prior."
   ]
  },
  {
   "cell_type": "code",
   "execution_count": 0,
   "metadata": {
    "colab": {},
    "colab_type": "code",
    "id": "jGLqzZD4OnMm"
   },
   "outputs": [],
   "source": [
    "n_samples = 10  # To pass automatic grading please use at least 2 samples here.\n",
    "# YOUR CODE HERE.\n",
    "# ...\n",
    "# sampled_im_mean is a tf.Tensor of size 10 x 784 with 10 random\n",
    "# images sampled from the vae model.\n",
    "sampled_im_mean = decoder(tf.random_normal((n_samples, latent_dim)))"
   ]
  },
  {
   "cell_type": "code",
   "execution_count": 91,
   "metadata": {
    "colab": {
     "base_uri": "https://localhost:8080/",
     "height": 185
    },
    "colab_type": "code",
    "id": "1Lzh_yW0OnMo",
    "outputId": "ad915807-bf85-46ff-b1cf-5b3f65934d4b"
   },
   "outputs": [
    {
     "data": {
      "image/png": "[encoded data removed]",
      "text/plain": [
       "<Figure size 432x288 with 10 Axes>"
      ]
     },
     "metadata": {
      "tags": []
     },
     "output_type": "display_data"
    }
   ],
   "source": [
    "sampled_im_mean_np = sess.run(sampled_im_mean)\n",
    "# Show the sampled images.\n",
    "plt.figure()\n",
    "for i in range(n_samples):\n",
    "    ax = plt.subplot(n_samples // 5 + 1, 5, i + 1)\n",
    "    plt.imshow(sampled_im_mean_np[i, :].reshape(28, 28), cmap='gray')\n",
    "    ax.axis('off')\n",
    "plt.show()"
   ]
  },
  {
   "cell_type": "code",
   "execution_count": 92,
   "metadata": {
    "colab": {
     "base_uri": "https://localhost:8080/",
     "height": 51
    },
    "colab_type": "code",
    "id": "6bqdpVNUOnMq",
    "outputId": "fab04e77-b572-463b-b37e-ae34f07fd99c"
   },
   "outputs": [
    {
     "name": "stdout",
     "output_type": "stream",
     "text": [
      "Current answer for task 4.1 (hallucinating mean) is: 0.11528353\n",
      "Current answer for task 4.2 (hallucinating var) is: 0.19076928\n"
     ]
    }
   ],
   "source": [
    "grader.submit_hallucinating(sess, sampled_im_mean)"
   ]
  },
  {
   "cell_type": "markdown",
   "metadata": {
    "colab_type": "text",
    "id": "VMuhWEYBOnMt"
   },
   "source": [
    "# Conditional VAE"
   ]
  },
  {
   "cell_type": "markdown",
   "metadata": {
    "colab_type": "text",
    "id": "ly1YYFktOnMu"
   },
   "source": [
    "In the final task, you will modify your code to obtain Conditional Variational Autoencoder [1]. The idea is very simple: to be able to control the samples you generate, we condition all the distributions on some additional information. In our case, this additional information will be the class label (the digit on the image, from 0 to 9).\n",
    "\n",
    "![](https://github.com/hse-aml/bayesian-methods-for-ml/blob/master/week5/CVAE.png?raw=1)\n",
    "\n",
    "So now both the likelihood and the variational distributions are conditioned on the class label: $p(x \\mid t, \\text{label}, w)$, $q(t \\mid x, \\text{label}, \\phi)$.\n",
    "\n",
    "The only thing you have to change in your code is to concatenate input image $x$ with (one-hot) label of this image to pass into the encoder $q$ and to concatenate latent code $t$ with the same label to pass into the decoder $p$. Note that it's slightly harder to do with convolutional encoder/decoder model.\n",
    "\n",
    "[1] Sohn, Kihyuk, Honglak Lee, and Xinchen Yan. “Learning Structured Output Representation using Deep Conditional Generative Models.” Advances in Neural Information Processing Systems. 2015."
   ]
  },
  {
   "cell_type": "markdown",
   "metadata": {
    "colab_type": "text",
    "id": "o6nvfNt0OnMv"
   },
   "source": [
    "## Final task"
   ]
  },
  {
   "cell_type": "markdown",
   "metadata": {
    "colab_type": "text",
    "id": "Tbk2ICH-OnMw"
   },
   "source": [
    "**Task 5.1** Implement CVAE model. You may reuse ```create_encoder``` and ```create_decoder``` modules defined previously (now you can see why they accept the input size as an argument ;) ). You may also need `concatenate` Keras layer to concatenate labels with input data and latent code.\n",
    "\n",
    "To finish this task, you should go to `Conditionally hallucinate data` section and find there Task 5.2"
   ]
  },
  {
   "cell_type": "code",
   "execution_count": 0,
   "metadata": {
    "colab": {},
    "colab_type": "code",
    "id": "BxgJjuAhOnMw"
   },
   "outputs": [],
   "source": [
    "# One-hot labels placeholder.\n",
    "x = Input(batch_shape=(batch_size, original_dim))\n",
    "label = Input(batch_shape=(batch_size, 10))\n",
    "\n",
    "# YOUR CODE HERE.\n",
    "# Mean of the latent code (without label) for cvae model.\n",
    "cond_encoder = create_encoder(original_dim+10)\n",
    "cond_h = cond_encoder(concatenate([x, label]))\n",
    "cond_t_mean = get_t_mean(cond_h)\n",
    "# Logarithm of the variance of the latent code (without label) for cvae model.\n",
    "cond_t_log_var = get_t_log_var(cond_h)\n",
    "# Final output of the cvae model.\n",
    "t = Lambda(sampling)([cond_t_mean, cond_t_log_var])\n",
    "cond_decoder = create_decoder(latent_dim + 10)\n",
    "cond_x_decoded_mean =  cond_decoder(concatenate([t, label]))"
   ]
  },
  {
   "cell_type": "markdown",
   "metadata": {
    "colab_type": "text",
    "id": "I49rDcnrOnMy"
   },
   "source": [
    "## Define the loss and the model"
   ]
  },
  {
   "cell_type": "code",
   "execution_count": 0,
   "metadata": {
    "colab": {},
    "colab_type": "code",
    "id": "Y1NvnF9yOnMz"
   },
   "outputs": [],
   "source": [
    "conditional_loss = vlb_binomial(x, cond_x_decoded_mean, cond_t_mean, cond_t_log_var)\n",
    "cvae = Model([x, label], cond_x_decoded_mean)\n",
    "cvae.compile(optimizer=keras.optimizers.RMSprop(lr=0.001), loss=lambda x, y: conditional_loss)"
   ]
  },
  {
   "cell_type": "markdown",
   "metadata": {
    "colab_type": "text",
    "id": "S9Jy93oNOnM0"
   },
   "source": [
    "### Train the model"
   ]
  },
  {
   "cell_type": "code",
   "execution_count": 95,
   "metadata": {
    "colab": {
     "base_uri": "https://localhost:8080/",
     "height": 1734
    },
    "colab_type": "code",
    "id": "Hz9X7fVNOnM0",
    "outputId": "299a328e-34b6-4089-e0b4-563d7ae4e5fb"
   },
   "outputs": [
    {
     "name": "stdout",
     "output_type": "stream",
     "text": [
      "Train on 60000 samples, validate on 10000 samples\n",
      "Epoch 1/50\n",
      " - 2s - loss: 162.3537 - val_loss: 136.8614\n",
      "Epoch 2/50\n",
      " - 2s - loss: 131.7378 - val_loss: 126.0215\n",
      "Epoch 3/50\n",
      " - 2s - loss: 121.9834 - val_loss: 117.2355\n",
      "Epoch 4/50\n",
      " - 2s - loss: 115.7631 - val_loss: 113.5819\n",
      "Epoch 5/50\n",
      " - 2s - loss: 111.8585 - val_loss: 109.3537\n",
      "Epoch 6/50\n",
      " - 2s - loss: 109.5482 - val_loss: 107.7646\n",
      "Epoch 7/50\n",
      " - 2s - loss: 108.1563 - val_loss: 106.7085\n",
      "Epoch 8/50\n",
      " - 2s - loss: 107.0968 - val_loss: 106.5787\n",
      "Epoch 9/50\n",
      " - 2s - loss: 106.2972 - val_loss: 104.7639\n",
      "Epoch 10/50\n",
      " - 2s - loss: 105.6898 - val_loss: 104.6530\n",
      "Epoch 11/50\n",
      " - 2s - loss: 105.2174 - val_loss: 104.3277\n",
      "Epoch 12/50\n",
      " - 2s - loss: 104.8156 - val_loss: 104.4255\n",
      "Epoch 13/50\n",
      " - 2s - loss: 104.4695 - val_loss: 103.4180\n",
      "Epoch 14/50\n",
      " - 2s - loss: 104.1225 - val_loss: 103.6210\n",
      "Epoch 15/50\n",
      " - 2s - loss: 103.8902 - val_loss: 102.8933\n",
      "Epoch 16/50\n",
      " - 2s - loss: 103.6237 - val_loss: 102.7928\n",
      "Epoch 17/50\n",
      " - 2s - loss: 103.4079 - val_loss: 102.5680\n",
      "Epoch 18/50\n",
      " - 2s - loss: 103.2494 - val_loss: 102.6020\n",
      "Epoch 19/50\n",
      " - 2s - loss: 103.0584 - val_loss: 102.2547\n",
      "Epoch 20/50\n",
      " - 2s - loss: 102.8950 - val_loss: 102.2791\n",
      "Epoch 21/50\n",
      " - 2s - loss: 102.7337 - val_loss: 102.2253\n",
      "Epoch 22/50\n",
      " - 2s - loss: 102.6255 - val_loss: 102.8757\n",
      "Epoch 23/50\n",
      " - 2s - loss: 102.5219 - val_loss: 101.5462\n",
      "Epoch 24/50\n",
      " - 2s - loss: 102.3931 - val_loss: 101.6382\n",
      "Epoch 25/50\n",
      " - 2s - loss: 102.2842 - val_loss: 102.9653\n",
      "Epoch 26/50\n",
      " - 2s - loss: 102.1651 - val_loss: 101.5615\n",
      "Epoch 27/50\n",
      " - 2s - loss: 102.0723 - val_loss: 102.8959\n",
      "Epoch 28/50\n",
      " - 2s - loss: 102.0237 - val_loss: 101.3028\n",
      "Epoch 29/50\n",
      " - 2s - loss: 101.9164 - val_loss: 101.6220\n",
      "Epoch 30/50\n",
      " - 2s - loss: 101.8444 - val_loss: 101.2746\n",
      "Epoch 31/50\n",
      " - 2s - loss: 101.7530 - val_loss: 101.4391\n",
      "Epoch 32/50\n",
      " - 2s - loss: 101.6499 - val_loss: 101.3518\n",
      "Epoch 33/50\n",
      " - 2s - loss: 101.6171 - val_loss: 101.4622\n",
      "Epoch 34/50\n",
      " - 2s - loss: 101.5375 - val_loss: 100.9029\n",
      "Epoch 35/50\n",
      " - 2s - loss: 101.4837 - val_loss: 101.8094\n",
      "Epoch 36/50\n",
      " - 2s - loss: 101.4616 - val_loss: 101.3361\n",
      "Epoch 37/50\n",
      " - 2s - loss: 101.3820 - val_loss: 101.1759\n",
      "Epoch 38/50\n",
      " - 2s - loss: 101.3049 - val_loss: 101.5745\n",
      "Epoch 39/50\n",
      " - 2s - loss: 101.2415 - val_loss: 101.3494\n",
      "Epoch 40/50\n",
      " - 2s - loss: 101.1788 - val_loss: 101.6459\n",
      "Epoch 41/50\n",
      " - 2s - loss: 101.1486 - val_loss: 100.5151\n",
      "Epoch 42/50\n",
      " - 2s - loss: 101.0598 - val_loss: 100.9528\n",
      "Epoch 43/50\n",
      " - 2s - loss: 101.0535 - val_loss: 101.3377\n",
      "Epoch 44/50\n",
      " - 2s - loss: 101.0361 - val_loss: 101.1273\n",
      "Epoch 45/50\n",
      " - 2s - loss: 100.9645 - val_loss: 100.8268\n",
      "Epoch 46/50\n",
      " - 2s - loss: 100.9106 - val_loss: 100.9615\n",
      "Epoch 47/50\n",
      " - 2s - loss: 100.8995 - val_loss: 101.1941\n",
      "Epoch 48/50\n",
      " - 2s - loss: 100.8455 - val_loss: 101.0969\n",
      "Epoch 49/50\n",
      " - 2s - loss: 100.8326 - val_loss: 100.3742\n",
      "Epoch 50/50\n",
      " - 2s - loss: 100.7928 - val_loss: 100.4490\n"
     ]
    }
   ],
   "source": [
    "hist = cvae.fit(x=[x_train, y_train],\n",
    "                y=x_train,\n",
    "                shuffle=True,\n",
    "                epochs= 50,\n",
    "                batch_size=batch_size,\n",
    "                validation_data=([x_test, y_test], x_test),\n",
    "                verbose=2)"
   ]
  },
  {
   "cell_type": "markdown",
   "metadata": {
    "colab_type": "text",
    "id": "vweB4rkDOnM5"
   },
   "source": [
    "### Visualize reconstructions for train and validation data"
   ]
  },
  {
   "cell_type": "code",
   "execution_count": 96,
   "metadata": {
    "colab": {
     "base_uri": "https://localhost:8080/",
     "height": 607
    },
    "colab_type": "code",
    "id": "c2KreOnWOnM6",
    "outputId": "3a056382-c743-4cc3-ff11-354257631512"
   },
   "outputs": [
    {
     "data": {
      "image/png": "[encoded data removed]",
      "text/plain": [
       "<Figure size 720x720 with 2 Axes>"
      ]
     },
     "metadata": {
      "tags": []
     },
     "output_type": "display_data"
    }
   ],
   "source": [
    "fig = plt.figure(figsize=(10, 10))\n",
    "for fid_idx, (x_data, y_data, title) in enumerate(\n",
    "            zip([x_train, x_test], [y_train, y_test], ['Train', 'Validation'])):\n",
    "    n = 10  # figure with 10 x 2 digits\n",
    "    digit_size = 28\n",
    "    figure = np.zeros((digit_size * n, digit_size * 2))\n",
    "    decoded = sess.run(cond_x_decoded_mean,\n",
    "                       feed_dict={x: x_data[:batch_size, :],\n",
    "                                  label: y_data[:batch_size, :]})\n",
    "    for i in range(10):\n",
    "        figure[i * digit_size: (i + 1) * digit_size,\n",
    "               :digit_size] = x_data[i, :].reshape(digit_size, digit_size)\n",
    "        figure[i * digit_size: (i + 1) * digit_size,\n",
    "               digit_size:] = decoded[i, :].reshape(digit_size, digit_size)\n",
    "    ax = fig.add_subplot(1, 2, fid_idx + 1)\n",
    "    ax.imshow(figure, cmap='Greys_r')\n",
    "    ax.set_title(title)\n",
    "    ax.axis('off')\n",
    "plt.show()"
   ]
  },
  {
   "cell_type": "markdown",
   "metadata": {
    "colab_type": "text",
    "id": "qYZ0_FiQOnM8"
   },
   "source": [
    "## Conditionally hallucinate data\n",
    "**Task 5.2** Implement the conditional sampling from the distribution $p(x \\mid t, \\text{label})$ by firstly sampling from the prior $p(t)$ and then sampling from the likelihood $p(x \\mid t, \\text{label})$."
   ]
  },
  {
   "cell_type": "code",
   "execution_count": 0,
   "metadata": {
    "colab": {},
    "colab_type": "code",
    "id": "5f6pIbveOnM-"
   },
   "outputs": [],
   "source": [
    "# Prepare one hot labels of form\n",
    "#   0 0 0 0 0 1 1 1 1 1 2 2 2 2 2 ...\n",
    "# to sample five zeros, five ones, etc\n",
    "curr_labels = np.eye(10)\n",
    "curr_labels = np.repeat(curr_labels, 5, axis=0)  # Its shape is 50 x 10.\n",
    "# YOUR CODE HERE.\n",
    "# ...\n",
    "# cond_sampled_im_mean is a tf.Tensor of size 50 x 784 with 5 random zeros,\n",
    "# then 5 random ones, etc sampled from the cvae model.\n",
    "tensor_labs = tf.convert_to_tensor(curr_labels, dtype = tf.float32)\n",
    "latent_vars = tf.random_normal((50, latent_dim))\n",
    "cond_sampled_im_mean = cond_decoder(concatenate([latent_vars, tensor_labs]))"
   ]
  },
  {
   "cell_type": "code",
   "execution_count": 0,
   "metadata": {
    "colab": {},
    "colab_type": "code",
    "id": "S9DKAL2xOnNA"
   },
   "outputs": [],
   "source": [
    "cond_sampled_im_mean_np = sess.run(cond_sampled_im_mean)\n",
    "# Show the sampled images.\n",
    "plt.figure(figsize=(10, 10))\n",
    "global_idx = 0\n",
    "for digit in range(10):\n",
    "    for _ in range(5):\n",
    "        ax = plt.subplot(10, 5, global_idx + 1)\n",
    "        plt.imshow(cond_sampled_im_mean_np[global_idx, :].reshape(28, 28), cmap='gray')\n",
    "        ax.axis('off')\n",
    "        global_idx += 1\n",
    "plt.show()"
   ]
  },
  {
   "cell_type": "code",
   "execution_count": 71,
   "metadata": {
    "colab": {
     "base_uri": "https://localhost:8080/",
     "height": 51
    },
    "colab_type": "code",
    "id": "qyz9NleMOnNC",
    "outputId": "75920930-adf6-4e1e-a98d-4700adb4847b"
   },
   "outputs": [
    {
     "name": "stdout",
     "output_type": "stream",
     "text": [
      "Current answer for task 5.1 (conditional hallucinating mean) is: 0.08458742200370199\n",
      "Current answer for task 5.2 (conditional hallucinating var) is: 0.05751954066816379\n"
     ]
    }
   ],
   "source": [
    "# Submit Task 5 (both 5.1 and 5.2).\n",
    "grader.submit_conditional_hallucinating(sess, cond_sampled_im_mean)"
   ]
  },
  {
   "cell_type": "markdown",
   "metadata": {
    "colab_type": "text",
    "id": "zMoVsQogOnNF"
   },
   "source": [
    "# Authorization & Submission\n",
    "To submit assignment parts to Cousera platform, please, enter your e-mail and token into variables below. You can generate a token on this programming assignment's page. <b>Note:</b> The token expires 30 minutes after generation."
   ]
  },
  {
   "cell_type": "code",
   "execution_count": 99,
   "metadata": {
    "colab": {
     "base_uri": "https://localhost:8080/",
     "height": 170
    },
    "colab_type": "code",
    "id": "Pz5iFHZoOnNG",
    "outputId": "3c925498-0ce8-4736-9552-03536b98504a"
   },
   "outputs": [
    {
     "name": "stdout",
     "output_type": "stream",
     "text": [
      "You want to submit these numbers:\n",
      "Task 1 (vlb): 157.59705\n",
      "Task 2.1 (samples mean): -0.120831124\n",
      "Task 2.2 (samples var): 0.036648326\n",
      "Task 3 (best val loss): 105.01305953979492\n",
      "Task 4.1 (hallucinating mean): 0.11528353\n",
      "Task 4.2 (hallucinating var): 0.19076928\n",
      "Task 5.1 (conditional hallucinating mean): 0.08458742200370199\n",
      "Task 5.2 (conditional hallucinating var): 0.05751954066816379\n"
     ]
    }
   ],
   "source": [
    "STUDENT_EMAIL =  # EMAIL HERE\n",
    "STUDENT_TOKEN =  # TOKEN HERE\n",
    "grader.status()"
   ]
  },
  {
   "cell_type": "code",
   "execution_count": 100,
   "metadata": {
    "colab": {
     "base_uri": "https://localhost:8080/",
     "height": 34
    },
    "colab_type": "code",
    "id": "dPjLc1JpOnNL",
    "outputId": "b8222152-7510-496f-97b4-78b550d08ebc"
   },
   "outputs": [
    {
     "name": "stdout",
     "output_type": "stream",
     "text": [
      "Submitted to Coursera platform. See results on assignment page!\n"
     ]
    }
   ],
   "source": [
    "grader.submit(STUDENT_EMAIL, STUDENT_TOKEN)"
   ]
  },
  {
   "cell_type": "markdown",
   "metadata": {
    "colab_type": "text",
    "id": "0GPFxR6cOnNV"
   },
   "source": [
    "# Playtime (UNGRADED)\n",
    "Once you passed all the tests, modify the code above to work with the mixture of Gaussian distributions (in contrast to the mixture of Binomial distributions), and redo the experiments with CIFAR-10 dataset, which are full-color natural images with much more diverse structure."
   ]
  },
  {
   "cell_type": "code",
   "execution_count": 101,
   "metadata": {
    "colab": {
     "base_uri": "https://localhost:8080/",
     "height": 51
    },
    "colab_type": "code",
    "id": "W-Gv4MoqOnNW",
    "outputId": "ae2107a5-8c32-4cda-e8ba-b468edfb99e6"
   },
   "outputs": [
    {
     "name": "stdout",
     "output_type": "stream",
     "text": [
      "Downloading data from https://www.cs.toronto.edu/~kriz/cifar-10-python.tar.gz\n",
      "170500096/170498071 [==============================] - 17s 0us/step\n"
     ]
    }
   ],
   "source": [
    "from keras.datasets import cifar10\n",
    "(x_train, y_train), (x_test, y_test) = cifar10.load_data()"
   ]
  },
  {
   "cell_type": "code",
   "execution_count": 102,
   "metadata": {
    "colab": {
     "base_uri": "https://localhost:8080/",
     "height": 269
    },
    "colab_type": "code",
    "id": "YlMJkjGcOnNa",
    "outputId": "b529d607-5b68-4f4c-a283-fa004d477ec6"
   },
   "outputs": [
    {
     "data": {
      "image/png": "[encoded data removed]",
      "text/plain": [
       "<Figure size 432x288 with 1 Axes>"
      ]
     },
     "metadata": {
      "tags": []
     },
     "output_type": "display_data"
    }
   ],
   "source": [
    "plt.imshow(x_train[7, :])\n",
    "plt.show()"
   ]
  },
  {
   "cell_type": "code",
   "execution_count": 0,
   "metadata": {
    "colab": {},
    "colab_type": "code",
    "id": "q98v82S7OnNd"
   },
   "outputs": [],
   "source": []
  }
 ],
 "metadata": {
  "accelerator": "GPU",
  "colab": {
   "collapsed_sections": [],
   "name": "Copy of Vae_assignment.ipynb",
   "provenance": [],
   "version": "0.3.2"
  },
  "kernelspec": {
   "display_name": "Python 3",
   "language": "python",
   "name": "python3"
  },
  "language_info": {
   "codemirror_mode": {
    "name": "ipython",
    "version": 3
   },
   "file_extension": ".py",
   "mimetype": "text/x-python",
   "name": "python",
   "nbconvert_exporter": "python",
   "pygments_lexer": "ipython3",
   "version": "3.6.7"
  }
 },
 "nbformat": 4,
 "nbformat_minor": 1
}
