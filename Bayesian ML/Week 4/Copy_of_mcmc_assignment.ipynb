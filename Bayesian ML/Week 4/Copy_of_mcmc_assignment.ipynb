{
  "nbformat": 4,
  "nbformat_minor": 0,
  "metadata": {
    "colab": {
      "name": "Copy of mcmc_assignment.ipynb",
      "version": "0.3.2",
      "provenance": []
    },
    "language_info": {
      "codemirror_mode": {
        "name": "ipython",
        "version": 3
      },
      "file_extension": ".py",
      "mimetype": "text/x-python",
      "name": "python",
      "nbconvert_exporter": "python",
      "pygments_lexer": "ipython3",
      "version": "3.6.7"
    },
    "kernelspec": {
      "name": "python3",
      "display_name": "Python 3"
    },
    "accelerator": "GPU"
  },
  "cells": [
    {
      "cell_type": "markdown",
      "metadata": {
        "id": "Pbhl_i1T_bjq",
        "colab_type": "text"
      },
      "source": [
        "# First things first\n",
        "Click **File -> Save a copy in Drive** and click **Open in new tab** in the pop-up window to save your progress in Google Drive."
      ]
    },
    {
      "cell_type": "markdown",
      "metadata": {
        "id": "c7PdLbGt_bjr",
        "colab_type": "text"
      },
      "source": [
        "# Using PyMC3"
      ]
    },
    {
      "cell_type": "markdown",
      "metadata": {
        "id": "werDdBZn_bjs",
        "colab_type": "text"
      },
      "source": [
        "In this assignment, we will learn how to use a library for probabilistic programming and inference called <a href=\"http://docs.pymc.io/\">PyMC3</a>."
      ]
    },
    {
      "cell_type": "markdown",
      "metadata": {
        "id": "Du0N4rV5_bjs",
        "colab_type": "text"
      },
      "source": [
        "### Setup\n",
        "Loading auxiliary files and importing the necessary libraries."
      ]
    },
    {
      "cell_type": "code",
      "metadata": {
        "id": "YbA7eNi6_bjt",
        "colab_type": "code",
        "outputId": "c74956bd-7d55-4c5a-ccdf-fd93d1f9f0fc",
        "colab": {
          "base_uri": "https://localhost:8080/",
          "height": 221
        }
      },
      "source": [
        "try:\n",
        "    import google.colab\n",
        "    IN_COLAB = True\n",
        "except:\n",
        "    IN_COLAB = False\n",
        "if IN_COLAB:\n",
        "    print(\"Downloading Colab files\")\n",
        "    ! shred -u setup_google_colab.py\n",
        "    ! wget https://raw.githubusercontent.com/hse-aml/bayesian-methods-for-ml/master/setup_google_colab.py -O setup_google_colab.py\n",
        "    import setup_google_colab\n",
        "    setup_google_colab.load_data_week4()"
      ],
      "execution_count": 0,
      "outputs": [
        {
          "output_type": "stream",
          "text": [
            "Downloading Colab files\n",
            "--2019-05-22 07:57:53--  https://raw.githubusercontent.com/hse-aml/bayesian-methods-for-ml/master/setup_google_colab.py\n",
            "Resolving raw.githubusercontent.com (raw.githubusercontent.com)... 151.101.0.133, 151.101.64.133, 151.101.128.133, ...\n",
            "Connecting to raw.githubusercontent.com (raw.githubusercontent.com)|151.101.0.133|:443... connected.\n",
            "HTTP request sent, awaiting response... 200 OK\n",
            "Length: 1308 (1.3K) [text/plain]\n",
            "Saving to: ‘setup_google_colab.py’\n",
            "\n",
            "setup_google_colab. 100%[===================>]   1.28K  --.-KB/s    in 0s      \n",
            "\n",
            "2019-05-22 07:57:54 (244 MB/s) - ‘setup_google_colab.py’ saved [1308/1308]\n",
            "\n"
          ],
          "name": "stdout"
        }
      ]
    },
    {
      "cell_type": "code",
      "metadata": {
        "id": "eKiUYRlt_bjw",
        "colab_type": "code",
        "outputId": "1e6d3484-904a-47c6-ef77-0edd27c30e5b",
        "colab": {
          "base_uri": "https://localhost:8080/",
          "height": 34
        }
      },
      "source": [
        "import numpy as np\n",
        "import pandas as pd\n",
        "import numpy.random as rnd\n",
        "import seaborn as sns\n",
        "from matplotlib import animation\n",
        "import pymc3 as pm\n",
        "from w4_grader import MCMCGrader\n",
        "%pylab inline"
      ],
      "execution_count": 0,
      "outputs": [
        {
          "output_type": "stream",
          "text": [
            "Populating the interactive namespace from numpy and matplotlib\n"
          ],
          "name": "stdout"
        }
      ]
    },
    {
      "cell_type": "markdown",
      "metadata": {
        "id": "_cSPSjsn_bjx",
        "colab_type": "text"
      },
      "source": [
        "### Grading\n",
        "We will create a grader instance below and use it to collect your answers. Note that these outputs will be stored locally inside grader and will be uploaded to the platform only after running submitting function in the last part of this assignment. If you want to make a partial submission, you can run that cell anytime you want."
      ]
    },
    {
      "cell_type": "code",
      "metadata": {
        "id": "gYbycCz1_bjy",
        "colab_type": "code",
        "colab": {}
      },
      "source": [
        "grader = MCMCGrader()"
      ],
      "execution_count": 0,
      "outputs": []
    },
    {
      "cell_type": "markdown",
      "metadata": {
        "id": "O7EXVkIM_bjz",
        "colab_type": "text"
      },
      "source": [
        "## Task 1. Alice and Bob\n",
        "\n",
        "Alice and Bob are trading on the market. Both of them are selling the Thing and want to get as high profit as possible.\n",
        "Every hour they check out with each other's prices and adjust their prices to compete on the market. Although they have different strategies for price setting.\n",
        "\n",
        "**Alice**: takes Bob's price during the **previous** hour, multiply by 0.6, add \\\\$90, add Gaussian noise from $N(0, 20^2)$.\n",
        "\n",
        "**Bob**: takes Alice's price during the **current** hour, multiply by 1.2 and subtract \\\\$20, add Gaussian noise from $N(0, 10^2)$.\n",
        "\n",
        "The problem is to find the joint distribution of Alice and Bob's prices after many hours of such an experiment."
      ]
    },
    {
      "cell_type": "markdown",
      "metadata": {
        "id": "oZYDCFhU_bj0",
        "colab_type": "text"
      },
      "source": [
        "### Task 1.1\n",
        "\n",
        "Implement the `run_simulation` function according to the description above. "
      ]
    },
    {
      "cell_type": "code",
      "metadata": {
        "id": "_AewOP97_bj0",
        "colab_type": "code",
        "colab": {}
      },
      "source": [
        "def run_simulation(alice_start_price=300.0, bob_start_price=300.0, seed=42, num_hours=10000, burnin=1000):\n",
        "    \"\"\"Simulates an evolution of prices set by Bob and Alice.\n",
        "    \n",
        "    The function should simulate Alice and Bob behavior for `burnin' hours, then ignore the obtained\n",
        "    simulation results, and then simulate it for `num_hours' more.\n",
        "    The initial burnin (also sometimes called warmup) is done to make sure that the distribution stabilized.\n",
        "    \n",
        "    Please don't change the signature of the function.\n",
        "    \n",
        "    Returns:\n",
        "        two lists, with Alice and with Bob prices. Both lists should be of length num_hours.\n",
        "    \"\"\"\n",
        "    np.random.seed(seed)\n",
        "\n",
        "    alice_prices = [alice_start_price]\n",
        "    bob_prices = [bob_start_price]\n",
        "    \n",
        "    #### YOUR CODE HERE ####\n",
        "    for hour in range(num_hours):\n",
        "      \n",
        "      alice = (bob_prices[-1]*0.6) + 90 + np.random.normal(scale = 20)\n",
        "      alice_prices.append(alice)\n",
        "      \n",
        "      bob = (alice*1.20) - 20 + np.random.normal(scale = 10)\n",
        "      bob_prices.append(bob)\n",
        "    \n",
        "    \n",
        "    ### END OF YOUR CODE ###\n",
        "    \n",
        "    return alice_prices[burnin:], bob_prices[burnin:]"
      ],
      "execution_count": 0,
      "outputs": []
    },
    {
      "cell_type": "code",
      "metadata": {
        "id": "3uT24DFL_bj2",
        "colab_type": "code",
        "outputId": "79cc2bc1-73cc-407d-c787-367f9d62e65f",
        "colab": {
          "base_uri": "https://localhost:8080/",
          "height": 51
        }
      },
      "source": [
        "alice_prices, bob_prices = run_simulation(alice_start_price=300, bob_start_price=300, seed=42, num_hours=3, burnin=1)\n",
        "if len(alice_prices) != 3:\n",
        "    raise RuntimeError('Make sure that the function returns `num_hours` data points.')\n",
        "grader.submit_simulation_trajectory(alice_prices, bob_prices)"
      ],
      "execution_count": 0,
      "outputs": [
        {
          "output_type": "stream",
          "text": [
            "Current answer for task 1.1 (Alice trajectory) is: 279.93428306022463  291.67686875834846\n",
            "Current answer for task 1.1 (Bob trajectory) is: 314.5384966605577  345.2425410740984\n"
          ],
          "name": "stdout"
        }
      ]
    },
    {
      "cell_type": "markdown",
      "metadata": {
        "id": "ZGxeTD5i_bj4",
        "colab_type": "text"
      },
      "source": [
        "### Task 1.2\n",
        "What is the average price for Alice and Bob after the burn-in period? Whose prices are higher?"
      ]
    },
    {
      "cell_type": "code",
      "metadata": {
        "id": "NHrgynphAElC",
        "colab_type": "code",
        "colab": {}
      },
      "source": [
        "alice_prices, bob_prices = run_simulation()"
      ],
      "execution_count": 0,
      "outputs": []
    },
    {
      "cell_type": "code",
      "metadata": {
        "id": "Dq49fr4y_bj4",
        "colab_type": "code",
        "outputId": "9c257ef2-5071-4b65-c590-87de54039f48",
        "colab": {
          "base_uri": "https://localhost:8080/",
          "height": 51
        }
      },
      "source": [
        "#### YOUR CODE HERE ####\n",
        "average_alice_price = np.mean(alice_prices)\n",
        "average_bob_price = np.mean(bob_prices)\n",
        "### END OF YOUR CODE ###\n",
        "grader.submit_simulation_mean(average_alice_price, average_bob_price)"
      ],
      "execution_count": 0,
      "outputs": [
        {
          "output_type": "stream",
          "text": [
            "Current answer for task 1.2 (Alice mean) is: 278.62821295463834\n",
            "Current answer for task 1.2 (Bob mean) is: 314.37642287694996\n"
          ],
          "name": "stdout"
        }
      ]
    },
    {
      "cell_type": "markdown",
      "metadata": {
        "id": "waFH5ptV_bj6",
        "colab_type": "text"
      },
      "source": [
        "### Task 1.3\n",
        "\n",
        "Let's look at the 2-d histogram of prices, computed using kernel density estimation."
      ]
    },
    {
      "cell_type": "code",
      "metadata": {
        "id": "h0PQgpih_bj7",
        "colab_type": "code",
        "outputId": "ef864155-60c3-4b02-866f-fb5662eb8c12",
        "colab": {
          "base_uri": "https://localhost:8080/",
          "height": 458
        }
      },
      "source": [
        "data = np.array(run_simulation())\n",
        "sns.jointplot(data[0, :], data[1, :], stat_func=None, kind='kde')"
      ],
      "execution_count": 0,
      "outputs": [
        {
          "output_type": "execute_result",
          "data": {
            "text/plain": [
              "<seaborn.axisgrid.JointGrid at 0x7f07d6a5cc50>"
            ]
          },
          "metadata": {
            "tags": []
          },
          "execution_count": 8
        },
        {
          "output_type": "display_data",
          "data": {
            "image/png": "[encoded data removed]",
            "text/plain": [
              "<Figure size 432x432 with 3 Axes>"
            ]
          },
          "metadata": {
            "tags": []
          }
        }
      ]
    },
    {
      "cell_type": "markdown",
      "metadata": {
        "id": "JLPBKt8h_bj-",
        "colab_type": "text"
      },
      "source": [
        "Clearly, the prices of Bob and Alce are highly correlated. What is the Pearson correlation coefficient of Alice and Bob prices?"
      ]
    },
    {
      "cell_type": "code",
      "metadata": {
        "id": "HV2YTS4n_bj-",
        "colab_type": "code",
        "outputId": "69ecc6e5-29c8-4922-8758-a6ff582a5137",
        "colab": {
          "base_uri": "https://localhost:8080/",
          "height": 34
        }
      },
      "source": [
        "#### YOUR CODE HERE ####\n",
        "correlation = np.corrcoef(data[0, :], data[1, :])[0][1]\n",
        "\n",
        "### END OF YOUR CODE ###\n",
        "grader.submit_simulation_correlation(correlation)"
      ],
      "execution_count": 0,
      "outputs": [
        {
          "output_type": "stream",
          "text": [
            "Current answer for task 1.3 (Bob and Alice prices correlation) is: 0.9636340025161768\n"
          ],
          "name": "stdout"
        }
      ]
    },
    {
      "cell_type": "markdown",
      "metadata": {
        "id": "fjXUV6fv_bkA",
        "colab_type": "text"
      },
      "source": [
        "### Task 1.4"
      ]
    },
    {
      "cell_type": "markdown",
      "metadata": {
        "id": "Kd3L5lMf_bkA",
        "colab_type": "text"
      },
      "source": [
        "We observe an interesting effect here: seems like the bivariate distribution of Alice and Bob prices converges to a correlated bivariate Gaussian distribution.\n",
        "\n",
        "Let's check, whether the results change if we use different random seed and starting points."
      ]
    },
    {
      "cell_type": "code",
      "metadata": {
        "id": "ftNgv9PLBIJx",
        "colab_type": "code",
        "outputId": "10ea9d76-70f0-4195-e87b-5c45a5125115",
        "colab": {
          "base_uri": "https://localhost:8080/",
          "height": 187
        }
      },
      "source": [
        "import random\n",
        "for i in range(5):\n",
        "  bob_price = random.choice(range(1, 1001))\n",
        "  alice_price = random.choice(range(1, 1001))\n",
        "  price_data = np.array(run_simulation(alice_start_price = alice_price, bob_start_price = bob_price))\n",
        "  print(np.corrcoef(price_data[0, :], price_data[1, :]))"
      ],
      "execution_count": 0,
      "outputs": [
        {
          "output_type": "stream",
          "text": [
            "[[1.       0.963634]\n",
            " [0.963634 1.      ]]\n",
            "[[1.       0.963634]\n",
            " [0.963634 1.      ]]\n",
            "[[1.       0.963634]\n",
            " [0.963634 1.      ]]\n",
            "[[1.       0.963634]\n",
            " [0.963634 1.      ]]\n",
            "[[1.       0.963634]\n",
            " [0.963634 1.      ]]\n"
          ],
          "name": "stdout"
        }
      ]
    },
    {
      "cell_type": "code",
      "metadata": {
        "id": "J5oLDDAVCJbr",
        "colab_type": "code",
        "outputId": "376599aa-1be7-48c7-ebb4-96fc0e3ab2e5",
        "colab": {
          "base_uri": "https://localhost:8080/",
          "height": 187
        }
      },
      "source": [
        "for i in range(5):\n",
        "  curr_seed = random.choice(range(1, 1001))\n",
        "  seed_data = np.array(run_simulation(seed = curr_seed))\n",
        "  print(np.corrcoef(seed_data[0, :], data[1, :]))"
      ],
      "execution_count": 0,
      "outputs": [
        {
          "output_type": "stream",
          "text": [
            "[[ 1.         -0.04006093]\n",
            " [-0.04006093  1.        ]]\n",
            "[[1.         0.02099477]\n",
            " [0.02099477 1.        ]]\n",
            "[[ 1.         -0.01498943]\n",
            " [-0.01498943  1.        ]]\n",
            "[[1.         0.00277774]\n",
            " [0.00277774 1.        ]]\n",
            "[[ 1.         -0.00227249]\n",
            " [-0.00227249  1.        ]]\n"
          ],
          "name": "stdout"
        }
      ]
    },
    {
      "cell_type": "code",
      "metadata": {
        "id": "dVB4XyF7_bkB",
        "colab_type": "code",
        "outputId": "f7456e67-e554-4079-beb5-eca400fa0356",
        "colab": {
          "base_uri": "https://localhost:8080/",
          "height": 34
        }
      },
      "source": [
        "# Pick different starting prices, e.g 10, 1000, 10000 for Bob and Alice. \n",
        "# Does the joint distribution of the two prices depend on these parameters?\n",
        "POSSIBLE_ANSWERS = {\n",
        "    0: 'Depends on random seed and starting prices', \n",
        "    1: 'Depends only on random seed',\n",
        "    2: 'Depends only on starting prices',\n",
        "    3: 'Does not depend on random seed and starting prices'\n",
        "}\n",
        "\n",
        "### TYPE THE INDEX OF THE CORRECT ANSWER HERE ###\n",
        "idx = 3\n",
        "answer = POSSIBLE_ANSWERS[idx]\n",
        "grader.submit_simulation_depends(answer)"
      ],
      "execution_count": 0,
      "outputs": [
        {
          "output_type": "stream",
          "text": [
            "Current answer for task 1.4 (depends on the random data or not) is: Does not depend on random seed and starting prices\n"
          ],
          "name": "stdout"
        }
      ]
    },
    {
      "cell_type": "markdown",
      "metadata": {
        "collapsed": true,
        "id": "aw1SXwUI_bkC",
        "colab_type": "text"
      },
      "source": [
        "## Task 2. Logistic regression with PyMC3\n",
        "\n",
        "Logistic regression is a powerful model that allows you to analyze how a set of features affects some binary target label. Posterior distribution over the weights gives us an estimation of the influence of each particular feature on the probability of the target being equal to one. But most importantly, posterior distribution gives us the interval estimates for each weight of the model. This is very important for data analysis when you want to not only provide a good model but also estimate the uncertainty of your conclusions.\n",
        "\n",
        "In this task, we will learn how to use PyMC3 library to perform approximate Bayesian inference for logistic regression.\n",
        "\n",
        "This part of the assignment is based on the logistic regression tutorial by Peadar Coyle and J. Benjamin Cook."
      ]
    },
    {
      "cell_type": "markdown",
      "metadata": {
        "id": "21XXPouE_bkC",
        "colab_type": "text"
      },
      "source": [
        "### Logistic regression.\n",
        "\n",
        "The problem here is to model how the probability that a person has salary $\\geq$ \\\\$50K is affected by his/her age, education, sex and other features.\n",
        "\n",
        "Let $y_i = 1$ if i-th person's salary is $\\geq$ \\\\$50K and $y_i = 0$ otherwise. Let $x_{ij}$ be $j$-th feature of $i$-th person.\n",
        "\n",
        "Logistic regression models this probabilty in the following way:\n",
        "\n",
        "$$p(y_i = 1 \\mid \\beta) = \\sigma (\\beta_1 x_{i1} + \\beta_2 x_{i2} + \\dots + \\beta_k x_{ik} ), $$\n",
        "\n",
        "where $\\sigma(t) = \\frac1{1 + e^{-t}}$"
      ]
    },
    {
      "cell_type": "markdown",
      "metadata": {
        "id": "2Bp4jg6d_bkD",
        "colab_type": "text"
      },
      "source": [
        "#### Odds ratio.\n",
        "Let's try to answer the following question: does the gender of a person affects his or her salary? To do it we will use the concept of *odds*.\n",
        "\n",
        "If we have a binary random variable $y$ (which may indicate whether a person makes \\\\$50K) and if the probabilty of the positive outcome $p(y = 1)$ is for example 0.8, we will say that the *odds* are 4 to 1 (or just 4 for short), because succeding is 4 time more likely than failing $\\frac{p(y = 1)}{p(y = 0)} = \\frac{0.8}{0.2} = 4$.\n",
        "\n",
        "Now, let's return to the effect of gender on the salary. Let's compute the **ratio** between the odds of a male having salary $\\geq $ \\\\$50K and the odds of a female (with the same level of education, experience and everything else) having salary $\\geq$ \\\\$50K. The first feature of each person in the dataset is gender. Specifically, $x_{i1} = 0$ if the person is female and $x_{i1} = 1$ otherwise. Consider two people $i$ and $j$ having all but one features the same with the only difference in $x_{i1} \\neq x_{j1}$.\n",
        "\n",
        "If the logistic regression model above estimates the probabilities exactly, the odds for a male will be (check it!):\n",
        "$$\n",
        "\\frac{p(y_i = 1 \\mid x_{i1}=1, x_{i2}, \\ldots, x_{ik})}{p(y_i = 0 \\mid x_{i1}=1, x_{i2}, \\ldots, x_{ik})} = \\frac{\\sigma(\\beta_1 + \\beta_2 x_{i2} + \\ldots)}{1 - \\sigma(\\beta_1 + \\beta_2 x_{i2} + \\ldots)} = \\exp(\\beta_1 + \\beta_2 x_{i2} + \\ldots)\n",
        "$$\n",
        "\n",
        "Now the ratio of the male and female odds will be:\n",
        "$$\n",
        "\\frac{\\exp(\\beta_1 \\cdot 1 + \\beta_2 x_{i2} + \\ldots)}{\\exp(\\beta_1 \\cdot 0 + \\beta_2 x_{i2} + \\ldots)} = \\exp(\\beta_1)\n",
        "$$\n",
        "\n",
        "So given the correct logistic regression model, we can estimate odds ratio for some feature (gender in this example) by just looking at the corresponding coefficient. But of course, even if all the logistic regression assumptions are met we cannot estimate the coefficient exactly from real-world data, it's just too noisy. So it would be really nice to build an interval estimate, which would tell us something along the lines \"with probability 0.95 the odds ratio is greater than 0.8 and less than 1.2, so we cannot conclude that there is any gender discrimination in the salaries\" (or vice versa, that \"with probability 0.95 the odds ratio is greater than 1.5 and less than 1.9 and the discrimination takes place because a male has at least 1.5 higher probability to get >$50k than a female with the same level of education, age, etc.\"). In Bayesian statistics, this interval estimate is called *credible interval*.\n",
        "\n",
        "Unfortunately, it's impossible to compute this credible interval analytically. So let's use MCMC for that!\n",
        "\n",
        "#### Credible interval\n",
        "A credible interval for the value of $\\exp(\\beta_1)$ is an interval $[a, b]$ such that $p(a \\leq \\exp(\\beta_1) \\leq b \\mid X_{\\text{train}}, y_{\\text{train}})$ is $0.95$ (or some other predefined value). To compute the interval, we need access to the posterior distribution $p(\\exp(\\beta_1) \\mid X_{\\text{train}}, y_{\\text{train}})$.\n",
        "\n",
        "Lets for simplicity focus on the posterior on the parameters $p(\\beta_1 \\mid X_{\\text{train}}, y_{\\text{train}})$ since if we compute it, we can always find $[a, b]$ such that $p(\\log a \\leq \\beta_1 \\leq \\log b \\mid X_{\\text{train}}, y_{\\text{train}}) = p(a \\leq \\exp(\\beta_1) \\leq b \\mid X_{\\text{train}}, y_{\\text{train}}) = 0.95$\n"
      ]
    },
    {
      "cell_type": "markdown",
      "metadata": {
        "id": "nFt9NZ1Y_bkD",
        "colab_type": "text"
      },
      "source": [
        "### Task 2.1 MAP inference"
      ]
    },
    {
      "cell_type": "markdown",
      "metadata": {
        "id": "bpwOSvUW_bkE",
        "colab_type": "text"
      },
      "source": [
        "Let's read the dataset. This is a post-processed version of the [UCI Adult dataset](http://archive.ics.uci.edu/ml/datasets/Adult)."
      ]
    },
    {
      "cell_type": "code",
      "metadata": {
        "id": "zlu4Weua_bkE",
        "colab_type": "code",
        "outputId": "da24d62c-a59a-4215-8320-4ef8b79a2149",
        "colab": {
          "base_uri": "https://localhost:8080/",
          "height": 204
        }
      },
      "source": [
        "data = pd.read_csv(\"adult_us_postprocessed.csv\")\n",
        "data.head()"
      ],
      "execution_count": 0,
      "outputs": [
        {
          "output_type": "execute_result",
          "data": {
            "text/html": [
              "<div>\n",
              "<style scoped>\n",
              "    .dataframe tbody tr th:only-of-type {\n",
              "        vertical-align: middle;\n",
              "    }\n",
              "\n",
              "    .dataframe tbody tr th {\n",
              "        vertical-align: top;\n",
              "    }\n",
              "\n",
              "    .dataframe thead th {\n",
              "        text-align: right;\n",
              "    }\n",
              "</style>\n",
              "<table border=\"1\" class=\"dataframe\">\n",
              "  <thead>\n",
              "    <tr style=\"text-align: right;\">\n",
              "      <th></th>\n",
              "      <th>sex</th>\n",
              "      <th>age</th>\n",
              "      <th>educ</th>\n",
              "      <th>hours</th>\n",
              "      <th>income_more_50K</th>\n",
              "    </tr>\n",
              "  </thead>\n",
              "  <tbody>\n",
              "    <tr>\n",
              "      <th>0</th>\n",
              "      <td>Male</td>\n",
              "      <td>39</td>\n",
              "      <td>13</td>\n",
              "      <td>40</td>\n",
              "      <td>0</td>\n",
              "    </tr>\n",
              "    <tr>\n",
              "      <th>1</th>\n",
              "      <td>Male</td>\n",
              "      <td>50</td>\n",
              "      <td>13</td>\n",
              "      <td>13</td>\n",
              "      <td>0</td>\n",
              "    </tr>\n",
              "    <tr>\n",
              "      <th>2</th>\n",
              "      <td>Male</td>\n",
              "      <td>38</td>\n",
              "      <td>9</td>\n",
              "      <td>40</td>\n",
              "      <td>0</td>\n",
              "    </tr>\n",
              "    <tr>\n",
              "      <th>3</th>\n",
              "      <td>Male</td>\n",
              "      <td>53</td>\n",
              "      <td>7</td>\n",
              "      <td>40</td>\n",
              "      <td>0</td>\n",
              "    </tr>\n",
              "    <tr>\n",
              "      <th>4</th>\n",
              "      <td>Female</td>\n",
              "      <td>28</td>\n",
              "      <td>13</td>\n",
              "      <td>40</td>\n",
              "      <td>0</td>\n",
              "    </tr>\n",
              "  </tbody>\n",
              "</table>\n",
              "</div>"
            ],
            "text/plain": [
              "       sex  age  educ  hours  income_more_50K\n",
              "0     Male   39    13     40                0\n",
              "1     Male   50    13     13                0\n",
              "2     Male   38     9     40                0\n",
              "3     Male   53     7     40                0\n",
              "4   Female   28    13     40                0"
            ]
          },
          "metadata": {
            "tags": []
          },
          "execution_count": 13
        }
      ]
    },
    {
      "cell_type": "code",
      "metadata": {
        "id": "zXL2cqDPDpcC",
        "colab_type": "code",
        "outputId": "dda192ae-7b85-4aaf-8705-0c86319103ca",
        "colab": {
          "base_uri": "https://localhost:8080/",
          "height": 297
        }
      },
      "source": [
        "data.describe()"
      ],
      "execution_count": 0,
      "outputs": [
        {
          "output_type": "execute_result",
          "data": {
            "text/html": [
              "<div>\n",
              "<style scoped>\n",
              "    .dataframe tbody tr th:only-of-type {\n",
              "        vertical-align: middle;\n",
              "    }\n",
              "\n",
              "    .dataframe tbody tr th {\n",
              "        vertical-align: top;\n",
              "    }\n",
              "\n",
              "    .dataframe thead th {\n",
              "        text-align: right;\n",
              "    }\n",
              "</style>\n",
              "<table border=\"1\" class=\"dataframe\">\n",
              "  <thead>\n",
              "    <tr style=\"text-align: right;\">\n",
              "      <th></th>\n",
              "      <th>age</th>\n",
              "      <th>educ</th>\n",
              "      <th>hours</th>\n",
              "      <th>income_more_50K</th>\n",
              "    </tr>\n",
              "  </thead>\n",
              "  <tbody>\n",
              "    <tr>\n",
              "      <th>count</th>\n",
              "      <td>32561.000000</td>\n",
              "      <td>32561.000000</td>\n",
              "      <td>32561.000000</td>\n",
              "      <td>32561.000000</td>\n",
              "    </tr>\n",
              "    <tr>\n",
              "      <th>mean</th>\n",
              "      <td>38.581647</td>\n",
              "      <td>10.080679</td>\n",
              "      <td>40.437456</td>\n",
              "      <td>0.240810</td>\n",
              "    </tr>\n",
              "    <tr>\n",
              "      <th>std</th>\n",
              "      <td>13.640433</td>\n",
              "      <td>2.572720</td>\n",
              "      <td>12.347429</td>\n",
              "      <td>0.427581</td>\n",
              "    </tr>\n",
              "    <tr>\n",
              "      <th>min</th>\n",
              "      <td>17.000000</td>\n",
              "      <td>1.000000</td>\n",
              "      <td>1.000000</td>\n",
              "      <td>0.000000</td>\n",
              "    </tr>\n",
              "    <tr>\n",
              "      <th>25%</th>\n",
              "      <td>28.000000</td>\n",
              "      <td>9.000000</td>\n",
              "      <td>40.000000</td>\n",
              "      <td>0.000000</td>\n",
              "    </tr>\n",
              "    <tr>\n",
              "      <th>50%</th>\n",
              "      <td>37.000000</td>\n",
              "      <td>10.000000</td>\n",
              "      <td>40.000000</td>\n",
              "      <td>0.000000</td>\n",
              "    </tr>\n",
              "    <tr>\n",
              "      <th>75%</th>\n",
              "      <td>48.000000</td>\n",
              "      <td>12.000000</td>\n",
              "      <td>45.000000</td>\n",
              "      <td>0.000000</td>\n",
              "    </tr>\n",
              "    <tr>\n",
              "      <th>max</th>\n",
              "      <td>90.000000</td>\n",
              "      <td>16.000000</td>\n",
              "      <td>99.000000</td>\n",
              "      <td>1.000000</td>\n",
              "    </tr>\n",
              "  </tbody>\n",
              "</table>\n",
              "</div>"
            ],
            "text/plain": [
              "                age          educ         hours  income_more_50K\n",
              "count  32561.000000  32561.000000  32561.000000     32561.000000\n",
              "mean      38.581647     10.080679     40.437456         0.240810\n",
              "std       13.640433      2.572720     12.347429         0.427581\n",
              "min       17.000000      1.000000      1.000000         0.000000\n",
              "25%       28.000000      9.000000     40.000000         0.000000\n",
              "50%       37.000000     10.000000     40.000000         0.000000\n",
              "75%       48.000000     12.000000     45.000000         0.000000\n",
              "max       90.000000     16.000000     99.000000         1.000000"
            ]
          },
          "metadata": {
            "tags": []
          },
          "execution_count": 14
        }
      ]
    },
    {
      "cell_type": "markdown",
      "metadata": {
        "id": "1Z4-U9xG_bkG",
        "colab_type": "text"
      },
      "source": [
        "Each row of the dataset is a person with his (her) features. The last column is the target variable $y$. One indicates that this person's annual salary is more than $50K.\n",
        "\n",
        "First of all let's set up a Bayesian logistic regression model (i.e. define priors on the parameters $\\alpha$ and $\\beta$ of the model) that predicts the value of \"income_more_50K\" based on person's age and education:\n",
        "\n",
        "$$\n",
        "p(y = 1 \\mid \\alpha, \\beta_1, \\beta_2) = \\sigma(\\alpha + \\beta_1 x_1 + \\beta_2 x_2) \\\\ \n",
        "\\alpha \\sim N(0, 100^2) \\\\\n",
        "\\beta_1 \\sim N(0, 100^2) \\\\\n",
        "\\beta_2 \\sim N(0, 100^2), \\\\\n",
        "$$\n",
        "\n",
        "where $x_1$ is a person's age, $x_2$ is his/her level of education, y indicates his/her level of income, $\\alpha$, $\\beta_1$ and $\\beta_2$ are paramters of the model."
      ]
    },
    {
      "cell_type": "code",
      "metadata": {
        "id": "ldZR5rJR_bkG",
        "colab_type": "code",
        "outputId": "22934498-ec25-4542-8fc1-f9330d26c86c",
        "colab": {
          "base_uri": "https://localhost:8080/",
          "height": 119
        }
      },
      "source": [
        "%%time\n",
        "with pm.Model() as manual_logistic_model:\n",
        "    # Declare pymc random variables for logistic regression coefficients with uninformative \n",
        "    # prior distributions N(0, 100^2) on each weight using pm.Normal. \n",
        "    # Don't forget to give each variable a unique name.\n",
        "    \n",
        "    #### YOUR CODE HERE ####\n",
        "    alpha = pm.Normal('alpha', mu=0, sd=100)\n",
        "    beta_age = pm.Normal('beta_age', mu=0, sd=100)\n",
        "    beta_education = pm.Normal('beta_education',mu=0, sd=100)\n",
        "    \n",
        "    ### END OF YOUR CODE ###\n",
        "    \n",
        "    # Thansform these random variables into vector of probabilities p(y_i=1) using logistic regression model specified \n",
        "    # above. PyMC random variables are theano shared variables and support simple mathematical operations.\n",
        "    # For example:\n",
        "    # z = pm.Normal('x', 0, 1) * np.array([1, 2, 3]) + pm.Normal('y', 0, 1) * np.array([4, 5, 6])`\n",
        "    # is a correct PyMC expression.\n",
        "    # Use pm.invlogit for the sigmoid function.\n",
        "    \n",
        "    #### YOUR CODE HERE ####\n",
        "    prob = pm.invlogit(alpha +\n",
        "                      beta_age*np.array(data['age']) +\n",
        "                      beta_education*np.array(data['educ']))\n",
        "    \n",
        "    ### END OF YOUR CODE ###\n",
        "    \n",
        "    # Declare PyMC Bernoulli random vector with probability of success equal to the corresponding value\n",
        "    # given by the sigmoid function.\n",
        "    # Supply target vector using \"observed\" argument in the constructor.\n",
        "\n",
        "    #### YOUR CODE HERE ####\n",
        "    obsr = pm.Bernoulli('obsr', p = prob, observed = data['income_more_50K'])\n",
        "    \n",
        "    ### END OF YOUR CODE ###\n",
        "    \n",
        "    # Use pm.find_MAP() to find the maximum a-posteriori estimate for the vector of logistic regression weights.\n",
        "    map_estimate = pm.find_MAP()\n",
        "    print(map_estimate)\n",
        "\n"
      ],
      "execution_count": 0,
      "outputs": [
        {
          "output_type": "stream",
          "text": [
            "/usr/local/lib/python3.6/dist-packages/pymc3/tuning/starting.py:61: UserWarning: find_MAP should not be used to initialize the NUTS sampler, simply call pymc3.sample() and it will automatically initialize NUTS in a better way.\n",
            "  warnings.warn('find_MAP should not be used to initialize the NUTS sampler, simply call pymc3.sample() and it will automatically initialize NUTS in a better way.')\n",
            "logp = -18,844, ||grad|| = 57,293: 100%|██████████| 30/30 [00:00<00:00, 43.50it/s]  \n"
          ],
          "name": "stderr"
        },
        {
          "output_type": "stream",
          "text": [
            "{'alpha': array(-6.74811904), 'beta_age': array(0.04348316), 'beta_education': array(0.36210803)}\n",
            "CPU times: user 3.08 s, sys: 227 ms, total: 3.31 s\n",
            "Wall time: 11.4 s\n"
          ],
          "name": "stdout"
        }
      ]
    },
    {
      "cell_type": "markdown",
      "metadata": {
        "id": "jqP0CxN9_bkI",
        "colab_type": "text"
      },
      "source": [
        "Sumbit MAP estimations of corresponding coefficients:"
      ]
    },
    {
      "cell_type": "code",
      "metadata": {
        "id": "KDoG0box_bkI",
        "colab_type": "code",
        "outputId": "0b6ee741-681a-454d-8fe0-e6000a083199",
        "colab": {
          "base_uri": "https://localhost:8080/",
          "height": 136
        }
      },
      "source": [
        "%%time\n",
        "with pm.Model() as logistic_model:\n",
        "    # There's a simpler interface for generalized linear models in pymc3. \n",
        "    # Try to train the same model using pm.glm.GLM.from_formula.\n",
        "    # Do not forget to specify that the target variable is binary (and hence follows Binomial distribution).\n",
        "    \n",
        "    #### YOUR CODE HERE ####\n",
        "    pm.glm.GLM.from_formula('income_more_50K ~ age + educ', data, family = pm.glm.families.Binomial())\n",
        "    \n",
        "    ### END OF YOUR CODE ###\n",
        "    map_estimate = pm.find_MAP()\n",
        "    print(map_estimate)"
      ],
      "execution_count": 0,
      "outputs": [
        {
          "output_type": "stream",
          "text": [
            "/usr/local/lib/python3.6/dist-packages/pymc3/tuning/starting.py:61: UserWarning: find_MAP should not be used to initialize the NUTS sampler, simply call pymc3.sample() and it will automatically initialize NUTS in a better way.\n",
            "  warnings.warn('find_MAP should not be used to initialize the NUTS sampler, simply call pymc3.sample() and it will automatically initialize NUTS in a better way.')\n",
            "WARNING (theano.tensor.blas): We did not find a dynamic library in the library_dir of the library we use for blas. If you use ATLAS, make sure to compile it with dynamics library.\n",
            "logp = -15,131, ||grad|| = 0.024014: 100%|██████████| 32/32 [00:00<00:00, 65.53it/s]  "
          ],
          "name": "stderr"
        },
        {
          "output_type": "stream",
          "text": [
            "{'Intercept': array(-6.7480998), 'age': array(0.04348259), 'educ': array(0.36210894)}\n",
            "CPU times: user 2.95 s, sys: 432 ms, total: 3.38 s\n",
            "Wall time: 5.07 s\n"
          ],
          "name": "stdout"
        },
        {
          "output_type": "stream",
          "text": [
            "\n"
          ],
          "name": "stderr"
        }
      ]
    },
    {
      "cell_type": "code",
      "metadata": {
        "scrolled": true,
        "id": "KXA7UZ_X_bkK",
        "colab_type": "code",
        "outputId": "feab956d-8297-465a-85f2-39e06c0310e9",
        "colab": {
          "base_uri": "https://localhost:8080/",
          "height": 51
        }
      },
      "source": [
        "### TYPE MAP ESTIMATE OF THE AGE COEFFICIENT HERE ###\n",
        "beta_age_coefficient = 0.04348259\n",
        "### TYPE MAP ESTIMATE OF THE EDUCATION COEFFICIENT HERE ###\n",
        "beta_education_coefficient = 0.36210894\n",
        "grader.submit_pymc_map_estimates(beta_age_coefficient, beta_education_coefficient)"
      ],
      "execution_count": 0,
      "outputs": [
        {
          "output_type": "stream",
          "text": [
            "Current answer for task 2.1 (MAP for age coef) is: 0.04348259\n",
            "Current answer for task 2.1 (MAP for aducation coef) is: 0.36210894\n"
          ],
          "name": "stdout"
        }
      ]
    },
    {
      "cell_type": "markdown",
      "metadata": {
        "id": "vNhpMH3N_bkM",
        "colab_type": "text"
      },
      "source": [
        "### Task 2.2 MCMC"
      ]
    },
    {
      "cell_type": "markdown",
      "metadata": {
        "id": "SoaTPcZf_bkN",
        "colab_type": "text"
      },
      "source": [
        "To find credible regions let's perform MCMC inference."
      ]
    },
    {
      "cell_type": "code",
      "metadata": {
        "id": "1te6Simc_bkN",
        "colab_type": "code",
        "colab": {}
      },
      "source": [
        "# You will need the following function to visualize the sampling process.\n",
        "# You don't need to change it.\n",
        "def plot_traces(traces, burnin=200):\n",
        "    ''' \n",
        "    Convenience function:\n",
        "    Plot traces with overlaid means and values\n",
        "    '''\n",
        "    \n",
        "    ax = pm.traceplot(traces[burnin:], figsize=(12,len(traces.varnames)*1.5),\n",
        "        lines={k: v['mean'] for k, v in pm.summary(traces[burnin:]).iterrows()})\n",
        "\n",
        "    for i, mn in enumerate(pm.summary(traces[burnin:])['mean']):\n",
        "        ax[i,0].annotate('{:.2f}'.format(mn), xy=(mn,0), xycoords='data'\n",
        "                    ,xytext=(5,10), textcoords='offset points', rotation=90\n",
        "                    ,va='bottom', fontsize='large', color='#AA0022')"
      ],
      "execution_count": 0,
      "outputs": []
    },
    {
      "cell_type": "markdown",
      "metadata": {
        "id": "O61PatCe_bkS",
        "colab_type": "text"
      },
      "source": [
        "#### Metropolis-Hastings\n",
        "Let's use the Metropolis-Hastings algorithm for finding the samples from the posterior distribution.\n",
        "\n",
        "Once you wrote the code, explore the hyperparameters of Metropolis-Hastings such as the proposal distribution variance to speed up the convergence. You can use `plot_traces` function in the next cell to visually inspect the convergence.\n",
        "\n",
        "You may also use MAP-estimate to initialize the sampling scheme to speed things up. This will make the warmup (burn-in) period shorter since you will start from a probable point."
      ]
    },
    {
      "cell_type": "code",
      "metadata": {
        "id": "J4GnoWxTHf0d",
        "colab_type": "code",
        "outputId": "6183263f-5e58-49f7-aac8-71c038ab8bc1",
        "colab": {
          "base_uri": "https://localhost:8080/",
          "height": 204
        }
      },
      "source": [
        "data['age_squared'] = np.square(data['age'])\n",
        "data.head()"
      ],
      "execution_count": 0,
      "outputs": [
        {
          "output_type": "execute_result",
          "data": {
            "text/html": [
              "<div>\n",
              "<style scoped>\n",
              "    .dataframe tbody tr th:only-of-type {\n",
              "        vertical-align: middle;\n",
              "    }\n",
              "\n",
              "    .dataframe tbody tr th {\n",
              "        vertical-align: top;\n",
              "    }\n",
              "\n",
              "    .dataframe thead th {\n",
              "        text-align: right;\n",
              "    }\n",
              "</style>\n",
              "<table border=\"1\" class=\"dataframe\">\n",
              "  <thead>\n",
              "    <tr style=\"text-align: right;\">\n",
              "      <th></th>\n",
              "      <th>sex</th>\n",
              "      <th>age</th>\n",
              "      <th>educ</th>\n",
              "      <th>hours</th>\n",
              "      <th>income_more_50K</th>\n",
              "      <th>age_squared</th>\n",
              "    </tr>\n",
              "  </thead>\n",
              "  <tbody>\n",
              "    <tr>\n",
              "      <th>0</th>\n",
              "      <td>Male</td>\n",
              "      <td>39</td>\n",
              "      <td>13</td>\n",
              "      <td>40</td>\n",
              "      <td>0</td>\n",
              "      <td>1521</td>\n",
              "    </tr>\n",
              "    <tr>\n",
              "      <th>1</th>\n",
              "      <td>Male</td>\n",
              "      <td>50</td>\n",
              "      <td>13</td>\n",
              "      <td>13</td>\n",
              "      <td>0</td>\n",
              "      <td>2500</td>\n",
              "    </tr>\n",
              "    <tr>\n",
              "      <th>2</th>\n",
              "      <td>Male</td>\n",
              "      <td>38</td>\n",
              "      <td>9</td>\n",
              "      <td>40</td>\n",
              "      <td>0</td>\n",
              "      <td>1444</td>\n",
              "    </tr>\n",
              "    <tr>\n",
              "      <th>3</th>\n",
              "      <td>Male</td>\n",
              "      <td>53</td>\n",
              "      <td>7</td>\n",
              "      <td>40</td>\n",
              "      <td>0</td>\n",
              "      <td>2809</td>\n",
              "    </tr>\n",
              "    <tr>\n",
              "      <th>4</th>\n",
              "      <td>Female</td>\n",
              "      <td>28</td>\n",
              "      <td>13</td>\n",
              "      <td>40</td>\n",
              "      <td>0</td>\n",
              "      <td>784</td>\n",
              "    </tr>\n",
              "  </tbody>\n",
              "</table>\n",
              "</div>"
            ],
            "text/plain": [
              "       sex  age  educ  hours  income_more_50K  age_squared\n",
              "0     Male   39    13     40                0         1521\n",
              "1     Male   50    13     13                0         2500\n",
              "2     Male   38     9     40                0         1444\n",
              "3     Male   53     7     40                0         2809\n",
              "4   Female   28    13     40                0          784"
            ]
          },
          "metadata": {
            "tags": []
          },
          "execution_count": 19
        }
      ]
    },
    {
      "cell_type": "code",
      "metadata": {
        "id": "f3y5DNc7_bkT",
        "colab_type": "code",
        "outputId": "d90b572d-723d-41a5-df56-4d65f59ba3b2",
        "colab": {
          "base_uri": "https://localhost:8080/",
          "height": 238
        }
      },
      "source": [
        "with pm.Model() as logistic_model:\n",
        "    # Since it is unlikely that the dependency between the age and salary is linear, we will include age squared\n",
        "    # into features so that we can model dependency that favors certain ages.\n",
        "    # Train Bayesian logistic regression model on the following features: sex, age, age^2, educ, hours\n",
        "    # Use pm.sample to run MCMC to train this model.\n",
        "    # To specify the particular sampler method (Metropolis-Hastings) to pm.sample,\n",
        "    # use `pm.Metropolis`.\n",
        "    # Train your model for 400 samples.\n",
        "    # Save the output of pm.sample to a variable: this is the trace of the sampling procedure and will be used\n",
        "    # to estimate the statistics of the posterior distribution.\n",
        "    \n",
        "    #### YOUR CODE HERE ####\n",
        "    pm.glm.GLM.from_formula('income_more_50K ~ sex + age + age_squared + educ + hours',\n",
        "                           data, family = pm.glm.families.Binomial())\n",
        "    with logistic_model:\n",
        "      trace = pm.sample(400, step = pm.Metropolis())   \n",
        "    \n",
        "    ### END OF YOUR CODE ###"
      ],
      "execution_count": 0,
      "outputs": [
        {
          "output_type": "stream",
          "text": [
            "Only 400 samples in chain.\n",
            "Sequential sampling (2 chains in 1 job)\n",
            "CompoundStep\n",
            ">Metropolis: [hours]\n",
            ">Metropolis: [educ]\n",
            ">Metropolis: [age_squared]\n",
            ">Metropolis: [age]\n",
            ">Metropolis: [sex[T. Male]]\n",
            ">Metropolis: [Intercept]\n",
            "100%|██████████| 900/900 [01:49<00:00,  8.18it/s]\n",
            "100%|██████████| 900/900 [01:51<00:00,  7.90it/s]\n",
            "The gelman-rubin statistic is larger than 1.4 for some parameters. The sampler did not converge.\n",
            "The estimated number of effective samples is smaller than 200 for some parameters.\n"
          ],
          "name": "stderr"
        }
      ]
    },
    {
      "cell_type": "code",
      "metadata": {
        "id": "HJ7cSWO9_bkV",
        "colab_type": "code",
        "outputId": "fe3cdadf-a6b4-448e-da2c-6f12bb95b799",
        "colab": {
          "base_uri": "https://localhost:8080/",
          "height": 425
        }
      },
      "source": [
        "plot_traces(trace)"
      ],
      "execution_count": 0,
      "outputs": [
        {
          "output_type": "stream",
          "text": [
            "/usr/local/lib/python3.6/dist-packages/matplotlib/tight_layout.py:199: UserWarning: Tight layout not applied. tight_layout cannot make axes width small enough to accommodate all axes decorations\n",
            "  warnings.warn('Tight layout not applied. '\n"
          ],
          "name": "stderr"
        },
        {
          "output_type": "error",
          "ename": "ValueError",
          "evalue": "ignored",
          "traceback": [
            "\u001b[0;31m---------------------------------------------------------------------------\u001b[0m",
            "\u001b[0;31mValueError\u001b[0m                                Traceback (most recent call last)",
            "\u001b[0;32m/usr/local/lib/python3.6/dist-packages/IPython/core/formatters.py\u001b[0m in \u001b[0;36m__call__\u001b[0;34m(self, obj)\u001b[0m\n\u001b[1;32m    332\u001b[0m                 \u001b[0;32mpass\u001b[0m\u001b[0;34m\u001b[0m\u001b[0;34m\u001b[0m\u001b[0m\n\u001b[1;32m    333\u001b[0m             \u001b[0;32melse\u001b[0m\u001b[0;34m:\u001b[0m\u001b[0;34m\u001b[0m\u001b[0;34m\u001b[0m\u001b[0m\n\u001b[0;32m--> 334\u001b[0;31m                 \u001b[0;32mreturn\u001b[0m \u001b[0mprinter\u001b[0m\u001b[0;34m(\u001b[0m\u001b[0mobj\u001b[0m\u001b[0;34m)\u001b[0m\u001b[0;34m\u001b[0m\u001b[0;34m\u001b[0m\u001b[0m\n\u001b[0m\u001b[1;32m    335\u001b[0m             \u001b[0;31m# Finally look for special method names\u001b[0m\u001b[0;34m\u001b[0m\u001b[0;34m\u001b[0m\u001b[0;34m\u001b[0m\u001b[0m\n\u001b[1;32m    336\u001b[0m             \u001b[0mmethod\u001b[0m \u001b[0;34m=\u001b[0m \u001b[0mget_real_method\u001b[0m\u001b[0;34m(\u001b[0m\u001b[0mobj\u001b[0m\u001b[0;34m,\u001b[0m \u001b[0mself\u001b[0m\u001b[0;34m.\u001b[0m\u001b[0mprint_method\u001b[0m\u001b[0;34m)\u001b[0m\u001b[0;34m\u001b[0m\u001b[0;34m\u001b[0m\u001b[0m\n",
            "\u001b[0;32m/usr/local/lib/python3.6/dist-packages/IPython/core/pylabtools.py\u001b[0m in \u001b[0;36m<lambda>\u001b[0;34m(fig)\u001b[0m\n\u001b[1;32m    239\u001b[0m \u001b[0;34m\u001b[0m\u001b[0m\n\u001b[1;32m    240\u001b[0m     \u001b[0;32mif\u001b[0m \u001b[0;34m'png'\u001b[0m \u001b[0;32min\u001b[0m \u001b[0mformats\u001b[0m\u001b[0;34m:\u001b[0m\u001b[0;34m\u001b[0m\u001b[0;34m\u001b[0m\u001b[0m\n\u001b[0;32m--> 241\u001b[0;31m         \u001b[0mpng_formatter\u001b[0m\u001b[0;34m.\u001b[0m\u001b[0mfor_type\u001b[0m\u001b[0;34m(\u001b[0m\u001b[0mFigure\u001b[0m\u001b[0;34m,\u001b[0m \u001b[0;32mlambda\u001b[0m \u001b[0mfig\u001b[0m\u001b[0;34m:\u001b[0m \u001b[0mprint_figure\u001b[0m\u001b[0;34m(\u001b[0m\u001b[0mfig\u001b[0m\u001b[0;34m,\u001b[0m \u001b[0;34m'png'\u001b[0m\u001b[0;34m,\u001b[0m \u001b[0;34m**\u001b[0m\u001b[0mkwargs\u001b[0m\u001b[0;34m)\u001b[0m\u001b[0;34m)\u001b[0m\u001b[0;34m\u001b[0m\u001b[0;34m\u001b[0m\u001b[0m\n\u001b[0m\u001b[1;32m    242\u001b[0m     \u001b[0;32mif\u001b[0m \u001b[0;34m'retina'\u001b[0m \u001b[0;32min\u001b[0m \u001b[0mformats\u001b[0m \u001b[0;32mor\u001b[0m \u001b[0;34m'png2x'\u001b[0m \u001b[0;32min\u001b[0m \u001b[0mformats\u001b[0m\u001b[0;34m:\u001b[0m\u001b[0;34m\u001b[0m\u001b[0;34m\u001b[0m\u001b[0m\n\u001b[1;32m    243\u001b[0m         \u001b[0mpng_formatter\u001b[0m\u001b[0;34m.\u001b[0m\u001b[0mfor_type\u001b[0m\u001b[0;34m(\u001b[0m\u001b[0mFigure\u001b[0m\u001b[0;34m,\u001b[0m \u001b[0;32mlambda\u001b[0m \u001b[0mfig\u001b[0m\u001b[0;34m:\u001b[0m \u001b[0mretina_figure\u001b[0m\u001b[0;34m(\u001b[0m\u001b[0mfig\u001b[0m\u001b[0;34m,\u001b[0m \u001b[0;34m**\u001b[0m\u001b[0mkwargs\u001b[0m\u001b[0;34m)\u001b[0m\u001b[0;34m)\u001b[0m\u001b[0;34m\u001b[0m\u001b[0;34m\u001b[0m\u001b[0m\n",
            "\u001b[0;32m/usr/local/lib/python3.6/dist-packages/IPython/core/pylabtools.py\u001b[0m in \u001b[0;36mprint_figure\u001b[0;34m(fig, fmt, bbox_inches, **kwargs)\u001b[0m\n\u001b[1;32m    123\u001b[0m \u001b[0;34m\u001b[0m\u001b[0m\n\u001b[1;32m    124\u001b[0m     \u001b[0mbytes_io\u001b[0m \u001b[0;34m=\u001b[0m \u001b[0mBytesIO\u001b[0m\u001b[0;34m(\u001b[0m\u001b[0;34m)\u001b[0m\u001b[0;34m\u001b[0m\u001b[0;34m\u001b[0m\u001b[0m\n\u001b[0;32m--> 125\u001b[0;31m     \u001b[0mfig\u001b[0m\u001b[0;34m.\u001b[0m\u001b[0mcanvas\u001b[0m\u001b[0;34m.\u001b[0m\u001b[0mprint_figure\u001b[0m\u001b[0;34m(\u001b[0m\u001b[0mbytes_io\u001b[0m\u001b[0;34m,\u001b[0m \u001b[0;34m**\u001b[0m\u001b[0mkw\u001b[0m\u001b[0;34m)\u001b[0m\u001b[0;34m\u001b[0m\u001b[0;34m\u001b[0m\u001b[0m\n\u001b[0m\u001b[1;32m    126\u001b[0m     \u001b[0mdata\u001b[0m \u001b[0;34m=\u001b[0m \u001b[0mbytes_io\u001b[0m\u001b[0;34m.\u001b[0m\u001b[0mgetvalue\u001b[0m\u001b[0;34m(\u001b[0m\u001b[0;34m)\u001b[0m\u001b[0;34m\u001b[0m\u001b[0;34m\u001b[0m\u001b[0m\n\u001b[1;32m    127\u001b[0m     \u001b[0;32mif\u001b[0m \u001b[0mfmt\u001b[0m \u001b[0;34m==\u001b[0m \u001b[0;34m'svg'\u001b[0m\u001b[0;34m:\u001b[0m\u001b[0;34m\u001b[0m\u001b[0;34m\u001b[0m\u001b[0m\n",
            "\u001b[0;32m/usr/local/lib/python3.6/dist-packages/matplotlib/backend_bases.py\u001b[0m in \u001b[0;36mprint_figure\u001b[0;34m(self, filename, dpi, facecolor, edgecolor, orientation, format, bbox_inches, **kwargs)\u001b[0m\n\u001b[1;32m   2073\u001b[0m                     \u001b[0morientation\u001b[0m\u001b[0;34m=\u001b[0m\u001b[0morientation\u001b[0m\u001b[0;34m,\u001b[0m\u001b[0;34m\u001b[0m\u001b[0;34m\u001b[0m\u001b[0m\n\u001b[1;32m   2074\u001b[0m                     \u001b[0mbbox_inches_restore\u001b[0m\u001b[0;34m=\u001b[0m\u001b[0m_bbox_inches_restore\u001b[0m\u001b[0;34m,\u001b[0m\u001b[0;34m\u001b[0m\u001b[0;34m\u001b[0m\u001b[0m\n\u001b[0;32m-> 2075\u001b[0;31m                     **kwargs)\n\u001b[0m\u001b[1;32m   2076\u001b[0m             \u001b[0;32mfinally\u001b[0m\u001b[0;34m:\u001b[0m\u001b[0;34m\u001b[0m\u001b[0;34m\u001b[0m\u001b[0m\n\u001b[1;32m   2077\u001b[0m                 \u001b[0;32mif\u001b[0m \u001b[0mbbox_inches\u001b[0m \u001b[0;32mand\u001b[0m \u001b[0mrestore_bbox\u001b[0m\u001b[0;34m:\u001b[0m\u001b[0;34m\u001b[0m\u001b[0;34m\u001b[0m\u001b[0m\n",
            "\u001b[0;32m/usr/local/lib/python3.6/dist-packages/matplotlib/backends/backend_agg.py\u001b[0m in \u001b[0;36mprint_png\u001b[0;34m(self, filename_or_obj, *args, **kwargs)\u001b[0m\n\u001b[1;32m    508\u001b[0m \u001b[0;34m\u001b[0m\u001b[0m\n\u001b[1;32m    509\u001b[0m         \"\"\"\n\u001b[0;32m--> 510\u001b[0;31m         \u001b[0mFigureCanvasAgg\u001b[0m\u001b[0;34m.\u001b[0m\u001b[0mdraw\u001b[0m\u001b[0;34m(\u001b[0m\u001b[0mself\u001b[0m\u001b[0;34m)\u001b[0m\u001b[0;34m\u001b[0m\u001b[0;34m\u001b[0m\u001b[0m\n\u001b[0m\u001b[1;32m    511\u001b[0m         \u001b[0mrenderer\u001b[0m \u001b[0;34m=\u001b[0m \u001b[0mself\u001b[0m\u001b[0;34m.\u001b[0m\u001b[0mget_renderer\u001b[0m\u001b[0;34m(\u001b[0m\u001b[0;34m)\u001b[0m\u001b[0;34m\u001b[0m\u001b[0;34m\u001b[0m\u001b[0m\n\u001b[1;32m    512\u001b[0m \u001b[0;34m\u001b[0m\u001b[0m\n",
            "\u001b[0;32m/usr/local/lib/python3.6/dist-packages/matplotlib/backends/backend_agg.py\u001b[0m in \u001b[0;36mdraw\u001b[0;34m(self)\u001b[0m\n\u001b[1;32m    394\u001b[0m         \u001b[0mDraw\u001b[0m \u001b[0mthe\u001b[0m \u001b[0mfigure\u001b[0m \u001b[0musing\u001b[0m \u001b[0mthe\u001b[0m \u001b[0mrenderer\u001b[0m\u001b[0;34m.\u001b[0m\u001b[0;34m\u001b[0m\u001b[0;34m\u001b[0m\u001b[0m\n\u001b[1;32m    395\u001b[0m         \"\"\"\n\u001b[0;32m--> 396\u001b[0;31m         \u001b[0mself\u001b[0m\u001b[0;34m.\u001b[0m\u001b[0mrenderer\u001b[0m \u001b[0;34m=\u001b[0m \u001b[0mself\u001b[0m\u001b[0;34m.\u001b[0m\u001b[0mget_renderer\u001b[0m\u001b[0;34m(\u001b[0m\u001b[0mcleared\u001b[0m\u001b[0;34m=\u001b[0m\u001b[0;32mTrue\u001b[0m\u001b[0;34m)\u001b[0m\u001b[0;34m\u001b[0m\u001b[0;34m\u001b[0m\u001b[0m\n\u001b[0m\u001b[1;32m    397\u001b[0m         \u001b[0;31m# acquire a lock on the shared font cache\u001b[0m\u001b[0;34m\u001b[0m\u001b[0;34m\u001b[0m\u001b[0;34m\u001b[0m\u001b[0m\n\u001b[1;32m    398\u001b[0m         \u001b[0mRendererAgg\u001b[0m\u001b[0;34m.\u001b[0m\u001b[0mlock\u001b[0m\u001b[0;34m.\u001b[0m\u001b[0macquire\u001b[0m\u001b[0;34m(\u001b[0m\u001b[0;34m)\u001b[0m\u001b[0;34m\u001b[0m\u001b[0;34m\u001b[0m\u001b[0m\n",
            "\u001b[0;32m/usr/local/lib/python3.6/dist-packages/matplotlib/backends/backend_agg.py\u001b[0m in \u001b[0;36mget_renderer\u001b[0;34m(self, cleared)\u001b[0m\n\u001b[1;32m    415\u001b[0m \u001b[0;34m\u001b[0m\u001b[0m\n\u001b[1;32m    416\u001b[0m         \u001b[0;32mif\u001b[0m \u001b[0mneed_new_renderer\u001b[0m\u001b[0;34m:\u001b[0m\u001b[0;34m\u001b[0m\u001b[0;34m\u001b[0m\u001b[0m\n\u001b[0;32m--> 417\u001b[0;31m             \u001b[0mself\u001b[0m\u001b[0;34m.\u001b[0m\u001b[0mrenderer\u001b[0m \u001b[0;34m=\u001b[0m \u001b[0mRendererAgg\u001b[0m\u001b[0;34m(\u001b[0m\u001b[0mw\u001b[0m\u001b[0;34m,\u001b[0m \u001b[0mh\u001b[0m\u001b[0;34m,\u001b[0m \u001b[0mself\u001b[0m\u001b[0;34m.\u001b[0m\u001b[0mfigure\u001b[0m\u001b[0;34m.\u001b[0m\u001b[0mdpi\u001b[0m\u001b[0;34m)\u001b[0m\u001b[0;34m\u001b[0m\u001b[0;34m\u001b[0m\u001b[0m\n\u001b[0m\u001b[1;32m    418\u001b[0m             \u001b[0mself\u001b[0m\u001b[0;34m.\u001b[0m\u001b[0m_lastKey\u001b[0m \u001b[0;34m=\u001b[0m \u001b[0mkey\u001b[0m\u001b[0;34m\u001b[0m\u001b[0;34m\u001b[0m\u001b[0m\n\u001b[1;32m    419\u001b[0m         \u001b[0;32melif\u001b[0m \u001b[0mcleared\u001b[0m\u001b[0;34m:\u001b[0m\u001b[0;34m\u001b[0m\u001b[0;34m\u001b[0m\u001b[0m\n",
            "\u001b[0;32m/usr/local/lib/python3.6/dist-packages/matplotlib/backends/backend_agg.py\u001b[0m in \u001b[0;36m__init__\u001b[0;34m(self, width, height, dpi)\u001b[0m\n\u001b[1;32m     85\u001b[0m         \u001b[0mself\u001b[0m\u001b[0;34m.\u001b[0m\u001b[0mwidth\u001b[0m \u001b[0;34m=\u001b[0m \u001b[0mwidth\u001b[0m\u001b[0;34m\u001b[0m\u001b[0;34m\u001b[0m\u001b[0m\n\u001b[1;32m     86\u001b[0m         \u001b[0mself\u001b[0m\u001b[0;34m.\u001b[0m\u001b[0mheight\u001b[0m \u001b[0;34m=\u001b[0m \u001b[0mheight\u001b[0m\u001b[0;34m\u001b[0m\u001b[0;34m\u001b[0m\u001b[0m\n\u001b[0;32m---> 87\u001b[0;31m         \u001b[0mself\u001b[0m\u001b[0;34m.\u001b[0m\u001b[0m_renderer\u001b[0m \u001b[0;34m=\u001b[0m \u001b[0m_RendererAgg\u001b[0m\u001b[0;34m(\u001b[0m\u001b[0mint\u001b[0m\u001b[0;34m(\u001b[0m\u001b[0mwidth\u001b[0m\u001b[0;34m)\u001b[0m\u001b[0;34m,\u001b[0m \u001b[0mint\u001b[0m\u001b[0;34m(\u001b[0m\u001b[0mheight\u001b[0m\u001b[0;34m)\u001b[0m\u001b[0;34m,\u001b[0m \u001b[0mdpi\u001b[0m\u001b[0;34m)\u001b[0m\u001b[0;34m\u001b[0m\u001b[0;34m\u001b[0m\u001b[0m\n\u001b[0m\u001b[1;32m     88\u001b[0m         \u001b[0mself\u001b[0m\u001b[0;34m.\u001b[0m\u001b[0m_filter_renderers\u001b[0m \u001b[0;34m=\u001b[0m \u001b[0;34m[\u001b[0m\u001b[0;34m]\u001b[0m\u001b[0;34m\u001b[0m\u001b[0;34m\u001b[0m\u001b[0m\n\u001b[1;32m     89\u001b[0m \u001b[0;34m\u001b[0m\u001b[0m\n",
            "\u001b[0;31mValueError\u001b[0m: Image size of 1399009x536 pixels is too large. It must be less than 2^16 in each direction."
          ]
        },
        {
          "output_type": "display_data",
          "data": {
            "text/plain": [
              "<Figure size 864x648 with 12 Axes>"
            ]
          },
          "metadata": {
            "tags": []
          }
        }
      ]
    },
    {
      "cell_type": "markdown",
      "metadata": {
        "id": "oly9HJEc_bkW",
        "colab_type": "text"
      },
      "source": [
        "#### NUTS sampler\n",
        "Use pm.sample without specifying a particular sampling method (pymc3 will choose it automatically).\n",
        "The sampling algorithm that will be used in this case is NUTS, which is a form of Hamiltonian Monte Carlo, in which parameters are tuned automatically. This is an advanced method that we hadn't cover in the lectures, but it usually converges faster and gives less correlated samples compared to vanilla Metropolis-Hastings."
      ]
    },
    {
      "cell_type": "code",
      "metadata": {
        "id": "peTeeSxa_bkW",
        "colab_type": "code",
        "outputId": "16f7f52f-5cd5-41f4-ba2b-407b9d4bcba5",
        "colab": {
          "base_uri": "https://localhost:8080/",
          "height": 153
        }
      },
      "source": [
        "%%time\n",
        "with pm.Model() as logistic_model:\n",
        "    # Train Bayesian logistic regression model on the following features: sex, age, age_squared, educ, hours\n",
        "    # Use pm.sample to run MCMC to train this model.\n",
        "    # Train your model for 400 samples.\n",
        "    # Training can take a while, so relax and wait :)\n",
        "    \n",
        "    #### YOUR CODE HERE ####\n",
        "    pm.glm.GLM.from_formula('income_more_50K ~ sex + age + age_squared + educ + hours',\n",
        "                           data, family = pm.glm.families.Binomial())\n",
        "    with logistic_model:\n",
        "      trace = pm.sample(4000, step = pm.NUTS())\n",
        "    \n",
        "    ### END OF YOUR CODE ###"
      ],
      "execution_count": 0,
      "outputs": [
        {
          "output_type": "stream",
          "text": [
            "Sequential sampling (2 chains in 1 job)\n",
            "NUTS: [hours, educ, age_squared, age, sex[T. Male], Intercept]\n",
            "100%|██████████| 4500/4500 [2:23:57<00:00,  1.92s/it]\n",
            "100%|██████████| 4500/4500 [44:44<00:00,  1.52it/s]\n",
            "The acceptance probability does not match the target. It is 0.988121389282871, but should be close to 0.8. Try to increase the number of tuning steps.\n",
            "The acceptance probability does not match the target. It is 0.96575204361189, but should be close to 0.8. Try to increase the number of tuning steps.\n"
          ],
          "name": "stderr"
        },
        {
          "output_type": "stream",
          "text": [
            "CPU times: user 2h 47min 37s, sys: 1h 40min 55s, total: 4h 28min 32s\n",
            "Wall time: 3h 8min 46s\n"
          ],
          "name": "stdout"
        }
      ]
    },
    {
      "cell_type": "code",
      "metadata": {
        "id": "VHeA2Nyz_bkY",
        "colab_type": "code",
        "outputId": "8751e582-485b-42c6-abe3-0d6c8a5a9079",
        "colab": {
          "base_uri": "https://localhost:8080/",
          "height": 657
        }
      },
      "source": [
        "plot_traces(trace)"
      ],
      "execution_count": 0,
      "outputs": [
        {
          "output_type": "display_data",
          "data": {
            "image/png": "[encoded data removed]",
            "text/plain": [
              "<Figure size 864x648 with 12 Axes>"
            ]
          },
          "metadata": {
            "tags": []
          }
        }
      ]
    },
    {
      "cell_type": "markdown",
      "metadata": {
        "id": "_AL35mtI_bka",
        "colab_type": "text"
      },
      "source": [
        "#### Estimating the odds ratio\n",
        "Now, let's build the posterior distribution on the odds ratio given the dataset (approximated by MCMC)."
      ]
    },
    {
      "cell_type": "code",
      "metadata": {
        "id": "4f6mP4SP_bka",
        "colab_type": "code",
        "outputId": "2160abcd-e3c2-4e33-996c-6f80cef08b39",
        "colab": {
          "base_uri": "https://localhost:8080/",
          "height": 334
        }
      },
      "source": [
        "# We don't need to use a large burn-in here, since we initialize sampling\n",
        "# from a good point (from our approximation of the most probable\n",
        "# point (MAP) to be more precise).\n",
        "burnin = 100\n",
        "b = trace['sex[T. Male]'][burnin:]\n",
        "plt.hist(np.exp(b), bins=20, normed=True)\n",
        "plt.xlabel(\"Odds Ratio\")\n",
        "plt.show()"
      ],
      "execution_count": 0,
      "outputs": [
        {
          "output_type": "stream",
          "text": [
            "/usr/local/lib/python3.6/dist-packages/matplotlib/axes/_axes.py:6521: MatplotlibDeprecationWarning: \n",
            "The 'normed' kwarg was deprecated in Matplotlib 2.1 and will be removed in 3.1. Use 'density' instead.\n",
            "  alternative=\"'density'\", removal=\"3.1\")\n"
          ],
          "name": "stderr"
        },
        {
          "output_type": "display_data",
          "data": {
            "image/png": "[encoded data removed]",
            "text/plain": [
              "<Figure size 432x288 with 1 Axes>"
            ]
          },
          "metadata": {
            "tags": []
          }
        }
      ]
    },
    {
      "cell_type": "markdown",
      "metadata": {
        "id": "19OBqige_bkb",
        "colab_type": "text"
      },
      "source": [
        "\n",
        "Finally, we can find a credible interval  (recall that credible intervals are Bayesian and confidence intervals are frequentist) for this quantity. This may be the best part about Bayesian statistics: we get to interpret credibility intervals the way we've always wanted to interpret them. We are 95% confident that the odds ratio lies within our interval!"
      ]
    },
    {
      "cell_type": "code",
      "metadata": {
        "id": "3ysWNF9f_bkc",
        "colab_type": "code",
        "outputId": "123d8ca0-1e01-4465-802e-a98782d06e4b",
        "colab": {
          "base_uri": "https://localhost:8080/",
          "height": 34
        }
      },
      "source": [
        "lb, ub = np.percentile(b, 2.5), np.percentile(b, 97.5)\n",
        "print(\"P(%.3f < Odds Ratio < %.3f) = 0.95\" % (np.exp(lb), np.exp(ub)))"
      ],
      "execution_count": 0,
      "outputs": [
        {
          "output_type": "stream",
          "text": [
            "P(3.007 < Odds Ratio < 3.489) = 0.95\n"
          ],
          "name": "stdout"
        }
      ]
    },
    {
      "cell_type": "code",
      "metadata": {
        "id": "Pe_Yd1iK_bkd",
        "colab_type": "code",
        "outputId": "782ce23f-073b-41fd-8937-ad0652f13623",
        "colab": {
          "base_uri": "https://localhost:8080/",
          "height": 51
        }
      },
      "source": [
        "# Submit the obtained credible interval.\n",
        "grader.submit_pymc_odds_ratio_interval(np.exp(lb), np.exp(ub))"
      ],
      "execution_count": 0,
      "outputs": [
        {
          "output_type": "stream",
          "text": [
            "Current answer for task 2.2 (credible interval lower bound) is: 3.006681033944118\n",
            "Current answer for task 2.2 (credible interval upper bound) is: 3.489087551746967\n"
          ],
          "name": "stdout"
        }
      ]
    },
    {
      "cell_type": "markdown",
      "metadata": {
        "id": "ICICLaID_bke",
        "colab_type": "text"
      },
      "source": [
        "### Task 2.3 interpreting the results"
      ]
    },
    {
      "cell_type": "code",
      "metadata": {
        "id": "wqTHHy7K_bkf",
        "colab_type": "code",
        "outputId": "d633bf1e-254f-4d1c-c76a-ad96fc46cd99",
        "colab": {
          "base_uri": "https://localhost:8080/",
          "height": 35
        }
      },
      "source": [
        "# Does the gender affects salary in the provided dataset?\n",
        "# (Note that the data is from 1996 and maybe not representative\n",
        "# of the current situation in the world.)\n",
        "POSSIBLE_ANSWERS = {\n",
        "    0: 'No, there is certainly no discrimination',\n",
        "    1: 'We cannot say for sure',\n",
        "    2: 'Yes, we are 95% sure that a female is *less* likely to get >$50K than a male with the same age, level of education, etc.', \n",
        "    3: 'Yes, we are 95% sure that a female is *more* likely to get >$50K than a male with the same age, level of education, etc.', \n",
        "}\n",
        "\n",
        "### TYPE THE INDEX OF THE CORRECT ANSWER HERE ###\n",
        "idx = 2\n",
        "answer = POSSIBLE_ANSWERS[idx]\n",
        "grader.submit_is_there_discrimination(answer)"
      ],
      "execution_count": 0,
      "outputs": [
        {
          "output_type": "stream",
          "text": [
            "Current answer for task 2.3 (does the data suggest gender discrimination?) is: Yes, we are 95% sure that a female is *less* likely to get >$50K than a male with the same age, level of education, etc.\n"
          ],
          "name": "stdout"
        }
      ]
    },
    {
      "cell_type": "markdown",
      "metadata": {
        "id": "QBDjxXSx_bkh",
        "colab_type": "text"
      },
      "source": [
        "# Authorization & Submission\n",
        "To submit assignment parts to Cousera platform, please, enter your e-mail and token into variables below. You can generate a token on this programming assignment's page. <b>Note:</b> The token expires 30 minutes after generation."
      ]
    },
    {
      "cell_type": "code",
      "metadata": {
        "id": "Ie5uh_lj_bkh",
        "colab_type": "code",
        "outputId": "0587e2e2-b1c7-4672-dada-df95ca9b52c6",
        "colab": {
          "base_uri": "https://localhost:8080/",
          "height": 233
        }
      },
      "source": [
        "STUDENT_EMAIL = \n",
        "STUDENT_TOKEN = \n",
        "grader.status()"
      ],
      "execution_count": 0,
      "outputs": [
        {
          "output_type": "stream",
          "text": [
            "You want to submit these numbers:\n",
            "Task 1.1 (Alice trajectory): 279.93428306022463  291.67686875834846\n",
            "Task 1.1 (Bob trajectory): 314.5384966605577  345.2425410740984\n",
            "Task 1.2 (Alice mean): 278.62821295463834\n",
            "Task 1.2 (Bob mean): 314.37642287694996\n",
            "Task 1.3 (Bob and Alice prices correlation): 0.9636340025161768\n",
            "Task 1.4 (depends on the random data or not): Does not depend on random seed and starting prices\n",
            "Task 2.1 (MAP for age coef): 0.04348259\n",
            "Task 2.1 (MAP for aducation coef): 0.36210894\n",
            "Task 2.2 (credible interval lower bound): 3.006681033944118\n",
            "Task 2.2 (credible interval upper bound): 3.489087551746967\n",
            "Task 2.3 (does the data suggest gender discrimination?): Yes, we are 95% sure that a female is *less* likely to get >$50K than a male with the same age, level of education, etc.\n"
          ],
          "name": "stdout"
        }
      ]
    },
    {
      "cell_type": "markdown",
      "metadata": {
        "id": "PeoxLuXy_bki",
        "colab_type": "text"
      },
      "source": [
        "If you want to submit these answers, run cell below"
      ]
    },
    {
      "cell_type": "code",
      "metadata": {
        "id": "2VDI9xk9_bkj",
        "colab_type": "code",
        "outputId": "46de1774-a286-410d-e087-be586aeb3d64",
        "colab": {
          "base_uri": "https://localhost:8080/",
          "height": 35
        }
      },
      "source": [
        "grader.submit(STUDENT_EMAIL, STUDENT_TOKEN)"
      ],
      "execution_count": 0,
      "outputs": [
        {
          "output_type": "stream",
          "text": [
            "Submitted to Coursera platform. See results on assignment page!\n"
          ],
          "name": "stdout"
        }
      ]
    },
    {
      "cell_type": "markdown",
      "metadata": {
        "id": "Svgkj_xk_bkl",
        "colab_type": "text"
      },
      "source": [
        "# (Optional) generating videos of sampling process\n",
        "In this part you will generate videos showing the sampling process."
      ]
    },
    {
      "cell_type": "markdown",
      "metadata": {
        "id": "dQ9CFSsF_bkl",
        "colab_type": "text"
      },
      "source": [
        "### Setting things up\n",
        "You don't need to modify the code below, it sets up the plotting functions. The code is based on [MCMC visualization tutorial](https://twiecki.github.io/blog/2014/01/02/visualizing-mcmc/)."
      ]
    },
    {
      "cell_type": "code",
      "metadata": {
        "id": "rBD9BpI2_bkm",
        "colab_type": "code",
        "colab": {}
      },
      "source": [
        "from IPython.display import HTML\n",
        "\n",
        "# Number of MCMC iteration to animate.\n",
        "samples = 400\n",
        "\n",
        "figsize(6, 6)\n",
        "fig = plt.figure()\n",
        "s_width = (0.81, 1.29)\n",
        "a_width = (0.11, 0.39)\n",
        "samples_width = (0, samples)\n",
        "ax1 = fig.add_subplot(221, xlim=s_width, ylim=samples_width)\n",
        "ax2 = fig.add_subplot(224, xlim=samples_width, ylim=a_width)\n",
        "ax3 = fig.add_subplot(223, xlim=s_width, ylim=a_width,\n",
        "                      xlabel='male coef',\n",
        "                      ylabel='educ coef')\n",
        "fig.subplots_adjust(wspace=0.0, hspace=0.0)\n",
        "line1, = ax1.plot([], [], lw=1)\n",
        "line2, = ax2.plot([], [], lw=1)\n",
        "line3, = ax3.plot([], [], 'o', lw=2, alpha=.1)\n",
        "line4, = ax3.plot([], [], lw=1, alpha=.3)\n",
        "line5, = ax3.plot([], [], 'k', lw=1)\n",
        "line6, = ax3.plot([], [], 'k', lw=1)\n",
        "ax1.set_xticklabels([])\n",
        "ax2.set_yticklabels([])\n",
        "lines = [line1, line2, line3, line4, line5, line6]\n",
        "\n",
        "def init():\n",
        "    for line in lines:\n",
        "        line.set_data([], [])\n",
        "    return lines\n",
        "\n",
        "def animate(i):\n",
        "    with logistic_model:\n",
        "        if i == 0:\n",
        "            # Burnin\n",
        "            for j in range(samples): iter_sample.__next__() \n",
        "        trace = iter_sample.__next__()\n",
        "    line1.set_data(trace['sex[T. Male]'][::-1], range(len(trace['sex[T. Male]'])))\n",
        "    line2.set_data(range(len(trace['educ'])), trace['educ'][::-1])\n",
        "    line3.set_data(trace['sex[T. Male]'], trace['educ'])\n",
        "    line4.set_data(trace['sex[T. Male]'], trace['educ'])\n",
        "    male = trace['sex[T. Male]'][-1]\n",
        "    educ = trace['educ'][-1]\n",
        "    line5.set_data([male, male], [educ, a_width[1]])\n",
        "    line6.set_data([male, s_width[1]], [educ, educ])\n",
        "    return lines"
      ],
      "execution_count": 0,
      "outputs": []
    },
    {
      "cell_type": "markdown",
      "metadata": {
        "id": "vkOMyuQ1_bko",
        "colab_type": "text"
      },
      "source": [
        "## Animating Metropolis-Hastings"
      ]
    },
    {
      "cell_type": "code",
      "metadata": {
        "id": "i0IhJcxt_bko",
        "colab_type": "code",
        "colab": {}
      },
      "source": [
        "with pm.Model() as logistic_model:\n",
        "    # Again define Bayesian logistic regression model on the following features: sex, age, age_squared, educ, hours\n",
        "    \n",
        "    #### YOUR CODE HERE ####\n",
        "    \n",
        "    ### END OF YOUR CODE ###\n",
        "    step = pm.Metropolis()\n",
        "    iter_sample = pm.iter_sample(2 * samples, step, start=map_estimate)\n",
        "anim = animation.FuncAnimation(fig, animate, init_func=init,\n",
        "                               frames=samples, interval=5, blit=True)\n",
        "HTML(anim.to_html5_video())\n",
        "# Note that generating the video may take a while."
      ],
      "execution_count": 0,
      "outputs": []
    },
    {
      "cell_type": "markdown",
      "metadata": {
        "id": "dg936rZE_bkq",
        "colab_type": "text"
      },
      "source": [
        "## Animating NUTS\n",
        "Now rerun the animation providing the NUTS sampling method as the step argument."
      ]
    },
    {
      "cell_type": "code",
      "metadata": {
        "id": "Vj5D2J_h_bkr",
        "colab_type": "code",
        "colab": {}
      },
      "source": [
        ""
      ],
      "execution_count": 0,
      "outputs": []
    }
  ]
}