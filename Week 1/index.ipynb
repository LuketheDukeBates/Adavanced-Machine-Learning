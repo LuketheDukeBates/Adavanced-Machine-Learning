{
 "cells": [
  {
   "cell_type": "markdown",
   "metadata": {},
   "source": [
    "# Measuring the Z boson mass\n",
    "\n",
    "\n",
    "Let's look at a sample of $Z$ boson candidates recorded by CMS in 2011 and published at CERN opendata portal. It comes from DoubleMuon dataset with the following selection applied:\n",
    "\n",
    "- Both muons are \"global\" muons\n",
    "- invariant mass sits in range: 60 GeV < $ M_{\\mu\\mu}$ < 120 GeV\n",
    "- |$\\eta$| < 2.1 for both muons\n",
    "- $p_{t}$ > 20 GeV\n",
    "\n",
    "The following columns presented in the CSV file:\n",
    "\n",
    "- `Run`, Event are the run and event numbers, respectively\n",
    "- `pt` is the transverse momentum $p_{t}$ of the muon\n",
    "- `eta` is the pseudorapidity of the muon: $\\eta$\n",
    "- `phi` is the $\\phi$ angle of the muon direction\n",
    "- `Q` is the charge of the muon\n",
    "- `dxy` is the impact parameter in the transverse plane: $d_{xy}$ - how distant is the track from the collision point\n",
    "- `iso` is the track isolation: $I_{track}$ - how many other tracks are there around given track"
   ]
  },
  {
   "cell_type": "code",
   "execution_count": 94,
   "metadata": {},
   "outputs": [],
   "source": [
    "import numpy as np\n",
    "import pandas as pd\n",
    "import matplotlib.pyplot as plt\n",
    "from skopt import gp_minimize\n",
    "%matplotlib inline"
   ]
  },
  {
   "cell_type": "markdown",
   "metadata": {},
   "source": [
    "## Read dataset"
   ]
  },
  {
   "cell_type": "code",
   "execution_count": 95,
   "metadata": {},
   "outputs": [
    {
     "data": {
      "text/plain": [
       "(10000, 14)"
      ]
     },
     "execution_count": 95,
     "metadata": {},
     "output_type": "execute_result"
    }
   ],
   "source": [
    "df = pd.read_csv('./Zmumu.csv')\n",
    "df.shape"
   ]
  },
  {
   "cell_type": "code",
   "execution_count": 96,
   "metadata": {},
   "outputs": [
    {
     "data": {
      "text/html": [
       "<div>\n",
       "<style scoped>\n",
       "    .dataframe tbody tr th:only-of-type {\n",
       "        vertical-align: middle;\n",
       "    }\n",
       "\n",
       "    .dataframe tbody tr th {\n",
       "        vertical-align: top;\n",
       "    }\n",
       "\n",
       "    .dataframe thead th {\n",
       "        text-align: right;\n",
       "    }\n",
       "</style>\n",
       "<table border=\"1\" class=\"dataframe\">\n",
       "  <thead>\n",
       "    <tr style=\"text-align: right;\">\n",
       "      <th></th>\n",
       "      <th>Run</th>\n",
       "      <th>Event</th>\n",
       "      <th>pt1</th>\n",
       "      <th>eta1</th>\n",
       "      <th>phi1</th>\n",
       "      <th>Q1</th>\n",
       "      <th>dxy1</th>\n",
       "      <th>iso1</th>\n",
       "      <th>pt2</th>\n",
       "      <th>eta2</th>\n",
       "      <th>phi2</th>\n",
       "      <th>Q2</th>\n",
       "      <th>dxy2</th>\n",
       "      <th>iso2</th>\n",
       "    </tr>\n",
       "  </thead>\n",
       "  <tbody>\n",
       "    <tr>\n",
       "      <th>0</th>\n",
       "      <td>165617</td>\n",
       "      <td>74969122</td>\n",
       "      <td>54.7055</td>\n",
       "      <td>-0.4324</td>\n",
       "      <td>2.5742</td>\n",
       "      <td>1</td>\n",
       "      <td>-0.0745</td>\n",
       "      <td>0.4999</td>\n",
       "      <td>34.2464</td>\n",
       "      <td>-0.9885</td>\n",
       "      <td>-0.4987</td>\n",
       "      <td>-1</td>\n",
       "      <td>0.0712</td>\n",
       "      <td>3.4221</td>\n",
       "    </tr>\n",
       "    <tr>\n",
       "      <th>1</th>\n",
       "      <td>165617</td>\n",
       "      <td>75138253</td>\n",
       "      <td>24.5872</td>\n",
       "      <td>-2.0522</td>\n",
       "      <td>2.8666</td>\n",
       "      <td>-1</td>\n",
       "      <td>-0.0554</td>\n",
       "      <td>0.0000</td>\n",
       "      <td>28.5389</td>\n",
       "      <td>0.3852</td>\n",
       "      <td>-1.9912</td>\n",
       "      <td>1</td>\n",
       "      <td>0.0515</td>\n",
       "      <td>0.0000</td>\n",
       "    </tr>\n",
       "    <tr>\n",
       "      <th>2</th>\n",
       "      <td>165617</td>\n",
       "      <td>75887636</td>\n",
       "      <td>31.7386</td>\n",
       "      <td>-2.2595</td>\n",
       "      <td>-1.3323</td>\n",
       "      <td>-1</td>\n",
       "      <td>0.0879</td>\n",
       "      <td>0.0000</td>\n",
       "      <td>30.2344</td>\n",
       "      <td>-0.4684</td>\n",
       "      <td>1.8833</td>\n",
       "      <td>1</td>\n",
       "      <td>-0.0876</td>\n",
       "      <td>0.0000</td>\n",
       "    </tr>\n",
       "    <tr>\n",
       "      <th>3</th>\n",
       "      <td>165617</td>\n",
       "      <td>75779415</td>\n",
       "      <td>39.7394</td>\n",
       "      <td>-0.7123</td>\n",
       "      <td>-0.3123</td>\n",
       "      <td>1</td>\n",
       "      <td>0.0585</td>\n",
       "      <td>0.0000</td>\n",
       "      <td>48.2790</td>\n",
       "      <td>-0.1956</td>\n",
       "      <td>2.9703</td>\n",
       "      <td>-1</td>\n",
       "      <td>-0.0492</td>\n",
       "      <td>0.0000</td>\n",
       "    </tr>\n",
       "    <tr>\n",
       "      <th>4</th>\n",
       "      <td>165617</td>\n",
       "      <td>75098104</td>\n",
       "      <td>41.2998</td>\n",
       "      <td>-0.1571</td>\n",
       "      <td>-3.0408</td>\n",
       "      <td>1</td>\n",
       "      <td>-0.0305</td>\n",
       "      <td>1.2280</td>\n",
       "      <td>43.4508</td>\n",
       "      <td>0.5910</td>\n",
       "      <td>-0.0428</td>\n",
       "      <td>-1</td>\n",
       "      <td>0.0442</td>\n",
       "      <td>0.0000</td>\n",
       "    </tr>\n",
       "  </tbody>\n",
       "</table>\n",
       "</div>"
      ],
      "text/plain": [
       "      Run     Event      pt1    eta1    phi1  Q1    dxy1    iso1      pt2  \\\n",
       "0  165617  74969122  54.7055 -0.4324  2.5742   1 -0.0745  0.4999  34.2464   \n",
       "1  165617  75138253  24.5872 -2.0522  2.8666  -1 -0.0554  0.0000  28.5389   \n",
       "2  165617  75887636  31.7386 -2.2595 -1.3323  -1  0.0879  0.0000  30.2344   \n",
       "3  165617  75779415  39.7394 -0.7123 -0.3123   1  0.0585  0.0000  48.2790   \n",
       "4  165617  75098104  41.2998 -0.1571 -3.0408   1 -0.0305  1.2280  43.4508   \n",
       "\n",
       "     eta2    phi2  Q2    dxy2    iso2  \n",
       "0 -0.9885 -0.4987  -1  0.0712  3.4221  \n",
       "1  0.3852 -1.9912   1  0.0515  0.0000  \n",
       "2 -0.4684  1.8833   1 -0.0876  0.0000  \n",
       "3 -0.1956  2.9703  -1 -0.0492  0.0000  \n",
       "4  0.5910 -0.0428  -1  0.0442  0.0000  "
      ]
     },
     "execution_count": 96,
     "metadata": {},
     "output_type": "execute_result"
    }
   ],
   "source": [
    "df.head()"
   ]
  },
  {
   "cell_type": "markdown",
   "metadata": {},
   "source": [
    "Let's calculate the invariant mass $M$ of the two muons using the formula\n",
    "\n",
    "$M = \\sqrt{2p_{t}^{1}p_{t}^{2}(\\cosh(\\eta_{1}-\\eta_{2}) - \\cos(\\phi_{1}-\\phi_{2}))}$"
   ]
  },
  {
   "cell_type": "code",
   "execution_count": 97,
   "metadata": {},
   "outputs": [
    {
     "data": {
      "text/html": [
       "<div>\n",
       "<style scoped>\n",
       "    .dataframe tbody tr th:only-of-type {\n",
       "        vertical-align: middle;\n",
       "    }\n",
       "\n",
       "    .dataframe tbody tr th {\n",
       "        vertical-align: top;\n",
       "    }\n",
       "\n",
       "    .dataframe thead th {\n",
       "        text-align: right;\n",
       "    }\n",
       "</style>\n",
       "<table border=\"1\" class=\"dataframe\">\n",
       "  <thead>\n",
       "    <tr style=\"text-align: right;\">\n",
       "      <th></th>\n",
       "      <th>Run</th>\n",
       "      <th>Event</th>\n",
       "      <th>pt1</th>\n",
       "      <th>eta1</th>\n",
       "      <th>phi1</th>\n",
       "      <th>Q1</th>\n",
       "      <th>dxy1</th>\n",
       "      <th>iso1</th>\n",
       "      <th>pt2</th>\n",
       "      <th>eta2</th>\n",
       "      <th>phi2</th>\n",
       "      <th>Q2</th>\n",
       "      <th>dxy2</th>\n",
       "      <th>iso2</th>\n",
       "      <th>M</th>\n",
       "    </tr>\n",
       "  </thead>\n",
       "  <tbody>\n",
       "    <tr>\n",
       "      <th>0</th>\n",
       "      <td>165617</td>\n",
       "      <td>74969122</td>\n",
       "      <td>54.7055</td>\n",
       "      <td>-0.4324</td>\n",
       "      <td>2.5742</td>\n",
       "      <td>1</td>\n",
       "      <td>-0.0745</td>\n",
       "      <td>0.4999</td>\n",
       "      <td>34.2464</td>\n",
       "      <td>-0.9885</td>\n",
       "      <td>-0.4987</td>\n",
       "      <td>-1</td>\n",
       "      <td>0.0712</td>\n",
       "      <td>3.4221</td>\n",
       "      <td>89.885919</td>\n",
       "    </tr>\n",
       "    <tr>\n",
       "      <th>1</th>\n",
       "      <td>165617</td>\n",
       "      <td>75138253</td>\n",
       "      <td>24.5872</td>\n",
       "      <td>-2.0522</td>\n",
       "      <td>2.8666</td>\n",
       "      <td>-1</td>\n",
       "      <td>-0.0554</td>\n",
       "      <td>0.0000</td>\n",
       "      <td>28.5389</td>\n",
       "      <td>0.3852</td>\n",
       "      <td>-1.9912</td>\n",
       "      <td>1</td>\n",
       "      <td>0.0515</td>\n",
       "      <td>0.0000</td>\n",
       "      <td>88.812177</td>\n",
       "    </tr>\n",
       "  </tbody>\n",
       "</table>\n",
       "</div>"
      ],
      "text/plain": [
       "      Run     Event      pt1    eta1    phi1  Q1    dxy1    iso1      pt2  \\\n",
       "0  165617  74969122  54.7055 -0.4324  2.5742   1 -0.0745  0.4999  34.2464   \n",
       "1  165617  75138253  24.5872 -2.0522  2.8666  -1 -0.0554  0.0000  28.5389   \n",
       "\n",
       "     eta2    phi2  Q2    dxy2    iso2          M  \n",
       "0 -0.9885 -0.4987  -1  0.0712  3.4221  89.885919  \n",
       "1  0.3852 -1.9912   1  0.0515  0.0000  88.812177  "
      ]
     },
     "execution_count": 97,
     "metadata": {},
     "output_type": "execute_result"
    }
   ],
   "source": [
    "df['M'] = np.sqrt(2 * df['pt1'] * df['pt2'] * (np.cosh(df['eta1'] - df['eta2']) - np.cos(df['phi1'] - df['phi2'])))\n",
    "df.head(2)"
   ]
  },
  {
   "cell_type": "markdown",
   "metadata": {},
   "source": [
    "# Model\n",
    "\n",
    "The distribution of the Z boson mass has the form of a normal distribution, in addition there is a noise. The distribution of the noise has an exponential form. Thus, the resulting model, it is a result of a superposition of two distributions - normal and polinomial"
   ]
  },
  {
   "cell_type": "markdown",
   "metadata": {},
   "source": [
    "Let's plot the distribution of Z boson mass"
   ]
  },
  {
   "cell_type": "code",
   "execution_count": 98,
   "metadata": {},
   "outputs": [],
   "source": [
    "def plot_mass(mass, bins_count=100):\n",
    "    y, x = np.histogram(mass, bins=bins_count, density=False)\n",
    "    err = np.sqrt(y)\n",
    "\n",
    "    fig = plt.figure(figsize=(15,7))\n",
    "    plt.title('Z mass', fontsize=20)\n",
    "    plt.xlabel(\"$m_{\\mu\\mu}$ [GeV]\", fontsize=20)\n",
    "    plt.ylabel(\"Number of events\", fontsize=20)\n",
    "    plt.errorbar(x[:-1], y, yerr=err, fmt='o', color='red', ecolor='grey', capthick=0.5, zorder=1, label=\"data\")\n",
    "    return y, x"
   ]
  },
  {
   "cell_type": "code",
   "execution_count": 99,
   "metadata": {},
   "outputs": [
    {
     "data": {
      "image/png": "[encoded data removed]",
      "text/plain": [
       "<Figure size 1080x504 with 1 Axes>"
      ]
     },
     "metadata": {
      "needs_background": "light"
     },
     "output_type": "display_data"
    }
   ],
   "source": [
    "plot_mass(df.M);"
   ]
  },
  {
   "cell_type": "markdown",
   "metadata": {},
   "source": [
    "## Exercise 1. clean up dataset a bit\n",
    "- demand that charge of muons should be opposite\n",
    "- $I_{track}$ < 3 and $d_{xy}$ < 0.2 cm"
   ]
  },
  {
   "cell_type": "code",
   "execution_count": null,
   "metadata": {},
   "outputs": [],
   "source": []
  },
  {
   "cell_type": "code",
   "execution_count": 100,
   "metadata": {},
   "outputs": [
    {
     "data": {
      "text/html": [
       "<div>\n",
       "<style scoped>\n",
       "    .dataframe tbody tr th:only-of-type {\n",
       "        vertical-align: middle;\n",
       "    }\n",
       "\n",
       "    .dataframe tbody tr th {\n",
       "        vertical-align: top;\n",
       "    }\n",
       "\n",
       "    .dataframe thead th {\n",
       "        text-align: right;\n",
       "    }\n",
       "</style>\n",
       "<table border=\"1\" class=\"dataframe\">\n",
       "  <thead>\n",
       "    <tr style=\"text-align: right;\">\n",
       "      <th></th>\n",
       "      <th>Run</th>\n",
       "      <th>Event</th>\n",
       "      <th>pt1</th>\n",
       "      <th>eta1</th>\n",
       "      <th>phi1</th>\n",
       "      <th>Q1</th>\n",
       "      <th>dxy1</th>\n",
       "      <th>iso1</th>\n",
       "      <th>pt2</th>\n",
       "      <th>eta2</th>\n",
       "      <th>phi2</th>\n",
       "      <th>Q2</th>\n",
       "      <th>dxy2</th>\n",
       "      <th>iso2</th>\n",
       "      <th>M</th>\n",
       "    </tr>\n",
       "  </thead>\n",
       "  <tbody>\n",
       "    <tr>\n",
       "      <th>count</th>\n",
       "      <td>10000.00000</td>\n",
       "      <td>1.000000e+04</td>\n",
       "      <td>10000.000000</td>\n",
       "      <td>10000.000000</td>\n",
       "      <td>10000.00000</td>\n",
       "      <td>10000.000000</td>\n",
       "      <td>10000.000000</td>\n",
       "      <td>10000.000000</td>\n",
       "      <td>10000.000000</td>\n",
       "      <td>10000.000000</td>\n",
       "      <td>10000.000000</td>\n",
       "      <td>10000.000000</td>\n",
       "      <td>10000.00000</td>\n",
       "      <td>10000.000000</td>\n",
       "      <td>10000.000000</td>\n",
       "    </tr>\n",
       "    <tr>\n",
       "      <th>mean</th>\n",
       "      <td>168783.06370</td>\n",
       "      <td>4.019532e+08</td>\n",
       "      <td>38.403231</td>\n",
       "      <td>-0.278699</td>\n",
       "      <td>-0.23353</td>\n",
       "      <td>-0.031200</td>\n",
       "      <td>0.006345</td>\n",
       "      <td>1.514267</td>\n",
       "      <td>38.639360</td>\n",
       "      <td>0.079500</td>\n",
       "      <td>0.250883</td>\n",
       "      <td>0.038400</td>\n",
       "      <td>0.01058</td>\n",
       "      <td>1.732420</td>\n",
       "      <td>87.973980</td>\n",
       "    </tr>\n",
       "    <tr>\n",
       "      <th>std</th>\n",
       "      <td>3929.76919</td>\n",
       "      <td>3.492634e+08</td>\n",
       "      <td>14.427817</td>\n",
       "      <td>1.352768</td>\n",
       "      <td>1.80456</td>\n",
       "      <td>0.999563</td>\n",
       "      <td>0.074693</td>\n",
       "      <td>6.353057</td>\n",
       "      <td>15.945227</td>\n",
       "      <td>0.871556</td>\n",
       "      <td>1.787396</td>\n",
       "      <td>0.999312</td>\n",
       "      <td>1.78079</td>\n",
       "      <td>6.812311</td>\n",
       "      <td>8.840568</td>\n",
       "    </tr>\n",
       "    <tr>\n",
       "      <th>min</th>\n",
       "      <td>160957.00000</td>\n",
       "      <td>8.922000e+04</td>\n",
       "      <td>3.463700</td>\n",
       "      <td>-2.437500</td>\n",
       "      <td>-3.14140</td>\n",
       "      <td>-1.000000</td>\n",
       "      <td>-3.588000</td>\n",
       "      <td>0.000000</td>\n",
       "      <td>3.266200</td>\n",
       "      <td>-2.428000</td>\n",
       "      <td>-3.141500</td>\n",
       "      <td>-1.000000</td>\n",
       "      <td>-2.00520</td>\n",
       "      <td>0.000000</td>\n",
       "      <td>60.002249</td>\n",
       "    </tr>\n",
       "    <tr>\n",
       "      <th>25%</th>\n",
       "      <td>166033.00000</td>\n",
       "      <td>1.250350e+08</td>\n",
       "      <td>30.160275</td>\n",
       "      <td>-1.429850</td>\n",
       "      <td>-1.77995</td>\n",
       "      <td>-1.000000</td>\n",
       "      <td>-0.051500</td>\n",
       "      <td>0.000000</td>\n",
       "      <td>30.033800</td>\n",
       "      <td>-0.566525</td>\n",
       "      <td>-1.258575</td>\n",
       "      <td>-1.000000</td>\n",
       "      <td>-0.06740</td>\n",
       "      <td>0.000000</td>\n",
       "      <td>86.940134</td>\n",
       "    </tr>\n",
       "    <tr>\n",
       "      <th>50%</th>\n",
       "      <td>167102.00000</td>\n",
       "      <td>3.206396e+08</td>\n",
       "      <td>38.883850</td>\n",
       "      <td>-0.557000</td>\n",
       "      <td>-0.42945</td>\n",
       "      <td>-1.000000</td>\n",
       "      <td>0.012100</td>\n",
       "      <td>0.000000</td>\n",
       "      <td>38.932350</td>\n",
       "      <td>0.076450</td>\n",
       "      <td>0.406600</td>\n",
       "      <td>1.000000</td>\n",
       "      <td>-0.01315</td>\n",
       "      <td>0.000000</td>\n",
       "      <td>90.285408</td>\n",
       "    </tr>\n",
       "    <tr>\n",
       "      <th>75%</th>\n",
       "      <td>173381.00000</td>\n",
       "      <td>5.666747e+08</td>\n",
       "      <td>45.057750</td>\n",
       "      <td>1.094800</td>\n",
       "      <td>1.30270</td>\n",
       "      <td>1.000000</td>\n",
       "      <td>0.066500</td>\n",
       "      <td>0.478550</td>\n",
       "      <td>45.194675</td>\n",
       "      <td>0.738500</td>\n",
       "      <td>1.803625</td>\n",
       "      <td>1.000000</td>\n",
       "      <td>0.05290</td>\n",
       "      <td>0.527525</td>\n",
       "      <td>92.152627</td>\n",
       "    </tr>\n",
       "    <tr>\n",
       "      <th>max</th>\n",
       "      <td>173692.00000</td>\n",
       "      <td>1.245305e+09</td>\n",
       "      <td>269.080000</td>\n",
       "      <td>2.099700</td>\n",
       "      <td>3.14140</td>\n",
       "      <td>1.000000</td>\n",
       "      <td>2.027700</td>\n",
       "      <td>184.728000</td>\n",
       "      <td>528.434000</td>\n",
       "      <td>2.099200</td>\n",
       "      <td>3.140900</td>\n",
       "      <td>1.000000</td>\n",
       "      <td>177.93100</td>\n",
       "      <td>151.295000</td>\n",
       "      <td>119.952704</td>\n",
       "    </tr>\n",
       "  </tbody>\n",
       "</table>\n",
       "</div>"
      ],
      "text/plain": [
       "                Run         Event           pt1          eta1         phi1  \\\n",
       "count   10000.00000  1.000000e+04  10000.000000  10000.000000  10000.00000   \n",
       "mean   168783.06370  4.019532e+08     38.403231     -0.278699     -0.23353   \n",
       "std      3929.76919  3.492634e+08     14.427817      1.352768      1.80456   \n",
       "min    160957.00000  8.922000e+04      3.463700     -2.437500     -3.14140   \n",
       "25%    166033.00000  1.250350e+08     30.160275     -1.429850     -1.77995   \n",
       "50%    167102.00000  3.206396e+08     38.883850     -0.557000     -0.42945   \n",
       "75%    173381.00000  5.666747e+08     45.057750      1.094800      1.30270   \n",
       "max    173692.00000  1.245305e+09    269.080000      2.099700      3.14140   \n",
       "\n",
       "                 Q1          dxy1          iso1           pt2          eta2  \\\n",
       "count  10000.000000  10000.000000  10000.000000  10000.000000  10000.000000   \n",
       "mean      -0.031200      0.006345      1.514267     38.639360      0.079500   \n",
       "std        0.999563      0.074693      6.353057     15.945227      0.871556   \n",
       "min       -1.000000     -3.588000      0.000000      3.266200     -2.428000   \n",
       "25%       -1.000000     -0.051500      0.000000     30.033800     -0.566525   \n",
       "50%       -1.000000      0.012100      0.000000     38.932350      0.076450   \n",
       "75%        1.000000      0.066500      0.478550     45.194675      0.738500   \n",
       "max        1.000000      2.027700    184.728000    528.434000      2.099200   \n",
       "\n",
       "               phi2            Q2         dxy2          iso2             M  \n",
       "count  10000.000000  10000.000000  10000.00000  10000.000000  10000.000000  \n",
       "mean       0.250883      0.038400      0.01058      1.732420     87.973980  \n",
       "std        1.787396      0.999312      1.78079      6.812311      8.840568  \n",
       "min       -3.141500     -1.000000     -2.00520      0.000000     60.002249  \n",
       "25%       -1.258575     -1.000000     -0.06740      0.000000     86.940134  \n",
       "50%        0.406600      1.000000     -0.01315      0.000000     90.285408  \n",
       "75%        1.803625      1.000000      0.05290      0.527525     92.152627  \n",
       "max        3.140900      1.000000    177.93100    151.295000    119.952704  "
      ]
     },
     "execution_count": 100,
     "metadata": {},
     "output_type": "execute_result"
    }
   ],
   "source": [
    "df.describe()"
   ]
  },
  {
   "cell_type": "code",
   "execution_count": 101,
   "metadata": {},
   "outputs": [],
   "source": [
    "### YOUR CODE GOES HERE ###\n",
    "df_sign = df[((df.Q1 > 0) & (df.Q2 < 0)) | \n",
    "             ((df.Q1 < 0) & (df.Q2 > 0))]"
   ]
  },
  {
   "cell_type": "code",
   "execution_count": 102,
   "metadata": {},
   "outputs": [
    {
     "data": {
      "text/html": [
       "<div>\n",
       "<style scoped>\n",
       "    .dataframe tbody tr th:only-of-type {\n",
       "        vertical-align: middle;\n",
       "    }\n",
       "\n",
       "    .dataframe tbody tr th {\n",
       "        vertical-align: top;\n",
       "    }\n",
       "\n",
       "    .dataframe thead th {\n",
       "        text-align: right;\n",
       "    }\n",
       "</style>\n",
       "<table border=\"1\" class=\"dataframe\">\n",
       "  <thead>\n",
       "    <tr style=\"text-align: right;\">\n",
       "      <th></th>\n",
       "      <th>Run</th>\n",
       "      <th>Event</th>\n",
       "      <th>pt1</th>\n",
       "      <th>eta1</th>\n",
       "      <th>phi1</th>\n",
       "      <th>Q1</th>\n",
       "      <th>dxy1</th>\n",
       "      <th>iso1</th>\n",
       "      <th>pt2</th>\n",
       "      <th>eta2</th>\n",
       "      <th>phi2</th>\n",
       "      <th>Q2</th>\n",
       "      <th>dxy2</th>\n",
       "      <th>iso2</th>\n",
       "      <th>M</th>\n",
       "    </tr>\n",
       "  </thead>\n",
       "  <tbody>\n",
       "    <tr>\n",
       "      <th>count</th>\n",
       "      <td>9664.000000</td>\n",
       "      <td>9.664000e+03</td>\n",
       "      <td>9664.000000</td>\n",
       "      <td>9664.000000</td>\n",
       "      <td>9664.000000</td>\n",
       "      <td>9664.000000</td>\n",
       "      <td>9664.000000</td>\n",
       "      <td>9664.000000</td>\n",
       "      <td>9664.000000</td>\n",
       "      <td>9664.000000</td>\n",
       "      <td>9664.000000</td>\n",
       "      <td>9664.000000</td>\n",
       "      <td>9664.000000</td>\n",
       "      <td>9664.000000</td>\n",
       "      <td>9664.000000</td>\n",
       "    </tr>\n",
       "    <tr>\n",
       "      <th>mean</th>\n",
       "      <td>168783.570882</td>\n",
       "      <td>4.024175e+08</td>\n",
       "      <td>38.808049</td>\n",
       "      <td>-0.264368</td>\n",
       "      <td>-0.234723</td>\n",
       "      <td>-0.036010</td>\n",
       "      <td>0.006993</td>\n",
       "      <td>1.085115</td>\n",
       "      <td>39.053798</td>\n",
       "      <td>0.062318</td>\n",
       "      <td>0.256068</td>\n",
       "      <td>0.036010</td>\n",
       "      <td>0.010998</td>\n",
       "      <td>1.171032</td>\n",
       "      <td>88.444943</td>\n",
       "    </tr>\n",
       "    <tr>\n",
       "      <th>std</th>\n",
       "      <td>3929.852060</td>\n",
       "      <td>3.496593e+08</td>\n",
       "      <td>14.125064</td>\n",
       "      <td>1.352139</td>\n",
       "      <td>1.804244</td>\n",
       "      <td>0.999403</td>\n",
       "      <td>0.065059</td>\n",
       "      <td>5.097745</td>\n",
       "      <td>15.489317</td>\n",
       "      <td>0.866361</td>\n",
       "      <td>1.785180</td>\n",
       "      <td>0.999403</td>\n",
       "      <td>1.811243</td>\n",
       "      <td>5.178132</td>\n",
       "      <td>8.246277</td>\n",
       "    </tr>\n",
       "    <tr>\n",
       "      <th>min</th>\n",
       "      <td>160957.000000</td>\n",
       "      <td>8.922000e+04</td>\n",
       "      <td>3.463700</td>\n",
       "      <td>-2.437500</td>\n",
       "      <td>-3.141400</td>\n",
       "      <td>-1.000000</td>\n",
       "      <td>-0.272400</td>\n",
       "      <td>0.000000</td>\n",
       "      <td>3.266200</td>\n",
       "      <td>-2.428000</td>\n",
       "      <td>-3.141500</td>\n",
       "      <td>-1.000000</td>\n",
       "      <td>-2.005200</td>\n",
       "      <td>0.000000</td>\n",
       "      <td>60.002249</td>\n",
       "    </tr>\n",
       "    <tr>\n",
       "      <th>25%</th>\n",
       "      <td>166033.000000</td>\n",
       "      <td>1.250137e+08</td>\n",
       "      <td>30.854075</td>\n",
       "      <td>-1.419525</td>\n",
       "      <td>-1.781025</td>\n",
       "      <td>-1.000000</td>\n",
       "      <td>-0.051225</td>\n",
       "      <td>0.000000</td>\n",
       "      <td>30.844525</td>\n",
       "      <td>-0.575300</td>\n",
       "      <td>-1.251225</td>\n",
       "      <td>-1.000000</td>\n",
       "      <td>-0.067700</td>\n",
       "      <td>0.000000</td>\n",
       "      <td>87.467992</td>\n",
       "    </tr>\n",
       "    <tr>\n",
       "      <th>50%</th>\n",
       "      <td>167102.000000</td>\n",
       "      <td>3.211575e+08</td>\n",
       "      <td>39.184000</td>\n",
       "      <td>-0.502400</td>\n",
       "      <td>-0.436800</td>\n",
       "      <td>-1.000000</td>\n",
       "      <td>0.012350</td>\n",
       "      <td>0.000000</td>\n",
       "      <td>39.269100</td>\n",
       "      <td>0.059500</td>\n",
       "      <td>0.414600</td>\n",
       "      <td>1.000000</td>\n",
       "      <td>-0.013100</td>\n",
       "      <td>0.000000</td>\n",
       "      <td>90.375271</td>\n",
       "    </tr>\n",
       "    <tr>\n",
       "      <th>75%</th>\n",
       "      <td>173381.000000</td>\n",
       "      <td>5.668731e+08</td>\n",
       "      <td>45.147750</td>\n",
       "      <td>1.105275</td>\n",
       "      <td>1.302825</td>\n",
       "      <td>1.000000</td>\n",
       "      <td>0.066700</td>\n",
       "      <td>0.401850</td>\n",
       "      <td>45.326175</td>\n",
       "      <td>0.713600</td>\n",
       "      <td>1.809300</td>\n",
       "      <td>1.000000</td>\n",
       "      <td>0.052500</td>\n",
       "      <td>0.439425</td>\n",
       "      <td>92.192474</td>\n",
       "    </tr>\n",
       "    <tr>\n",
       "      <th>max</th>\n",
       "      <td>173692.000000</td>\n",
       "      <td>1.245305e+09</td>\n",
       "      <td>269.080000</td>\n",
       "      <td>2.099700</td>\n",
       "      <td>3.141400</td>\n",
       "      <td>1.000000</td>\n",
       "      <td>2.027700</td>\n",
       "      <td>113.659000</td>\n",
       "      <td>528.434000</td>\n",
       "      <td>2.099200</td>\n",
       "      <td>3.140900</td>\n",
       "      <td>1.000000</td>\n",
       "      <td>177.931000</td>\n",
       "      <td>151.295000</td>\n",
       "      <td>119.952704</td>\n",
       "    </tr>\n",
       "  </tbody>\n",
       "</table>\n",
       "</div>"
      ],
      "text/plain": [
       "                 Run         Event          pt1         eta1         phi1  \\\n",
       "count    9664.000000  9.664000e+03  9664.000000  9664.000000  9664.000000   \n",
       "mean   168783.570882  4.024175e+08    38.808049    -0.264368    -0.234723   \n",
       "std      3929.852060  3.496593e+08    14.125064     1.352139     1.804244   \n",
       "min    160957.000000  8.922000e+04     3.463700    -2.437500    -3.141400   \n",
       "25%    166033.000000  1.250137e+08    30.854075    -1.419525    -1.781025   \n",
       "50%    167102.000000  3.211575e+08    39.184000    -0.502400    -0.436800   \n",
       "75%    173381.000000  5.668731e+08    45.147750     1.105275     1.302825   \n",
       "max    173692.000000  1.245305e+09   269.080000     2.099700     3.141400   \n",
       "\n",
       "                Q1         dxy1         iso1          pt2         eta2  \\\n",
       "count  9664.000000  9664.000000  9664.000000  9664.000000  9664.000000   \n",
       "mean     -0.036010     0.006993     1.085115    39.053798     0.062318   \n",
       "std       0.999403     0.065059     5.097745    15.489317     0.866361   \n",
       "min      -1.000000    -0.272400     0.000000     3.266200    -2.428000   \n",
       "25%      -1.000000    -0.051225     0.000000    30.844525    -0.575300   \n",
       "50%      -1.000000     0.012350     0.000000    39.269100     0.059500   \n",
       "75%       1.000000     0.066700     0.401850    45.326175     0.713600   \n",
       "max       1.000000     2.027700   113.659000   528.434000     2.099200   \n",
       "\n",
       "              phi2           Q2         dxy2         iso2            M  \n",
       "count  9664.000000  9664.000000  9664.000000  9664.000000  9664.000000  \n",
       "mean      0.256068     0.036010     0.010998     1.171032    88.444943  \n",
       "std       1.785180     0.999403     1.811243     5.178132     8.246277  \n",
       "min      -3.141500    -1.000000    -2.005200     0.000000    60.002249  \n",
       "25%      -1.251225    -1.000000    -0.067700     0.000000    87.467992  \n",
       "50%       0.414600     1.000000    -0.013100     0.000000    90.375271  \n",
       "75%       1.809300     1.000000     0.052500     0.439425    92.192474  \n",
       "max       3.140900     1.000000   177.931000   151.295000   119.952704  "
      ]
     },
     "execution_count": 102,
     "metadata": {},
     "output_type": "execute_result"
    }
   ],
   "source": [
    "df_sign.describe()"
   ]
  },
  {
   "cell_type": "code",
   "execution_count": 103,
   "metadata": {},
   "outputs": [
    {
     "data": {
      "text/plain": [
       "(9664, 15)"
      ]
     },
     "execution_count": 103,
     "metadata": {},
     "output_type": "execute_result"
    }
   ],
   "source": [
    "df_sign.shape"
   ]
  },
  {
   "cell_type": "code",
   "execution_count": 104,
   "metadata": {},
   "outputs": [],
   "source": [
    "### YOUR CODE GOES HERE ###\n",
    "\n",
    "df_isolation = df_sign[(df_sign.iso1 < 3) & \n",
    "                       (df_sign.iso2 < 3) & \n",
    "                       (df_sign.dxy1.abs() < 0.2) & \n",
    "                       (df_sign.dxy2.abs() < 0.2)]"
   ]
  },
  {
   "cell_type": "code",
   "execution_count": 105,
   "metadata": {},
   "outputs": [
    {
     "data": {
      "text/html": [
       "<div>\n",
       "<style scoped>\n",
       "    .dataframe tbody tr th:only-of-type {\n",
       "        vertical-align: middle;\n",
       "    }\n",
       "\n",
       "    .dataframe tbody tr th {\n",
       "        vertical-align: top;\n",
       "    }\n",
       "\n",
       "    .dataframe thead th {\n",
       "        text-align: right;\n",
       "    }\n",
       "</style>\n",
       "<table border=\"1\" class=\"dataframe\">\n",
       "  <thead>\n",
       "    <tr style=\"text-align: right;\">\n",
       "      <th></th>\n",
       "      <th>Run</th>\n",
       "      <th>Event</th>\n",
       "      <th>pt1</th>\n",
       "      <th>eta1</th>\n",
       "      <th>phi1</th>\n",
       "      <th>Q1</th>\n",
       "      <th>dxy1</th>\n",
       "      <th>iso1</th>\n",
       "      <th>pt2</th>\n",
       "      <th>eta2</th>\n",
       "      <th>phi2</th>\n",
       "      <th>Q2</th>\n",
       "      <th>dxy2</th>\n",
       "      <th>iso2</th>\n",
       "      <th>M</th>\n",
       "    </tr>\n",
       "  </thead>\n",
       "  <tbody>\n",
       "    <tr>\n",
       "      <th>count</th>\n",
       "      <td>8818.000000</td>\n",
       "      <td>8.818000e+03</td>\n",
       "      <td>8818.000000</td>\n",
       "      <td>8818.000000</td>\n",
       "      <td>8818.000000</td>\n",
       "      <td>8818.000000</td>\n",
       "      <td>8818.000000</td>\n",
       "      <td>8818.000000</td>\n",
       "      <td>8818.000000</td>\n",
       "      <td>8818.000000</td>\n",
       "      <td>8818.000000</td>\n",
       "      <td>8818.000000</td>\n",
       "      <td>8818.000000</td>\n",
       "      <td>8818.000000</td>\n",
       "      <td>8818.000000</td>\n",
       "    </tr>\n",
       "    <tr>\n",
       "      <th>mean</th>\n",
       "      <td>168811.726355</td>\n",
       "      <td>4.034512e+08</td>\n",
       "      <td>39.583133</td>\n",
       "      <td>-0.233892</td>\n",
       "      <td>-0.236384</td>\n",
       "      <td>-0.035155</td>\n",
       "      <td>0.006829</td>\n",
       "      <td>0.231321</td>\n",
       "      <td>39.747604</td>\n",
       "      <td>0.029843</td>\n",
       "      <td>0.254255</td>\n",
       "      <td>0.035155</td>\n",
       "      <td>-0.007151</td>\n",
       "      <td>0.242660</td>\n",
       "      <td>89.356601</td>\n",
       "    </tr>\n",
       "    <tr>\n",
       "      <th>std</th>\n",
       "      <td>3931.042709</td>\n",
       "      <td>3.499320e+08</td>\n",
       "      <td>13.424550</td>\n",
       "      <td>1.352035</td>\n",
       "      <td>1.802025</td>\n",
       "      <td>0.999439</td>\n",
       "      <td>0.060113</td>\n",
       "      <td>0.497203</td>\n",
       "      <td>13.674316</td>\n",
       "      <td>0.856801</td>\n",
       "      <td>1.790460</td>\n",
       "      <td>0.999439</td>\n",
       "      <td>0.060613</td>\n",
       "      <td>0.517063</td>\n",
       "      <td>6.971939</td>\n",
       "    </tr>\n",
       "    <tr>\n",
       "      <th>min</th>\n",
       "      <td>160957.000000</td>\n",
       "      <td>8.922000e+04</td>\n",
       "      <td>4.259000</td>\n",
       "      <td>-2.437500</td>\n",
       "      <td>-3.141400</td>\n",
       "      <td>-1.000000</td>\n",
       "      <td>-0.106500</td>\n",
       "      <td>0.000000</td>\n",
       "      <td>3.266200</td>\n",
       "      <td>-2.428000</td>\n",
       "      <td>-3.141500</td>\n",
       "      <td>-1.000000</td>\n",
       "      <td>-0.130600</td>\n",
       "      <td>0.000000</td>\n",
       "      <td>60.013511</td>\n",
       "    </tr>\n",
       "    <tr>\n",
       "      <th>25%</th>\n",
       "      <td>166033.000000</td>\n",
       "      <td>1.251960e+08</td>\n",
       "      <td>32.158175</td>\n",
       "      <td>-1.400550</td>\n",
       "      <td>-1.781325</td>\n",
       "      <td>-1.000000</td>\n",
       "      <td>-0.050975</td>\n",
       "      <td>0.000000</td>\n",
       "      <td>32.125800</td>\n",
       "      <td>-0.595100</td>\n",
       "      <td>-1.263000</td>\n",
       "      <td>-1.000000</td>\n",
       "      <td>-0.067400</td>\n",
       "      <td>0.000000</td>\n",
       "      <td>88.195698</td>\n",
       "    </tr>\n",
       "    <tr>\n",
       "      <th>50%</th>\n",
       "      <td>167102.000000</td>\n",
       "      <td>3.219309e+08</td>\n",
       "      <td>39.716700</td>\n",
       "      <td>-0.441600</td>\n",
       "      <td>-0.436800</td>\n",
       "      <td>-1.000000</td>\n",
       "      <td>0.012400</td>\n",
       "      <td>0.000000</td>\n",
       "      <td>39.807900</td>\n",
       "      <td>0.030450</td>\n",
       "      <td>0.414900</td>\n",
       "      <td>1.000000</td>\n",
       "      <td>-0.013250</td>\n",
       "      <td>0.000000</td>\n",
       "      <td>90.544158</td>\n",
       "    </tr>\n",
       "    <tr>\n",
       "      <th>75%</th>\n",
       "      <td>173381.000000</td>\n",
       "      <td>5.682823e+08</td>\n",
       "      <td>45.354625</td>\n",
       "      <td>1.130150</td>\n",
       "      <td>1.299800</td>\n",
       "      <td>1.000000</td>\n",
       "      <td>0.066800</td>\n",
       "      <td>0.244225</td>\n",
       "      <td>45.460425</td>\n",
       "      <td>0.681500</td>\n",
       "      <td>1.809200</td>\n",
       "      <td>1.000000</td>\n",
       "      <td>0.051675</td>\n",
       "      <td>0.255150</td>\n",
       "      <td>92.289280</td>\n",
       "    </tr>\n",
       "    <tr>\n",
       "      <th>max</th>\n",
       "      <td>173692.000000</td>\n",
       "      <td>1.245305e+09</td>\n",
       "      <td>269.080000</td>\n",
       "      <td>2.099700</td>\n",
       "      <td>3.141400</td>\n",
       "      <td>1.000000</td>\n",
       "      <td>0.127400</td>\n",
       "      <td>2.979900</td>\n",
       "      <td>341.599000</td>\n",
       "      <td>2.098100</td>\n",
       "      <td>3.140900</td>\n",
       "      <td>1.000000</td>\n",
       "      <td>0.136000</td>\n",
       "      <td>2.991700</td>\n",
       "      <td>119.952704</td>\n",
       "    </tr>\n",
       "  </tbody>\n",
       "</table>\n",
       "</div>"
      ],
      "text/plain": [
       "                 Run         Event          pt1         eta1         phi1  \\\n",
       "count    8818.000000  8.818000e+03  8818.000000  8818.000000  8818.000000   \n",
       "mean   168811.726355  4.034512e+08    39.583133    -0.233892    -0.236384   \n",
       "std      3931.042709  3.499320e+08    13.424550     1.352035     1.802025   \n",
       "min    160957.000000  8.922000e+04     4.259000    -2.437500    -3.141400   \n",
       "25%    166033.000000  1.251960e+08    32.158175    -1.400550    -1.781325   \n",
       "50%    167102.000000  3.219309e+08    39.716700    -0.441600    -0.436800   \n",
       "75%    173381.000000  5.682823e+08    45.354625     1.130150     1.299800   \n",
       "max    173692.000000  1.245305e+09   269.080000     2.099700     3.141400   \n",
       "\n",
       "                Q1         dxy1         iso1          pt2         eta2  \\\n",
       "count  8818.000000  8818.000000  8818.000000  8818.000000  8818.000000   \n",
       "mean     -0.035155     0.006829     0.231321    39.747604     0.029843   \n",
       "std       0.999439     0.060113     0.497203    13.674316     0.856801   \n",
       "min      -1.000000    -0.106500     0.000000     3.266200    -2.428000   \n",
       "25%      -1.000000    -0.050975     0.000000    32.125800    -0.595100   \n",
       "50%      -1.000000     0.012400     0.000000    39.807900     0.030450   \n",
       "75%       1.000000     0.066800     0.244225    45.460425     0.681500   \n",
       "max       1.000000     0.127400     2.979900   341.599000     2.098100   \n",
       "\n",
       "              phi2           Q2         dxy2         iso2            M  \n",
       "count  8818.000000  8818.000000  8818.000000  8818.000000  8818.000000  \n",
       "mean      0.254255     0.035155    -0.007151     0.242660    89.356601  \n",
       "std       1.790460     0.999439     0.060613     0.517063     6.971939  \n",
       "min      -3.141500    -1.000000    -0.130600     0.000000    60.013511  \n",
       "25%      -1.263000    -1.000000    -0.067400     0.000000    88.195698  \n",
       "50%       0.414900     1.000000    -0.013250     0.000000    90.544158  \n",
       "75%       1.809200     1.000000     0.051675     0.255150    92.289280  \n",
       "max       3.140900     1.000000     0.136000     2.991700   119.952704  "
      ]
     },
     "execution_count": 105,
     "metadata": {},
     "output_type": "execute_result"
    }
   ],
   "source": [
    "df_isolation.describe()"
   ]
  },
  {
   "cell_type": "code",
   "execution_count": 106,
   "metadata": {},
   "outputs": [
    {
     "data": {
      "text/plain": [
       "(8818, 15)"
      ]
     },
     "execution_count": 106,
     "metadata": {},
     "output_type": "execute_result"
    }
   ],
   "source": [
    "df_isolation.shape"
   ]
  },
  {
   "cell_type": "code",
   "execution_count": 107,
   "metadata": {},
   "outputs": [],
   "source": [
    "df = df_isolation"
   ]
  },
  {
   "cell_type": "code",
   "execution_count": 108,
   "metadata": {},
   "outputs": [
    {
     "data": {
      "image/png": "[encoded data removed]",
      "text/plain": [
       "<Figure size 1080x504 with 1 Axes>"
      ]
     },
     "metadata": {
      "needs_background": "light"
     },
     "output_type": "display_data"
    }
   ],
   "source": [
    "plot_mass(df.M);"
   ]
  },
  {
   "cell_type": "markdown",
   "metadata": {},
   "source": [
    "### Let's define parametrised model\n",
    "it should represent mixture of 1) Gaussian signal and 2) background that for the simplicity we consider to be flat over mass. So it gives the following set of parameters:\n",
    "\n",
    "- m0 - center of the Gaussian\n",
    "- sigma - standard deviation of the Gaussian\n",
    "- ampl - height of the peak\n",
    "- bck - height of the background \n",
    "\n",
    "finding those parameters is called _fitting_ model into the data. It will be the goal for the rest of the exercise. For simplicity sake we'll stick with old good binned fit."
   ]
  },
  {
   "cell_type": "code",
   "execution_count": 109,
   "metadata": {},
   "outputs": [],
   "source": [
    "def model_predict(params, X):\n",
    "    m0, sigma, ampl, bck = params\n",
    "    return bck + ampl / (sigma * np.sqrt(2 * np.pi)) * np.exp((-1) * (X - m0)**2 / (2 * sigma**2))"
   ]
  },
  {
   "cell_type": "code",
   "execution_count": 110,
   "metadata": {},
   "outputs": [],
   "source": [
    "def model_loss(params, X, y):\n",
    "#     y, x = np.histogram(mass, bins=bins_count, density=False)\n",
    "#     residuals = model_predict(params, (x[1:] + x[:-1])/2) - y \n",
    "    residuals = y - model_predict(params, X)\n",
    "    return np.sum(residuals**2) / len(residuals)"
   ]
  },
  {
   "cell_type": "code",
   "execution_count": 111,
   "metadata": {},
   "outputs": [],
   "source": [
    "def plot_mass_with_model(params, mass, bins_count=100):\n",
    "    y, X = plot_mass(mass, bins_count=bins_count)\n",
    "    X = (X[1:] + X[:-1]) / 2\n",
    "    error = model_loss(params, X, y)\n",
    "    plt.plot(X, model_predict(params, X), color='blue', linewidth=3.0, zorder=2, label=\"fit, loss=%.2f\" % error)\n",
    "    plt.legend(fontsize='x-large')"
   ]
  },
  {
   "cell_type": "markdown",
   "metadata": {},
   "source": [
    "## Here you can fit model parameters by hand"
   ]
  },
  {
   "cell_type": "code",
   "execution_count": 129,
   "metadata": {},
   "outputs": [
    {
     "data": {
      "image/png": "[encoded data removed]",
      "text/plain": [
       "<Figure size 1080x504 with 1 Axes>"
      ]
     },
     "metadata": {
      "needs_background": "light"
     },
     "output_type": "display_data"
    }
   ],
   "source": [
    "plot_mass_with_model((90.880225235997, 2.2349221263712424, 3086, 16), df.M)"
   ]
  },
  {
   "cell_type": "markdown",
   "metadata": {},
   "source": [
    "## ... but you can do it automatically of course"
   ]
  },
  {
   "cell_type": "markdown",
   "metadata": {},
   "source": [
    "Setting up a scikit optimizer"
   ]
  },
  {
   "cell_type": "code",
   "execution_count": 118,
   "metadata": {},
   "outputs": [],
   "source": [
    "from tqdm import tqdm\n",
    "from skopt import Optimizer\n",
    "\n",
    "search_space = [(85.0, 95.0), # m0 range\n",
    "    (0.5, 3.0), # sigma range\n",
    "    (3000, 4000), # amplitude range\n",
    "    (10, 25) # bck range\n",
    "    ]\n",
    "y, X = np.histogram(df.M, bins=120, density=False)\n",
    "X = (X[1:] + X[:-1]) / 2\n",
    "opt = Optimizer(search_space, base_estimator=\"GP\", acq_func=\"EI\", acq_optimizer=\"lbfgs\")"
   ]
  },
  {
   "cell_type": "markdown",
   "metadata": {},
   "source": [
    "Running it for a while. You can re-run this cell several times"
   ]
  },
  {
   "cell_type": "code",
   "execution_count": 119,
   "metadata": {},
   "outputs": [
    {
     "name": "stderr",
     "output_type": "stream",
     "text": [
      "100%|████████████████████████████████████████████████████████████████████████████████| 300/300 [08:22<00:00,  4.45s/it]\n"
     ]
    }
   ],
   "source": [
    "from skopt.utils import create_result\n",
    "for i in tqdm(range(300)):\n",
    "    next_x = opt.ask()\n",
    "    f_val = model_loss(next_x, X, y)\n",
    "    opt.tell(next_x, f_val)\n",
    "    \n",
    "res = create_result(Xi=opt.Xi, yi=opt.yi, space=opt.space,\n",
    "                         rng=opt.rng, models=opt.models)"
   ]
  },
  {
   "cell_type": "markdown",
   "metadata": {},
   "source": [
    "## A bit of search history"
   ]
  },
  {
   "cell_type": "code",
   "execution_count": 120,
   "metadata": {},
   "outputs": [
    {
     "name": "stdout",
     "output_type": "stream",
     "text": [
      "[('m0', 90.880225235997), ('sigma', 2.2349221263712424), ('ampl', 3086), ('bck', 16)]\n"
     ]
    },
    {
     "data": {
      "image/png": "[encoded data removed]",
      "text/plain": [
       "<Figure size 432x288 with 1 Axes>"
      ]
     },
     "metadata": {
      "needs_background": "light"
     },
     "output_type": "display_data"
    }
   ],
   "source": [
    "import skopt.plots\n",
    "skopt.plots.plot_convergence(res)\n",
    "print (list(zip([\"m0\", \"sigma\", \"ampl\", \"bck\"], res.x)))"
   ]
  },
  {
   "cell_type": "code",
   "execution_count": 121,
   "metadata": {},
   "outputs": [
    {
     "data": {
      "text/plain": [
       "array([[<matplotlib.axes._subplots.AxesSubplot object at 0x000001CE15EB4C88>,\n",
       "        <matplotlib.axes._subplots.AxesSubplot object at 0x000001CE0F70BEF0>,\n",
       "        <matplotlib.axes._subplots.AxesSubplot object at 0x000001CE160FE748>,\n",
       "        <matplotlib.axes._subplots.AxesSubplot object at 0x000001CE16329390>],\n",
       "       [<matplotlib.axes._subplots.AxesSubplot object at 0x000001CE146B79B0>,\n",
       "        <matplotlib.axes._subplots.AxesSubplot object at 0x000001CE1442F048>,\n",
       "        <matplotlib.axes._subplots.AxesSubplot object at 0x000001CE13B6B6D8>,\n",
       "        <matplotlib.axes._subplots.AxesSubplot object at 0x000001CE168F8D68>],\n",
       "       [<matplotlib.axes._subplots.AxesSubplot object at 0x000001CE13DD3438>,\n",
       "        <matplotlib.axes._subplots.AxesSubplot object at 0x000001CE160C7AC8>,\n",
       "        <matplotlib.axes._subplots.AxesSubplot object at 0x000001CE15CB0198>,\n",
       "        <matplotlib.axes._subplots.AxesSubplot object at 0x000001CE13B7D828>],\n",
       "       [<matplotlib.axes._subplots.AxesSubplot object at 0x000001CE160B1EB8>,\n",
       "        <matplotlib.axes._subplots.AxesSubplot object at 0x000001CE13FDD588>,\n",
       "        <matplotlib.axes._subplots.AxesSubplot object at 0x000001CE1472CC18>,\n",
       "        <matplotlib.axes._subplots.AxesSubplot object at 0x000001CE15EAA2E8>]],\n",
       "      dtype=object)"
      ]
     },
     "execution_count": 121,
     "metadata": {},
     "output_type": "execute_result"
    },
    {
     "data": {
      "image/png": "[encoded data removed]",
      "text/plain": [
       "<Figure size 576x576 with 16 Axes>"
      ]
     },
     "metadata": {
      "needs_background": "light"
     },
     "output_type": "display_data"
    }
   ],
   "source": [
    "# even more details on the search space\n",
    "skopt.plots.plot_objective(res, dimensions=['m0', 'sigma', 'ampl', 'bck'])\n"
   ]
  },
  {
   "cell_type": "markdown",
   "metadata": {},
   "source": [
    "Let's see how well the prediction fits the data"
   ]
  },
  {
   "cell_type": "code",
   "execution_count": 122,
   "metadata": {},
   "outputs": [
    {
     "data": {
      "image/png": "[encoded data removed]",
      "text/plain": [
       "<Figure size 1080x504 with 1 Axes>"
      ]
     },
     "metadata": {
      "needs_background": "light"
     },
     "output_type": "display_data"
    }
   ],
   "source": [
    "plot_mass_with_model(res.x, df.M, bins_count=120)"
   ]
  },
  {
   "cell_type": "code",
   "execution_count": 126,
   "metadata": {},
   "outputs": [],
   "source": [
    "# token expires every 30 min\n",
    "COURSERA_TOKEN = \"\"### YOUR TOKEN HERE\n",
    "COURSERA_EMAIL = \"\"### YOUR EMAIL HERE"
   ]
  },
  {
   "cell_type": "markdown",
   "metadata": {},
   "source": [
    "## Grader part, do not change, please"
   ]
  },
  {
   "cell_type": "code",
   "execution_count": 127,
   "metadata": {},
   "outputs": [],
   "source": [
    "import grading\n",
    "grader = grading.Grader(assignment_key=\"SeMsm2JfEeiyvBKA0wfIgA\", \n",
    "                      all_parts=[\"VI3xu\", \"VuE8x\", \"KzmMV\", \"TwZBF\"])\n"
   ]
  },
  {
   "cell_type": "code",
   "execution_count": 128,
   "metadata": {},
   "outputs": [
    {
     "name": "stdout",
     "output_type": "stream",
     "text": [
      "Submitted to Coursera platform. See results on assignment page!\n"
     ]
    }
   ],
   "source": [
    "ans_part1 = round(res.x[0])\n",
    "grader.set_answer(\"VI3xu\", ans_part1)\n",
    "\n",
    "ans_part2 = round(res.x[1], 2)\n",
    "grader.set_answer(\"VuE8x\", ans_part2)\n",
    "\n",
    "ans_part3 = round(res.x[3])\n",
    "grader.set_answer(\"KzmMV\", ans_part3)\n",
    "\n",
    "ans_part4 = round(res.x[2])\n",
    "grader.set_answer(\"TwZBF\", ans_part4)\n",
    "\n",
    "grader.submit(COURSERA_EMAIL, COURSERA_TOKEN)"
   ]
  },
  {
   "cell_type": "code",
   "execution_count": null,
   "metadata": {},
   "outputs": [],
   "source": []
  }
 ],
 "metadata": {
  "anaconda-cloud": {},
  "kernelspec": {
   "display_name": "Python 3",
   "language": "python",
   "name": "python3"
  },
  "language_info": {
   "codemirror_mode": {
    "name": "ipython",
    "version": 3
   },
   "file_extension": ".py",
   "mimetype": "text/x-python",
   "name": "python",
   "nbconvert_exporter": "python",
   "pygments_lexer": "ipython3",
   "version": "3.6.7"
  }
 },
 "nbformat": 4,
 "nbformat_minor": 2
}
