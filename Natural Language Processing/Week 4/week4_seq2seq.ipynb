{
 "cells": [
  {
   "cell_type": "markdown",
   "metadata": {
    "colab_type": "text",
    "id": "INN5cd7wLqRp"
   },
   "source": [
    "# Learn to calculate with seq2seq model\n",
    "\n",
    "In this assignment, you will learn how to use neural networks to solve sequence-to-sequence prediction tasks. Seq2Seq models are very popular these days because they achieve great results in Machine Translation, Text Summarization, Conversational Modeling and more.\n",
    "\n",
    "Using sequence-to-sequence modeling you are going to build a calculator for evaluating arithmetic expressions, by taking an equation as an input to the neural network and producing an answer as it's output.\n",
    "\n",
    "The resulting solution for this problem will be based on state-of-the-art approaches for sequence-to-sequence learning and you should be able to easily adapt it to solve other tasks. However, if you want to train your own machine translation system or intellectual chat bot, it would be useful to have access to compute resources like GPU, and be patient, because training of such systems is usually time consuming. \n",
    "\n",
    "### Libraries\n",
    "\n",
    "For this task you will need the following libraries:\n",
    " - [TensorFlow](https://www.tensorflow.org) — an open-source software library for Machine Intelligence.\n",
    " - [scikit-learn](http://scikit-learn.org/stable/index.html) — a tool for data mining and data analysis.\n",
    " \n",
    "If you have never worked with TensorFlow, you will probably want to read some tutorials during your work on this assignment, e.g. [Neural Machine Translation](https://www.tensorflow.org/tutorials/seq2seq) tutorial deals with very similar task and can explain some concepts to you. "
   ]
  },
  {
   "cell_type": "markdown",
   "metadata": {
    "colab_type": "text",
    "id": "HWVGp10gLqRr"
   },
   "source": [
    "### Data\n",
    "\n",
    "One benefit of this task is that you don't need to download any data — you will generate it on your own! We will use two operators (addition and subtraction) and work with positive integer numbers in some range. Here are examples of correct inputs and outputs:\n",
    "\n",
    "    Input: '1+2'\n",
    "    Output: '3'\n",
    "    \n",
    "    Input: '0-99'\n",
    "    Output: '-99'\n",
    "\n",
    "*Note, that there are no spaces between operators and operands.*\n",
    "\n",
    "\n",
    "Now you need to implement the function *generate_equations*, which will be used to generate the data."
   ]
  },
  {
   "cell_type": "code",
   "execution_count": 1,
   "metadata": {
    "colab": {
     "base_uri": "https://localhost:8080/",
     "height": 204
    },
    "colab_type": "code",
    "id": "x7i7WEsGLxto",
    "outputId": "039eb1fe-05c1-4580-eba2-e5fc975aa166"
   },
   "outputs": [
    {
     "name": "stdout",
     "output_type": "stream",
     "text": [
      "--2019-05-02 08:39:40--  https://raw.githubusercontent.com/hse-aml/natural-language-processing/master/setup_google_colab.py\n",
      "Resolving raw.githubusercontent.com (raw.githubusercontent.com)... 151.101.0.133, 151.101.64.133, 151.101.128.133, ...\n",
      "Connecting to raw.githubusercontent.com (raw.githubusercontent.com)|151.101.0.133|:443... connected.\n",
      "HTTP request sent, awaiting response... 200 OK\n",
      "Length: 2330 (2.3K) [text/plain]\n",
      "Saving to: ‘setup_google_colab.py’\n",
      "\n",
      "\r",
      "setup_google_colab.   0%[                    ]       0  --.-KB/s               \r",
      "setup_google_colab. 100%[===================>]   2.28K  --.-KB/s    in 0s      \n",
      "\n",
      "2019-05-02 08:39:40 (52.5 MB/s) - ‘setup_google_colab.py’ saved [2330/2330]\n",
      "\n"
     ]
    }
   ],
   "source": [
    "! wget https://raw.githubusercontent.com/hse-aml/natural-language-processing/master/setup_google_colab.py -O setup_google_colab.py\n",
    "import setup_google_colab\n",
    "setup_google_colab.setup_week4()"
   ]
  },
  {
   "cell_type": "code",
   "execution_count": 0,
   "metadata": {
    "colab": {},
    "colab_type": "code",
    "id": "CNhb491iLqRr"
   },
   "outputs": [],
   "source": [
    "import random"
   ]
  },
  {
   "cell_type": "code",
   "execution_count": 0,
   "metadata": {
    "colab": {},
    "colab_type": "code",
    "id": "ASa99u8uLqRu"
   },
   "outputs": [],
   "source": [
    "def generate_equations(allowed_operators, dataset_size, min_value, max_value):\n",
    "    \"\"\"Generates pairs of equations and solutions to them.\n",
    "    \n",
    "       Each equation has a form of two integers with an operator in between.\n",
    "       Each solution is an integer with the result of the operaion.\n",
    "    \n",
    "        allowed_operators: list of strings, allowed operators.\n",
    "        dataset_size: an integer, number of equations to be generated.\n",
    "        min_value: an integer, min value of each operand.\n",
    "        max_value: an integer, max value of each operand.\n",
    "\n",
    "        result: a list of tuples of strings (equation, solution).\n",
    "    \"\"\"\n",
    "    sample = []\n",
    "    for _ in range(dataset_size):\n",
    "        ######################################\n",
    "        ######### YOUR CODE HERE #############\n",
    "        ######################################\n",
    "        a = str(random.randint(min_value, max_value))\n",
    "        b = str(random.randint(min_value, max_value))\n",
    "        formula = a + random.choice(allowed_operators) + b\n",
    "        sample.append((formula, str(eval(formula))))\n",
    "    return sample"
   ]
  },
  {
   "cell_type": "markdown",
   "metadata": {
    "colab_type": "text",
    "id": "6VQO38NNLqRv"
   },
   "source": [
    "To check the correctness of your implementation, use *test_generate_equations* function:"
   ]
  },
  {
   "cell_type": "code",
   "execution_count": 0,
   "metadata": {
    "colab": {},
    "colab_type": "code",
    "id": "9Wr19YVcLqRw"
   },
   "outputs": [],
   "source": [
    "def test_generate_equations():\n",
    "    allowed_operators = ['+', '-']\n",
    "    dataset_size = 10\n",
    "    for (input_, output_) in generate_equations(allowed_operators, dataset_size, 0, 100):\n",
    "        if not (type(input_) is str and type(output_) is str):\n",
    "            return \"Both parts should be strings.\"\n",
    "        if eval(input_) != int(output_):\n",
    "            return \"The (equation: {!r}, solution: {!r}) pair is incorrect.\".format(input_, output_)\n",
    "    return \"Tests passed.\""
   ]
  },
  {
   "cell_type": "code",
   "execution_count": 5,
   "metadata": {
    "colab": {
     "base_uri": "https://localhost:8080/",
     "height": 34
    },
    "colab_type": "code",
    "id": "o0t2r2KZLqRy",
    "outputId": "71698f30-a308-4139-f118-6ed113507d39"
   },
   "outputs": [
    {
     "name": "stdout",
     "output_type": "stream",
     "text": [
      "Tests passed.\n"
     ]
    }
   ],
   "source": [
    "print(test_generate_equations())"
   ]
  },
  {
   "cell_type": "markdown",
   "metadata": {
    "colab_type": "text",
    "id": "ncB9Jdo8LqRz"
   },
   "source": [
    "Finally, we are ready to generate the train and test data for the neural network:"
   ]
  },
  {
   "cell_type": "code",
   "execution_count": 0,
   "metadata": {
    "colab": {},
    "colab_type": "code",
    "id": "tPCjafmNLqR0"
   },
   "outputs": [],
   "source": [
    "from sklearn.model_selection import train_test_split"
   ]
  },
  {
   "cell_type": "code",
   "execution_count": 0,
   "metadata": {
    "colab": {},
    "colab_type": "code",
    "id": "rtotlajzLqR1"
   },
   "outputs": [],
   "source": [
    "allowed_operators = ['+', '-']\n",
    "dataset_size = 100000\n",
    "data = generate_equations(allowed_operators, dataset_size, min_value=0, max_value=9999)\n",
    "\n",
    "train_set, test_set = train_test_split(data, test_size=0.2, random_state=42)"
   ]
  },
  {
   "cell_type": "markdown",
   "metadata": {
    "colab_type": "text",
    "id": "_cNZ8QPSLqR3"
   },
   "source": [
    "## Prepare data for the neural network\n",
    "\n",
    "The next stage of data preparation is creating mappings of the characters to their indices in some vocabulary. Since in our task we already know which symbols will appear in the inputs and outputs, generating the vocabulary is a simple step.\n",
    "\n",
    "#### How to create dictionaries for other task\n",
    "\n",
    "First of all, you need to understand what is the basic unit of the sequence in your task. In our case, we operate on symbols and the basic unit is a symbol. The number of symbols is small, so we don't need to think about filtering/normalization steps. However, in other tasks, the basic unit is often a word, and in this case the mapping would be *word $\\to$ integer*. The number of words might be huge, so it would be reasonable to filter them, for example, by frequency and leave only the frequent ones. Other strategies that your should consider are: data normalization (lowercasing, tokenization, how to consider punctuation marks), separate vocabulary for input and for output (e.g. for machine translation), some specifics of the task."
   ]
  },
  {
   "cell_type": "code",
   "execution_count": 0,
   "metadata": {
    "colab": {},
    "colab_type": "code",
    "id": "XFPhp5AGLqR4"
   },
   "outputs": [],
   "source": [
    "word2id = {symbol:i for i, symbol in enumerate('#^$+-1234567890')}\n",
    "id2word = {i:symbol for symbol, i in word2id.items()}"
   ]
  },
  {
   "cell_type": "markdown",
   "metadata": {
    "colab_type": "text",
    "id": "z0kqJOgiLqR6"
   },
   "source": [
    "#### Special symbols"
   ]
  },
  {
   "cell_type": "code",
   "execution_count": 0,
   "metadata": {
    "colab": {},
    "colab_type": "code",
    "id": "tDi1kgMMLqR7"
   },
   "outputs": [],
   "source": [
    "start_symbol = '^'\n",
    "end_symbol = '$'\n",
    "padding_symbol = '#'"
   ]
  },
  {
   "cell_type": "markdown",
   "metadata": {
    "colab_type": "text",
    "id": "CewgSwZdLqR8"
   },
   "source": [
    "You could notice that we have added 3 special symbols: '^', '\\$' and '#':\n",
    "- '^' symbol will be passed to the network to indicate the beginning of the decoding procedure. We will discuss this one later in more details.\n",
    "- '\\$' symbol will be used to indicate the *end of a string*, both for input and output sequences. \n",
    "- '#' symbol will be used as a *padding* character to make lengths of all strings equal within one training batch.\n",
    "\n",
    "People have a bit different habits when it comes to special symbols in encoder-decoder networks, so don't get too much confused if you come across other variants in tutorials you read. "
   ]
  },
  {
   "cell_type": "markdown",
   "metadata": {
    "colab_type": "text",
    "id": "hIXFfX7tLqR9"
   },
   "source": [
    "#### Padding"
   ]
  },
  {
   "cell_type": "markdown",
   "metadata": {
    "colab_type": "text",
    "id": "pHqwu8WfLqR9"
   },
   "source": [
    "When vocabularies are ready, we need to be able to convert a sentence to a list of vocabulary word indices and back. At the same time, let's care about padding. We are going to preprocess each sequence from the input (and output ground truth) in such a way that:\n",
    "- it has a predefined length *padded_len*\n",
    "- it is probably cut off or padded with the *padding symbol* '#'\n",
    "- it *always* ends with the *end symbol* '$'\n",
    "\n",
    "We will treat the original characters of the sequence **and the end symbol** as the valid part of the input. We will store *the actual length* of the sequence, which includes the end symbol, but does not include the padding symbols. "
   ]
  },
  {
   "cell_type": "markdown",
   "metadata": {
    "colab_type": "text",
    "id": "atUXzLXWLqR-"
   },
   "source": [
    " Now you need to implement the function *sentence_to_ids* that does the described job. "
   ]
  },
  {
   "cell_type": "code",
   "execution_count": 0,
   "metadata": {
    "colab": {},
    "colab_type": "code",
    "id": "o4UkiqdILqR-"
   },
   "outputs": [],
   "source": [
    "def sentence_to_ids(sentence, word2id, padded_len):\n",
    "    \"\"\" Converts a sequence of symbols to a padded sequence of their ids.\n",
    "    \n",
    "      sentence: a string, input/output sequence of symbols.\n",
    "      word2id: a dict, a mapping from original symbols to ids.\n",
    "      padded_len: an integer, a desirable length of the sequence.\n",
    "\n",
    "      result: a tuple of (a list of ids, an actual length of sentence).\n",
    "    \"\"\"\n",
    "    \n",
    "    ######### YOUR CODE HERE #############    \n",
    "    \n",
    "    ######### YOUR CODE HERE #############\n",
    "    sent_len = min(len(sentence)+1, padded_len)\n",
    "    \n",
    "    sent_ids = [word2id[word] for word in sentence[:sent_len-1]]\n",
    "    sent_ids += [word2id[end_symbol]]\n",
    "    sent_ids += [word2id[padding_symbol]] * max(0, padded_len - sent_len)\n",
    "  \n",
    "    \n",
    "    return sent_ids, sent_len"
   ]
  },
  {
   "cell_type": "markdown",
   "metadata": {
    "colab_type": "text",
    "id": "JHk9wmMaLqSA"
   },
   "source": [
    "Check that your implementation is correct:"
   ]
  },
  {
   "cell_type": "code",
   "execution_count": 0,
   "metadata": {
    "colab": {},
    "colab_type": "code",
    "id": "IGnY7VU4LqSA"
   },
   "outputs": [],
   "source": [
    "def test_sentence_to_ids():\n",
    "    sentences = [(\"123+123\", 7), (\"123+123\", 8), (\"123+123\", 10)]\n",
    "    expected_output = [([5, 6, 7, 3, 5, 6, 2], 7), \n",
    "                       ([5, 6, 7, 3, 5, 6, 7, 2], 8), \n",
    "                       ([5, 6, 7, 3, 5, 6, 7, 2, 0, 0], 8)] \n",
    "    for (sentence, padded_len), (sentence_ids, expected_length) in zip(sentences, expected_output):\n",
    "        output, length = sentence_to_ids(sentence, word2id, padded_len)\n",
    "        if output != sentence_ids:\n",
    "            return(\"Convertion of '{}' for padded_len={} to {} is incorrect.\".format(\n",
    "                sentence, padded_len, output))\n",
    "        if length != expected_length:\n",
    "            return(\"Convertion of '{}' for padded_len={} has incorrect actual length {}.\".format(\n",
    "                sentence, padded_len, length))\n",
    "    return(\"Tests passed.\")"
   ]
  },
  {
   "cell_type": "code",
   "execution_count": 27,
   "metadata": {
    "colab": {
     "base_uri": "https://localhost:8080/",
     "height": 34
    },
    "colab_type": "code",
    "id": "-j979rgaLqSC",
    "outputId": "11ad43f4-1256-491b-9b76-0824cc376e30"
   },
   "outputs": [
    {
     "name": "stdout",
     "output_type": "stream",
     "text": [
      "Tests passed.\n"
     ]
    }
   ],
   "source": [
    "print(test_sentence_to_ids())"
   ]
  },
  {
   "cell_type": "markdown",
   "metadata": {
    "colab_type": "text",
    "id": "-BcvJEc-LqSD"
   },
   "source": [
    "We also need to be able to get back from indices to symbols:"
   ]
  },
  {
   "cell_type": "code",
   "execution_count": 0,
   "metadata": {
    "colab": {},
    "colab_type": "code",
    "id": "T-ls2ijhLqSD"
   },
   "outputs": [],
   "source": [
    "def ids_to_sentence(ids, id2word):\n",
    "    \"\"\" Converts a sequence of ids to a sequence of symbols.\n",
    "    \n",
    "          ids: a list, indices for the padded sequence.\n",
    "          id2word:  a dict, a mapping from ids to original symbols.\n",
    "\n",
    "          result: a list of symbols.\n",
    "    \"\"\"\n",
    " \n",
    "    return [id2word[i] for i in ids] "
   ]
  },
  {
   "cell_type": "markdown",
   "metadata": {
    "colab_type": "text",
    "id": "8n0u10clLqSF"
   },
   "source": [
    "#### Generating batches"
   ]
  },
  {
   "cell_type": "markdown",
   "metadata": {
    "colab_type": "text",
    "id": "KiEDnT52LqSF"
   },
   "source": [
    "The final step of data preparation is a function that transforms a batch of sentences to a list of lists of indices. "
   ]
  },
  {
   "cell_type": "code",
   "execution_count": 0,
   "metadata": {
    "colab": {},
    "colab_type": "code",
    "id": "GtdGhub0LqSG"
   },
   "outputs": [],
   "source": [
    "def batch_to_ids(sentences, word2id, max_len):\n",
    "    \"\"\"Prepares batches of indices. \n",
    "    \n",
    "       Sequences are padded to match the longest sequence in the batch,\n",
    "       if it's longer than max_len, then max_len is used instead.\n",
    "\n",
    "        sentences: a list of strings, original sequences.\n",
    "        word2id: a dict, a mapping from original symbols to ids.\n",
    "        max_len: an integer, max len of sequences allowed.\n",
    "\n",
    "        result: a list of lists of ids, a list of actual lengths.\n",
    "    \"\"\"\n",
    "    \n",
    "    max_len_in_batch = min(max(len(s) for s in sentences) + 1, max_len)\n",
    "    batch_ids, batch_ids_len = [], []\n",
    "    for sentence in sentences:\n",
    "        ids, ids_len = sentence_to_ids(sentence, word2id, max_len_in_batch)\n",
    "        batch_ids.append(ids)\n",
    "        batch_ids_len.append(ids_len)\n",
    "    return batch_ids, batch_ids_len"
   ]
  },
  {
   "cell_type": "markdown",
   "metadata": {
    "colab_type": "text",
    "id": "wukCojqwLqSI"
   },
   "source": [
    "The function *generate_batches* will help to generate batches with defined size from given samples."
   ]
  },
  {
   "cell_type": "code",
   "execution_count": 0,
   "metadata": {
    "colab": {},
    "colab_type": "code",
    "id": "RC9jVuXgLqSI"
   },
   "outputs": [],
   "source": [
    "def generate_batches(samples, batch_size=64):\n",
    "    X, Y = [], []\n",
    "    for i, (x, y) in enumerate(samples, 1):\n",
    "        X.append(x)\n",
    "        Y.append(y)\n",
    "        if i % batch_size == 0:\n",
    "            yield X, Y\n",
    "            X, Y = [], []\n",
    "    if X and Y:\n",
    "        yield X, Y"
   ]
  },
  {
   "cell_type": "markdown",
   "metadata": {
    "colab_type": "text",
    "id": "CZt05m6-LqSL"
   },
   "source": [
    "To illustrate the result of the implemented functions, run the following cell:"
   ]
  },
  {
   "cell_type": "code",
   "execution_count": 31,
   "metadata": {
    "colab": {
     "base_uri": "https://localhost:8080/",
     "height": 68
    },
    "colab_type": "code",
    "id": "LLIOz_ntLqSM",
    "outputId": "5e217ac3-f815-4f1d-83a6-1f2e0854ab2c"
   },
   "outputs": [
    {
     "name": "stdout",
     "output_type": "stream",
     "text": [
      "Input: ('454-9626', '-9172')\n",
      "Ids: [[8, 9, 8, 4, 13, 10, 6, 10, 2], [4, 13, 5, 11, 6, 2, 0, 0, 0]]\n",
      "Sentences lengths: [9, 6]\n"
     ]
    }
   ],
   "source": [
    "sentences = train_set[0]\n",
    "ids, sent_lens = batch_to_ids(sentences, word2id, max_len=10)\n",
    "print('Input:', sentences)\n",
    "print('Ids: {}\\nSentences lengths: {}'.format(ids, sent_lens))"
   ]
  },
  {
   "cell_type": "markdown",
   "metadata": {
    "colab_type": "text",
    "id": "IMzzqwFNLqSP"
   },
   "source": [
    "## Encoder-Decoder architecture\n",
    "\n",
    "Encoder-Decoder is a successful architecture for Seq2Seq tasks with different lengths of input and output sequences. The main idea is to use two recurrent neural networks, where the first neural network *encodes* the input sequence into a real-valued vector and then the second neural network *decodes* this vector into the output sequence. While building the neural network, we will specify some particular characteristics of this architecture."
   ]
  },
  {
   "cell_type": "code",
   "execution_count": 0,
   "metadata": {
    "colab": {},
    "colab_type": "code",
    "id": "xGybEwWPLqSP"
   },
   "outputs": [],
   "source": [
    "import tensorflow as tf"
   ]
  },
  {
   "cell_type": "markdown",
   "metadata": {
    "colab_type": "text",
    "id": "rht--bFGLqSR"
   },
   "source": [
    "Let us use TensorFlow building blocks to specify the network architecture."
   ]
  },
  {
   "cell_type": "code",
   "execution_count": 0,
   "metadata": {
    "colab": {},
    "colab_type": "code",
    "id": "BxTxBMWsLqSR"
   },
   "outputs": [],
   "source": [
    "class Seq2SeqModel(object):\n",
    "    pass"
   ]
  },
  {
   "cell_type": "markdown",
   "metadata": {
    "colab_type": "text",
    "id": "JnYRj11oLqST"
   },
   "source": [
    "First, we need to create [placeholders](https://www.tensorflow.org/api_guides/python/io_ops#Placeholders) to specify what data we are going to feed into the network during the execution time. For this task we will need:\n",
    " - *input_batch* — sequences of sentences (the shape will equal to [batch_size, max_sequence_len_in_batch]);\n",
    " - *input_batch_lengths* — lengths of not padded sequences (the shape equals to [batch_size]);\n",
    " - *ground_truth* — sequences of groundtruth (the shape will equal to [batch_size, max_sequence_len_in_batch]);\n",
    " - *ground_truth_lengths* — lengths of not padded groundtruth sequences (the shape equals to [batch_size]);\n",
    " - *dropout_ph* — dropout keep probability; this placeholder has a predifined value 1;\n",
    " - *learning_rate_ph* — learning rate."
   ]
  },
  {
   "cell_type": "code",
   "execution_count": 0,
   "metadata": {
    "colab": {},
    "colab_type": "code",
    "id": "DlKTxkp7LqST"
   },
   "outputs": [],
   "source": [
    "def declare_placeholders(self):\n",
    "    \"\"\"Specifies placeholders for the model.\"\"\"\n",
    "    \n",
    "    # Placeholders for input and its actual lengths.\n",
    "    self.input_batch = tf.placeholder(shape=(None, None), dtype=tf.int32, name='input_batch')\n",
    "    self.input_batch_lengths = tf.placeholder(shape=(None, ), dtype=tf.int32, name='input_batch_lengths')\n",
    "    \n",
    "    # Placeholders for groundtruth and its actual lengths.\n",
    "    self.ground_truth = tf.placeholder(shape=(None, None), dtype=tf.int32, name='ground_truth')\n",
    "    self.ground_truth_lengths = tf.placeholder(shape=(None, ), dtype=tf.int32, name='ground_truth_lengths')\n",
    "        \n",
    "    self.dropout_ph = tf.placeholder_with_default(tf.cast(1.0, tf.float32), shape=[])\n",
    "    self.learning_rate_ph = tf.placeholder(dtype=tf.float32, shape=[])"
   ]
  },
  {
   "cell_type": "code",
   "execution_count": 0,
   "metadata": {
    "colab": {},
    "colab_type": "code",
    "id": "uijiIAFgLqSV"
   },
   "outputs": [],
   "source": [
    "Seq2SeqModel.__declare_placeholders = classmethod(declare_placeholders)"
   ]
  },
  {
   "cell_type": "markdown",
   "metadata": {
    "colab_type": "text",
    "id": "y9kHoN24LqSW"
   },
   "source": [
    "Now, let us specify the layers of the neural network. First, we need to prepare an embedding matrix. Since we use the same vocabulary for input and output, we need only one such matrix. For tasks with different vocabularies there would be multiple embedding layers.\n",
    "- Create embeddings matrix with [tf.Variable](https://www.tensorflow.org/api_docs/python/tf/Variable). Specify its name, type (tf.float32), and initialize with random values.\n",
    "- Perform [embeddings lookup](https://www.tensorflow.org/api_docs/python/tf/nn/embedding_lookup) for a given input batch."
   ]
  },
  {
   "cell_type": "code",
   "execution_count": 0,
   "metadata": {
    "colab": {},
    "colab_type": "code",
    "id": "Syzxu-IFLqSW"
   },
   "outputs": [],
   "source": [
    "def create_embeddings(self, vocab_size, embeddings_size):\n",
    "    \"\"\"Specifies embeddings layer and embeds an input batch.\"\"\"\n",
    "     \n",
    "    random_initializer = tf.random_uniform((vocab_size, embeddings_size), -1.0, 1.0)\n",
    "    self.embeddings = tf.Variable(random_initializer, dtype=tf.float32)\n",
    "    \n",
    "    # Perform embeddings lookup for self.input_batch. \n",
    "    self.input_batch_embedded = tf.nn.embedding_lookup(self.embeddings, self.input_batch)"
   ]
  },
  {
   "cell_type": "code",
   "execution_count": 0,
   "metadata": {
    "colab": {},
    "colab_type": "code",
    "id": "pa0tlCw3LqSY"
   },
   "outputs": [],
   "source": [
    "Seq2SeqModel.__create_embeddings = classmethod(create_embeddings)"
   ]
  },
  {
   "cell_type": "markdown",
   "metadata": {
    "colab_type": "text",
    "id": "mwcJjkjxLqSZ"
   },
   "source": [
    "#### Encoder\n",
    "\n",
    "The first RNN of the current architecture is called an *encoder* and serves for encoding an input sequence to a real-valued vector. Input of this RNN is an embedded input batch. Since sentences in the same batch could have different actual lengths, we also provide input lengths to avoid unnecessary computations. The final encoder state will be passed to the second RNN (decoder), which we will create soon. \n",
    "\n",
    "- TensorFlow provides a number of [RNN cells](https://www.tensorflow.org/api_guides/python/contrib.rnn#Core_RNN_Cells_for_use_with_TensorFlow_s_core_RNN_methods) ready for use. We suggest that you use [GRU cell](https://www.tensorflow.org/api_docs/python/tf/contrib/rnn/GRUCell), but you can also experiment with other types. \n",
    "- Wrap your cells with [DropoutWrapper](https://www.tensorflow.org/api_docs/python/tf/contrib/rnn/DropoutWrapper). Dropout is an important regularization technique for neural networks. Specify input keep probability using the dropout placeholder that we created before.\n",
    "- Combine the defined encoder cells with [Dynamic RNN](https://www.tensorflow.org/api_docs/python/tf/nn/dynamic_rnn). Use the embedded input batches and their lengths here.\n",
    "- Use *dtype=tf.float32* everywhere."
   ]
  },
  {
   "cell_type": "code",
   "execution_count": 0,
   "metadata": {
    "colab": {},
    "colab_type": "code",
    "id": "vFFXcHaV-KX8"
   },
   "outputs": [],
   "source": []
  },
  {
   "cell_type": "code",
   "execution_count": 0,
   "metadata": {
    "colab": {},
    "colab_type": "code",
    "id": "d7NFVcJ_LqSa"
   },
   "outputs": [],
   "source": [
    "def build_encoder(self, hidden_size):\n",
    "    \"\"\"Specifies encoder architecture and computes its output.\"\"\"\n",
    "    \n",
    "    # Create GRUCell with dropout.\n",
    "    encoder_cell = tf.nn.rnn_cell.DropoutWrapper(tf.nn.rnn_cell.LSTMCell(hidden_size), input_keep_prob=self.dropout_ph)\n",
    "    \n",
    "    # Create RNN with the predefined cell.\n",
    "    _, self.final_encoder_state = tf.nn.dynamic_rnn(encoder_cell,\n",
    "                                                    self.input_batch_embedded,\n",
    "                                                    sequence_length=self.input_batch_lengths,\n",
    "                                                    dtype=tf.float32)"
   ]
  },
  {
   "cell_type": "code",
   "execution_count": 0,
   "metadata": {
    "colab": {},
    "colab_type": "code",
    "id": "Rfi4_Tv7LqSc"
   },
   "outputs": [],
   "source": [
    "Seq2SeqModel.__build_encoder = classmethod(build_encoder)"
   ]
  },
  {
   "cell_type": "markdown",
   "metadata": {
    "colab_type": "text",
    "id": "lVqsg9f0LqSf"
   },
   "source": [
    "#### Decoder\n",
    "\n",
    "The second RNN is called a *decoder* and serves for generating the output sequence. In the simple seq2seq arcitecture, the input sequence is provided to the decoder only as the final state of the encoder. Obviously, it is a bottleneck and [Attention techniques](https://www.tensorflow.org/tutorials/seq2seq#background_on_the_attention_mechanism) can help to overcome it. So far, we do not need them to make our calculator work, but this would be a necessary ingredient for more advanced tasks. \n",
    "\n",
    "During training, decoder also uses information about the true output. It is feeded in as input symbol by symbol. However, during the prediction stage (which is called *inference* in this architecture), the decoder can only use its own generated output from the previous step to feed it in at the next step. Because of this difference (*training* vs *inference*), we will create two distinct instances, which will serve for the described scenarios.\n",
    "\n",
    "The picture below illustrates the point. It also shows our work with the special characters, e.g. look how the start symbol `^` is used. The transparent parts are ignored. In decoder, it is masked out in the loss computation. In encoder, the green state is considered as final and passed to the decoder. "
   ]
  },
  {
   "cell_type": "markdown",
   "metadata": {
    "colab_type": "text",
    "id": "4Zd5tNWlLqSf"
   },
   "source": [
    "<img src=\"https://github.com/hse-aml/natural-language-processing/blob/master/week4/encoder-decoder-pic.png?raw=1\" style=\"width: 500px;\">"
   ]
  },
  {
   "cell_type": "markdown",
   "metadata": {
    "colab_type": "text",
    "id": "2w2EpZASLqSg"
   },
   "source": [
    "Now, it's time to implement the decoder:\n",
    " - First, we should create two [helpers](https://www.tensorflow.org/api_guides/python/contrib.seq2seq#Dynamic_Decoding). These classes help to determine the behaviour of the decoder. During the training time, we will use [TrainingHelper](https://www.tensorflow.org/api_docs/python/tf/contrib/seq2seq/TrainingHelper). For the inference we recommend to use [GreedyEmbeddingHelper](https://www.tensorflow.org/api_docs/python/tf/contrib/seq2seq/GreedyEmbeddingHelper).\n",
    " - To share all parameters during training and inference, we use one scope and set the flag 'reuse' to True at inference time. You might be interested to know more about how [variable scopes](https://www.tensorflow.org/programmers_guide/variables) work in TF. \n",
    " - To create the decoder itself, we will use [BasicDecoder](https://www.tensorflow.org/api_docs/python/tf/contrib/seq2seq/BasicDecoder) class. As previously, you should choose some RNN cell, e.g. GRU cell. To turn hidden states into logits, we will need a projection layer. One of the simple solutions is using [OutputProjectionWrapper](https://www.tensorflow.org/api_docs/python/tf/contrib/rnn/OutputProjectionWrapper).\n",
    " - For getting the predictions, it will be convinient to use [dynamic_decode](https://www.tensorflow.org/api_docs/python/tf/contrib/seq2seq/dynamic_decode). This function uses the provided decoder to perform decoding."
   ]
  },
  {
   "cell_type": "code",
   "execution_count": 0,
   "metadata": {
    "colab": {},
    "colab_type": "code",
    "id": "Wdtk5UxBLqSg"
   },
   "outputs": [],
   "source": [
    "def build_decoder(self, hidden_size, vocab_size, max_iter, start_symbol_id, end_symbol_id):\n",
    "    \"\"\"Specifies decoder architecture and computes the output.\n",
    "    \n",
    "        Uses different helpers:\n",
    "          - for train: feeding ground truth\n",
    "          - for inference: feeding generated output\n",
    "\n",
    "        As a result, self.train_outputs and self.infer_outputs are created. \n",
    "        Each of them contains two fields:\n",
    "          rnn_output (predicted logits)\n",
    "          sample_id (predictions).\n",
    "\n",
    "    \"\"\"\n",
    "    \n",
    "    # Use start symbols as the decoder inputs at the first time step.\n",
    "    batch_size = tf.shape(self.input_batch)[0]\n",
    "    start_tokens = tf.fill([batch_size], start_symbol_id)\n",
    "    ground_truth_as_input = tf.concat([tf.expand_dims(start_tokens, 1), self.ground_truth], 1)\n",
    "    \n",
    "    # Use the embedding layer defined before to lookup embedings for ground_truth_as_input. \n",
    "    self.ground_truth_embedded = tf.nn.embedding_lookup(self.embeddings, ground_truth_as_input)\n",
    "     \n",
    "    # Create TrainingHelper for the train stage.\n",
    "    train_helper = tf.contrib.seq2seq.TrainingHelper(self.ground_truth_embedded, \n",
    "                                                     self.ground_truth_lengths)\n",
    "    \n",
    "    # Create GreedyEmbeddingHelper for the inference stage.\n",
    "    # You should provide the embedding layer, start_tokens and index of the end symbol.\n",
    "    infer_helper = tf.contrib.seq2seq.GreedyEmbeddingHelper(self.embeddings, start_tokens, end_symbol_id)\n",
    "    \n",
    "  \n",
    "    def decode(helper, scope, reuse=None):\n",
    "        \"\"\"Creates decoder and return the results of the decoding with a given helper.\"\"\"\n",
    "        \n",
    "        with tf.variable_scope(scope, reuse=reuse):\n",
    "            # Create GRUCell with dropout. Do not forget to set the reuse flag properly.\n",
    "            decoder_cell = tf.nn.rnn_cell.DropoutWrapper(tf.nn.rnn_cell.LSTMCell(hidden_size, reuse=reuse),\n",
    "                                                         input_keep_prob=self.dropout_ph)\n",
    "            \n",
    "            # Create a projection wrapper.\n",
    "            decoder_cell = tf.contrib.rnn.OutputProjectionWrapper(decoder_cell, vocab_size, reuse=reuse)\n",
    "            \n",
    "            # Create BasicDecoder, pass the defined cell, a helper, and initial state.\n",
    "            # The initial state should be equal to the final state of the encoder!\n",
    "            decoder = tf.contrib.seq2seq.BasicDecoder(decoder_cell, helper, self.final_encoder_state)\n",
    "            \n",
    "            # The first returning argument of dynamic_decode contains two fields:\n",
    "            #   rnn_output (predicted logits)\n",
    "            #   sample_id (predictions)\n",
    "            outputs, _, _ = tf.contrib.seq2seq.dynamic_decode(decoder=decoder, maximum_iterations=max_iter, \n",
    "                                                              output_time_major=False, impute_finished=True)\n",
    "\n",
    "            return outputs\n",
    "        \n",
    "    self.train_outputs = decode(train_helper, 'decode')\n",
    "    self.infer_outputs = decode(infer_helper, 'decode', reuse=True)"
   ]
  },
  {
   "cell_type": "code",
   "execution_count": 0,
   "metadata": {
    "colab": {},
    "colab_type": "code",
    "id": "I5SKHe-fLqSh"
   },
   "outputs": [],
   "source": [
    "Seq2SeqModel.__build_decoder = classmethod(build_decoder)"
   ]
  },
  {
   "cell_type": "markdown",
   "metadata": {
    "colab_type": "text",
    "id": "qiInsPtCLqSj"
   },
   "source": [
    "In this task we will use [sequence_loss](https://www.tensorflow.org/api_docs/python/tf/contrib/seq2seq/sequence_loss), which is a weighted cross-entropy loss for a sequence of logits. Take a moment to understand, what is your train logits and targets. Also note, that we do not want to take into account loss terms coming from padding symbols, so we will mask them out using weights.  "
   ]
  },
  {
   "cell_type": "code",
   "execution_count": 0,
   "metadata": {
    "colab": {},
    "colab_type": "code",
    "id": "nvb0clgLLqSj"
   },
   "outputs": [],
   "source": [
    "def compute_loss(self):\n",
    "    \"\"\"Computes sequence loss (masked cross-entopy loss with logits).\"\"\"\n",
    "    \n",
    "    weights = tf.cast(tf.sequence_mask(self.ground_truth_lengths), dtype=tf.float32)\n",
    "    \n",
    "    self.loss = tf.contrib.seq2seq.sequence_loss(self.train_outputs.rnn_output, self.ground_truth, weights)"
   ]
  },
  {
   "cell_type": "code",
   "execution_count": 0,
   "metadata": {
    "colab": {},
    "colab_type": "code",
    "id": "VzXfyRC1LqSl"
   },
   "outputs": [],
   "source": [
    "Seq2SeqModel.__compute_loss = classmethod(compute_loss)"
   ]
  },
  {
   "cell_type": "markdown",
   "metadata": {
    "colab_type": "text",
    "id": "sVNFwsOwLqSm"
   },
   "source": [
    "The last thing to specify is the optimization of the defined loss. \n",
    "We suggest that you use [optimize_loss](https://www.tensorflow.org/api_docs/python/tf/contrib/layers/optimize_loss) with Adam optimizer and a learning rate from the corresponding placeholder. You might also need to pass global step (e.g. as tf.train.get_global_step()) and clip gradients by 1.0."
   ]
  },
  {
   "cell_type": "code",
   "execution_count": 0,
   "metadata": {
    "colab": {},
    "colab_type": "code",
    "id": "GQgNpaRbLqSn"
   },
   "outputs": [],
   "source": [
    "def perform_optimization(self):\n",
    "    \"\"\"Specifies train_op that optimizes self.loss.\"\"\"\n",
    "    \n",
    "    self.train_op = tf.contrib.layers.optimize_loss(loss=self.loss,\n",
    "                                                    global_step=tf.train.get_global_step(),\n",
    "                                                    learning_rate=self.learning_rate_ph,\n",
    "                                                    optimizer='Adam',\n",
    "                                                    clip_gradients=1.0)"
   ]
  },
  {
   "cell_type": "code",
   "execution_count": 0,
   "metadata": {
    "colab": {},
    "colab_type": "code",
    "id": "RQU8ckGDLqSo"
   },
   "outputs": [],
   "source": [
    "Seq2SeqModel.__perform_optimization = classmethod(perform_optimization)"
   ]
  },
  {
   "cell_type": "markdown",
   "metadata": {
    "colab_type": "text",
    "id": "i-xNnRs1LqSp"
   },
   "source": [
    "Congratulations! You have specified all the parts of your network. You may have noticed, that we didn't deal with any real data yet, so what you have written is just recipies on how the network should function.\n",
    "Now we will put them to the constructor of our Seq2SeqModel class to use it in the next section. "
   ]
  },
  {
   "cell_type": "code",
   "execution_count": 0,
   "metadata": {
    "colab": {},
    "colab_type": "code",
    "id": "7WyPMRTqLqSq"
   },
   "outputs": [],
   "source": [
    "def init_model(self, vocab_size, embeddings_size, hidden_size, \n",
    "               max_iter, start_symbol_id, end_symbol_id, padding_symbol_id):\n",
    "    \n",
    "    self.__declare_placeholders()\n",
    "    self.__create_embeddings(vocab_size, embeddings_size)\n",
    "    self.__build_encoder(hidden_size)\n",
    "    self.__build_decoder(hidden_size, vocab_size, max_iter, start_symbol_id, end_symbol_id)\n",
    "    \n",
    "    # Compute loss and back-propagate.\n",
    "    self.__compute_loss()\n",
    "    self.__perform_optimization()\n",
    "    \n",
    "    # Get predictions for evaluation.\n",
    "    self.train_predictions = self.train_outputs.sample_id\n",
    "    self.infer_predictions = self.infer_outputs.sample_id"
   ]
  },
  {
   "cell_type": "code",
   "execution_count": 0,
   "metadata": {
    "colab": {},
    "colab_type": "code",
    "id": "edWjljEmLqSr"
   },
   "outputs": [],
   "source": [
    "Seq2SeqModel.__init__ = classmethod(init_model)"
   ]
  },
  {
   "cell_type": "markdown",
   "metadata": {
    "colab_type": "text",
    "id": "F2VzS-72LqSs"
   },
   "source": [
    "## Train the network and predict output\n",
    "\n",
    "[Session.run](https://www.tensorflow.org/api_docs/python/tf/Session#run) is a point which initiates computations in the graph that we have defined. To train the network, we need to compute *self.train_op*. To predict output, we just need to compute *self.infer_predictions*. In any case, we need to feed actual data through the placeholders that we defined above. "
   ]
  },
  {
   "cell_type": "code",
   "execution_count": 0,
   "metadata": {
    "colab": {},
    "colab_type": "code",
    "id": "AgnBKAfKLqSt"
   },
   "outputs": [],
   "source": [
    "def train_on_batch(self, session, X, X_seq_len, Y, Y_seq_len, learning_rate, dropout_keep_probability):\n",
    "    feed_dict = {\n",
    "            self.input_batch: X,\n",
    "            self.input_batch_lengths: X_seq_len,\n",
    "            self.ground_truth: Y,\n",
    "            self.ground_truth_lengths: Y_seq_len,\n",
    "            self.learning_rate_ph: learning_rate,\n",
    "            self.dropout_ph: dropout_keep_probability\n",
    "        }\n",
    "    pred, loss, _ = session.run([\n",
    "            self.train_predictions,\n",
    "            self.loss,\n",
    "            self.train_op], feed_dict=feed_dict)\n",
    "    return pred, loss"
   ]
  },
  {
   "cell_type": "code",
   "execution_count": 0,
   "metadata": {
    "colab": {},
    "colab_type": "code",
    "id": "4eJlZ2fTLqSv"
   },
   "outputs": [],
   "source": [
    "Seq2SeqModel.train_on_batch = classmethod(train_on_batch)"
   ]
  },
  {
   "cell_type": "markdown",
   "metadata": {
    "colab_type": "text",
    "id": "RnrTrSw9LqSx"
   },
   "source": [
    "We implemented two prediction functions: *predict_for_batch* and *predict_for_batch_with_loss*. The first one allows only to predict output for some input sequence, while the second one could compute loss because we provide also ground truth values. Both these functions might be useful since the first one could be used for predicting only, and the second one is helpful for validating results on not-training data during the training."
   ]
  },
  {
   "cell_type": "code",
   "execution_count": 1,
   "metadata": {},
   "outputs": [],
   "source": [
    "def predict_for_batch(self, session, X, X_seq_len):\n",
    "    feed_dict = {\n",
    "            self.input_batch: X,\n",
    "            self.input_batch_lengths: X_seq_len\n",
    "        }\n",
    "    pred = session.run([\n",
    "            self.infer_predictions\n",
    "        ], feed_dict=feed_dict)[0]\n",
    "    return pred"
   ]
  },
  {
   "cell_type": "code",
   "execution_count": 2,
   "metadata": {},
   "outputs": [],
   "source": [
    "def predict_for_batch_with_loss(self, session, X, X_seq_len, Y, Y_seq_len):\n",
    "    feed_dict = {\n",
    "            self.input_batch: X,\n",
    "            self.input_batch_lengths: X_seq_len,\n",
    "            self.ground_truth: Y,\n",
    "            self.ground_truth_lengths: Y_seq_len\n",
    "        }\n",
    "    pred, loss = session.run([\n",
    "            self.infer_predictions,\n",
    "            self.loss,\n",
    "        ], feed_dict=feed_dict)\n",
    "    return pred, loss"
   ]
  },
  {
   "cell_type": "code",
   "execution_count": 0,
   "metadata": {
    "colab": {},
    "colab_type": "code",
    "id": "4IdlrdC4LqSz"
   },
   "outputs": [],
   "source": [
    "Seq2SeqModel.predict_for_batch = classmethod(predict_for_batch)\n",
    "Seq2SeqModel.predict_for_batch_with_loss = classmethod(predict_for_batch_with_loss)"
   ]
  },
  {
   "cell_type": "markdown",
   "metadata": {
    "colab_type": "text",
    "id": "Smsc-tWALqS1"
   },
   "source": [
    "## Run your experiment\n",
    "\n",
    "Create *Seq2SeqModel* model with the following parameters:\n",
    " - *vocab_size* — number of tokens;\n",
    " - *embeddings_size* — dimension of embeddings, recommended value: 20;\n",
    " - *max_iter* — maximum number of steps in decoder, recommended value: 7;\n",
    " - *hidden_size* — size of hidden layers for RNN, recommended value: 512;\n",
    " - *start_symbol_id* — an index of the start token (`^`).\n",
    " - *end_symbol_id* — an index of the end token (`$`).\n",
    " - *padding_symbol_id* — an index of the padding token (`#`).\n",
    "\n",
    "Set hyperparameters. You might want to start with the following values and see how it works:\n",
    "- *batch_size*: 128;\n",
    "- at least 10 epochs;\n",
    "- value of *learning_rate*: 0.001\n",
    "- *dropout_keep_probability* equals to 0.5 for training (typical values for dropout probability are ranging from 0.1 to 1.0); larger values correspond smaler number of dropout units;\n",
    "- *max_len*: 20."
   ]
  },
  {
   "cell_type": "markdown",
   "metadata": {},
   "source": [
    "### Experiment 1 using GRU and default hyperparameters"
   ]
  },
  {
   "cell_type": "code",
   "execution_count": 0,
   "metadata": {
    "colab": {},
    "colab_type": "code",
    "id": "GGegg7thLqS2"
   },
   "outputs": [],
   "source": [
    "tf.reset_default_graph()\n",
    "######### YOUR CODE HERE #############\n",
    "model = Seq2SeqModel(vocab_size=len(word2id),\n",
    "                    embeddings_size=20,\n",
    "                    hidden_size=512,\n",
    "                    max_iter=7,\n",
    "                    start_symbol_id=word2id[start_symbol],\n",
    "                    end_symbol_id=word2id[end_symbol],\n",
    "                    padding_symbol_id=word2id[padding_symbol])\n",
    "\n",
    "batch_size = 128\n",
    "n_epochs = 10\n",
    "learning_rate = 0.001\n",
    "dropout_keep_probability = 0.5\n",
    "max_len = 20\n",
    "\n",
    "n_step = int(len(train_set) / batch_size)"
   ]
  },
  {
   "cell_type": "markdown",
   "metadata": {
    "colab_type": "text",
    "id": "wBO2iGnNLqS4"
   },
   "source": [
    "Finally, we are ready to run the training! A good indicator that everything works fine is decreasing loss during the training. You should account on the loss value equal to approximately 2.7 at the beginning of the training and near 1 after the 10th epoch."
   ]
  },
  {
   "cell_type": "code",
   "execution_count": 107,
   "metadata": {
    "colab": {
     "base_uri": "https://localhost:8080/",
     "height": 3145
    },
    "colab_type": "code",
    "id": "Mne5XQbnLqS4",
    "outputId": "2244ba8b-503e-49a2-9d54-c926ae28f7a6",
    "scrolled": true
   },
   "outputs": [
    {
     "name": "stdout",
     "output_type": "stream",
     "text": [
      "Start training... \n",
      "\n",
      "Train: epoch 1\n",
      "Epoch: [1/10], step: [1/625], loss: 2.722314\n",
      "Epoch: [1/10], step: [201/625], loss: 1.810748\n",
      "Epoch: [1/10], step: [401/625], loss: 1.739299\n",
      "Epoch: [1/10], step: [601/625], loss: 1.667393\n",
      "Test: epoch 1 loss: 1.5800395\n",
      "X: 3040+1876$\n",
      "Y: 4916$#\n",
      "O: 4623$#\n",
      "\n",
      "X: 8643+3602$\n",
      "Y: 12245$\n",
      "O: 12133$\n",
      "\n",
      "X: 7773-2501$\n",
      "Y: 5272$#\n",
      "O: 6633$#\n",
      "\n",
      "Train: epoch 2\n",
      "Epoch: [2/10], step: [1/625], loss: 1.643833\n",
      "Epoch: [2/10], step: [201/625], loss: 1.550261\n",
      "Epoch: [2/10], step: [401/625], loss: 1.531529\n",
      "Epoch: [2/10], step: [601/625], loss: 1.484690\n",
      "Test: epoch 2 loss: 1.4743963\n",
      "X: 9434+1961$\n",
      "Y: 11395$\n",
      "O: 11007$\n",
      "\n",
      "X: 4304-944$#\n",
      "Y: 3360$#\n",
      "O: 2999$#\n",
      "\n",
      "X: 349-2506$#\n",
      "Y: -2157$\n",
      "O: -2222$\n",
      "\n",
      "Train: epoch 3\n",
      "Epoch: [3/10], step: [1/625], loss: 1.489645\n",
      "Epoch: [3/10], step: [201/625], loss: 1.446033\n",
      "Epoch: [3/10], step: [401/625], loss: 1.437513\n",
      "Epoch: [3/10], step: [601/625], loss: 1.420505\n",
      "Test: epoch 3 loss: 1.3214687\n",
      "X: 676-4662$#\n",
      "Y: -3986$\n",
      "O: -4058$\n",
      "\n",
      "X: 1836-4841$\n",
      "Y: -3005$\n",
      "O: -2999$\n",
      "\n",
      "X: 3924-5155$\n",
      "Y: -1231$\n",
      "O: -1155$\n",
      "\n",
      "Train: epoch 4\n",
      "Epoch: [4/10], step: [1/625], loss: 1.382970\n",
      "Epoch: [4/10], step: [201/625], loss: 1.406482\n",
      "Epoch: [4/10], step: [401/625], loss: 1.331267\n",
      "Epoch: [4/10], step: [601/625], loss: 1.343190\n",
      "Test: epoch 4 loss: 1.3285241\n",
      "X: 1925-3696$\n",
      "Y: -1771$\n",
      "O: -2172$\n",
      "\n",
      "X: 7952+651$#\n",
      "Y: 8603$#\n",
      "O: 8272$#\n",
      "\n",
      "X: 8669-7875$\n",
      "Y: 794$##\n",
      "O: 1021$#\n",
      "\n",
      "Train: epoch 5\n",
      "Epoch: [5/10], step: [1/625], loss: 1.386469\n",
      "Epoch: [5/10], step: [201/625], loss: 1.304882\n",
      "Epoch: [5/10], step: [401/625], loss: 1.292904\n",
      "Epoch: [5/10], step: [601/625], loss: 1.303252\n",
      "Test: epoch 5 loss: 1.2611513\n",
      "X: 4333-4294$\n",
      "Y: 39$###\n",
      "O: -30$##\n",
      "\n",
      "X: 6309-3375$\n",
      "Y: 2934$#\n",
      "O: 2799$#\n",
      "\n",
      "X: 1244-8976$\n",
      "Y: -7732$\n",
      "O: -7666$\n",
      "\n",
      "Train: epoch 6\n",
      "Epoch: [6/10], step: [1/625], loss: 1.269761\n",
      "Epoch: [6/10], step: [201/625], loss: 1.292005\n",
      "Epoch: [6/10], step: [401/625], loss: 1.275601\n",
      "Epoch: [6/10], step: [601/625], loss: 1.327157\n",
      "Test: epoch 6 loss: 1.2200602\n",
      "X: 5466-2149$\n",
      "Y: 3317$#\n",
      "O: 3021$#\n",
      "\n",
      "X: 8557-7032$\n",
      "Y: 1525$#\n",
      "O: 1426$#\n",
      "\n",
      "X: 9971-2631$\n",
      "Y: 7340$#\n",
      "O: 7214$#\n",
      "\n",
      "Train: epoch 7\n",
      "Epoch: [7/10], step: [1/625], loss: 1.252660\n",
      "Epoch: [7/10], step: [201/625], loss: 1.245205\n",
      "Epoch: [7/10], step: [401/625], loss: 1.203387\n",
      "Epoch: [7/10], step: [601/625], loss: 1.177812\n",
      "Test: epoch 7 loss: 1.14889\n",
      "X: 5588+737$#\n",
      "Y: 6325$#\n",
      "O: 6257$#\n",
      "\n",
      "X: 6414-6235$\n",
      "Y: 179$##\n",
      "O: -116$#\n",
      "\n",
      "X: 6596-6586$\n",
      "Y: 10$###\n",
      "O: -106$#\n",
      "\n",
      "Train: epoch 8\n",
      "Epoch: [8/10], step: [1/625], loss: 1.164759\n",
      "Epoch: [8/10], step: [201/625], loss: 1.140374\n",
      "Epoch: [8/10], step: [401/625], loss: 1.092874\n",
      "Epoch: [8/10], step: [601/625], loss: 1.114059\n",
      "Test: epoch 8 loss: 0.9981663\n",
      "X: 979+9831$#\n",
      "Y: 10810$\n",
      "O: 10818$\n",
      "\n",
      "X: 5570+4492$\n",
      "Y: 10062$\n",
      "O: 10044$\n",
      "\n",
      "X: 5567-4974$\n",
      "Y: 593$##\n",
      "O: 533$##\n",
      "\n",
      "Train: epoch 9\n",
      "Epoch: [9/10], step: [1/625], loss: 1.056310\n",
      "Epoch: [9/10], step: [201/625], loss: 1.006435\n",
      "Epoch: [9/10], step: [401/625], loss: 0.991604\n",
      "Epoch: [9/10], step: [601/625], loss: 1.016313\n",
      "Test: epoch 9 loss: 0.9480832\n",
      "X: 2713+7245$\n",
      "Y: 9958$#\n",
      "O: 9922$#\n",
      "\n",
      "X: 9882+6588$\n",
      "Y: 16470$\n",
      "O: 16439$\n",
      "\n",
      "X: 3361+9086$\n",
      "Y: 12447$\n",
      "O: 12499$\n",
      "\n",
      "Train: epoch 10\n",
      "Epoch: [10/10], step: [1/625], loss: 0.980553\n",
      "Epoch: [10/10], step: [201/625], loss: 0.982695\n",
      "Epoch: [10/10], step: [401/625], loss: 0.931958\n",
      "Epoch: [10/10], step: [601/625], loss: 0.975310\n",
      "Test: epoch 10 loss: 0.9303707\n",
      "X: 391+1003$#\n",
      "Y: 1394$#\n",
      "O: 1400$#\n",
      "\n",
      "X: 2404-2145$\n",
      "Y: 259$##\n",
      "O: 276$##\n",
      "\n",
      "X: 4067+4452$\n",
      "Y: 8519$#\n",
      "O: 8500$#\n",
      "\n",
      "\n",
      "...training finished.\n"
     ]
    }
   ],
   "source": [
    "session = tf.Session()\n",
    "session.run(tf.global_variables_initializer())\n",
    "            \n",
    "invalid_number_prediction_counts = []\n",
    "all_model_predictions = []\n",
    "all_ground_truth = []\n",
    "\n",
    "print('Start training... \\n')\n",
    "for epoch in range(n_epochs):  \n",
    "    random.shuffle(train_set)\n",
    "    random.shuffle(test_set)\n",
    "    \n",
    "    print('Train: epoch', epoch + 1)\n",
    "    for n_iter, (X_batch, Y_batch) in enumerate(generate_batches(train_set, batch_size=batch_size)):\n",
    "        ######################################\n",
    "        ######### YOUR CODE HERE #############\n",
    "        ######################################\n",
    "        # prepare the data (X_batch and Y_batch) for training\n",
    "        # using function batch_to_ids\n",
    "        X, X_seq_len = batch_to_ids(X_batch, word2id, max_len)\n",
    "        Y, Y_seq_len = batch_to_ids(Y_batch, word2id, max_len)\n",
    "        predictions, loss = model.train_on_batch(session, \n",
    "                                                 X, X_seq_len, \n",
    "                                                 Y, Y_seq_len, \n",
    "                                                 learning_rate, \n",
    "                                                 dropout_keep_probability)\n",
    "        \n",
    "        if n_iter % 200 == 0:\n",
    "            print(\"Epoch: [%d/%d], step: [%d/%d], loss: %f\" % (epoch + 1, n_epochs, n_iter + 1, n_step, loss))\n",
    "                \n",
    "    X_sent, Y_sent = next(generate_batches(test_set, batch_size=batch_size))\n",
    "    ######################################\n",
    "    ######### YOUR CODE HERE #############\n",
    "    ######################################\n",
    "    # prepare test data (X_sent and Y_sent) for predicting \n",
    "    # quality and computing value of the loss function\n",
    "    # using function batch_to_ids\n",
    "    X, X_seq_len = batch_to_ids(X_sent, word2id, max_len)\n",
    "    Y, Y_seq_len = batch_to_ids(Y_sent, word2id, max_len)\n",
    "    predictions, loss = model.predict_for_batch_with_loss(session, X, X_seq_len, Y, Y_seq_len)\n",
    "    print('Test: epoch', epoch + 1, 'loss:', loss,)\n",
    "    for x, y, p  in list(zip(X, Y, predictions))[:3]:\n",
    "        print('X:',''.join(ids_to_sentence(x, id2word)))\n",
    "        print('Y:',''.join(ids_to_sentence(y, id2word)))\n",
    "        print('O:',''.join(ids_to_sentence(p, id2word)))\n",
    "        print('')\n",
    "\n",
    "    model_predictions = []\n",
    "    ground_truth = []\n",
    "    invalid_number_prediction_count = 0\n",
    "    # For the whole test set calculate ground-truth values (as integer numbers)\n",
    "    # and prediction values (also as integers) to calculate metrics.\n",
    "    # If generated by model number is not correct (e.g. '1-1'), \n",
    "    # increase invalid_number_prediction_count and don't append this and corresponding\n",
    "    # ground-truth value to the arrays.\n",
    "    for X_batch, Y_batch in generate_batches(test_set, batch_size=batch_size):\n",
    "        ######################################\n",
    "        ######### YOUR CODE HERE #############\n",
    "        ######################################\n",
    "        X, X_seq_len = batch_to_ids(X_batch, word2id, max_len)\n",
    "        Y, Y_seq_len = batch_to_ids(Y_batch, word2id, max_len)\n",
    "        predictions = model.predict_for_batch(session, X, X_seq_len)\n",
    "        for true, pred in zip(Y, predictions):\n",
    "            true_sent = ''.join(ids_to_sentence(true, id2word))\n",
    "            true_sent = true_sent[:true_sent.find(end_symbol)]\n",
    "            pred_sent = ''.join(ids_to_sentence(pred, id2word))\n",
    "            idx = pred_sent.find(end_symbol)\n",
    "            if index != -1:\n",
    "                pred_sent = pred_sent[:idx]\n",
    "\n",
    "            if pred_sent.isdigit() or (pred_sent[0] == '-' and pred_sent[1:].isdigit()):\n",
    "                pred_sent = int(pred_sent)\n",
    "                model_predictions.append(pred_sent)\n",
    "                true_sent = int(true_sent)\n",
    "                ground_truth.append(true_sent)\n",
    "            else:\n",
    "                invalid_number_prediction_count += 1\n",
    "    \n",
    "    all_model_predictions.append(model_predictions)\n",
    "    all_ground_truth.append(ground_truth)\n",
    "    invalid_number_prediction_counts.append(invalid_number_prediction_count)\n",
    "            \n",
    "print('\\n...training finished.')"
   ]
  },
  {
   "cell_type": "markdown",
   "metadata": {
    "colab_type": "text",
    "id": "yrQPV5KGLqS6"
   },
   "source": [
    "## Evaluate results\n",
    "\n",
    "Because our task is simple and the output is straight-forward, we will use [MAE](https://en.wikipedia.org/wiki/Mean_absolute_error) metric to evaluate the trained model during the epochs. Compute the value of the metric for the output from each epoch."
   ]
  },
  {
   "cell_type": "code",
   "execution_count": 0,
   "metadata": {
    "colab": {},
    "colab_type": "code",
    "id": "cOy07PvfLqS6"
   },
   "outputs": [],
   "source": [
    "from sklearn.metrics import mean_absolute_error"
   ]
  },
  {
   "cell_type": "code",
   "execution_count": 109,
   "metadata": {
    "colab": {
     "base_uri": "https://localhost:8080/",
     "height": 187
    },
    "colab_type": "code",
    "id": "KNLdUZnVLqS7",
    "outputId": "0d25b14e-f499-44c1-f54c-d137d3b762b6"
   },
   "outputs": [
    {
     "name": "stdout",
     "output_type": "stream",
     "text": [
      "Epoch: 1, MAE: 874.263950, Invalid numbers: 0\n",
      "Epoch: 2, MAE: 407.927800, Invalid numbers: 0\n",
      "Epoch: 3, MAE: 234.005150, Invalid numbers: 0\n",
      "Epoch: 4, MAE: 222.511350, Invalid numbers: 0\n",
      "Epoch: 5, MAE: 157.796450, Invalid numbers: 0\n",
      "Epoch: 6, MAE: 139.272500, Invalid numbers: 0\n",
      "Epoch: 7, MAE: 91.744200, Invalid numbers: 0\n",
      "Epoch: 8, MAE: 53.353500, Invalid numbers: 0\n",
      "Epoch: 9, MAE: 42.931600, Invalid numbers: 0\n",
      "Epoch: 10, MAE: 44.953300, Invalid numbers: 0\n"
     ]
    }
   ],
   "source": [
    "for i, (gts, predictions, invalid_number_prediction_count) in enumerate(zip(all_ground_truth,\n",
    "                                                                            all_model_predictions,\n",
    "                                                                            invalid_number_prediction_counts), 1):\n",
    "    ######### YOUR CODE HERE #############\n",
    "    mae = mean_absolute_error(gts, predictions)\n",
    "    print(\"Epoch: %i, MAE: %f, Invalid numbers: %i\" % (i, mae, invalid_number_prediction_count))"
   ]
  },
  {
   "cell_type": "markdown",
   "metadata": {
    "colab_type": "text",
    "id": "RHNEizJMB8Md"
   },
   "source": [
    "### Experiment 2: used LSTM and 15 epochs"
   ]
  },
  {
   "cell_type": "code",
   "execution_count": 0,
   "metadata": {
    "colab": {},
    "colab_type": "code",
    "id": "PUqnW2RTCATl"
   },
   "outputs": [],
   "source": [
    "tf.reset_default_graph()\n",
    "######### YOUR CODE HERE #############\n",
    "model = Seq2SeqModel(vocab_size=len(word2id),\n",
    "                    embeddings_size=20,\n",
    "                    hidden_size=512,\n",
    "                    max_iter=7,\n",
    "                    start_symbol_id=word2id[start_symbol],\n",
    "                    end_symbol_id=word2id[end_symbol],\n",
    "                    padding_symbol_id=word2id[padding_symbol])\n",
    "\n",
    "batch_size = 128\n",
    "n_epochs = 15\n",
    "learning_rate = 0.001\n",
    "dropout_keep_probability = 0.5\n",
    "max_len = 20\n",
    "\n",
    "n_step = int(len(train_set) / batch_size)"
   ]
  },
  {
   "cell_type": "code",
   "execution_count": 132,
   "metadata": {
    "colab": {
     "base_uri": "https://localhost:8080/",
     "height": 4675
    },
    "colab_type": "code",
    "id": "t20Z_MzRCkNs",
    "outputId": "b9db427d-5ab5-49d1-ef26-2bb4a7423d96"
   },
   "outputs": [
    {
     "name": "stdout",
     "output_type": "stream",
     "text": [
      "Start training... \n",
      "\n",
      "Train: epoch 1\n",
      "Epoch: [1/15], step: [1/625], loss: 2.715820\n",
      "Epoch: [1/15], step: [201/625], loss: 1.849120\n",
      "Epoch: [1/15], step: [401/625], loss: 1.795801\n",
      "Epoch: [1/15], step: [601/625], loss: 1.658989\n",
      "Test: epoch 1 loss: 1.5754427\n",
      "X: 8216-8475$\n",
      "Y: -259$#\n",
      "O: 1171$#\n",
      "\n",
      "X: 8932-8567$\n",
      "Y: 365$##\n",
      "O: 1192$#\n",
      "\n",
      "X: 9734+4865$\n",
      "Y: 14599$\n",
      "O: 16442$\n",
      "\n",
      "Train: epoch 2\n",
      "Epoch: [2/15], step: [1/625], loss: 1.651673\n",
      "Epoch: [2/15], step: [201/625], loss: 1.574113\n",
      "Epoch: [2/15], step: [401/625], loss: 1.543401\n",
      "Epoch: [2/15], step: [601/625], loss: 1.496587\n",
      "Test: epoch 2 loss: 1.4283164\n",
      "X: 9491+3123$\n",
      "Y: 12614$\n",
      "O: 12952$\n",
      "\n",
      "X: 4172-7606$\n",
      "Y: -3434$\n",
      "O: -3099$\n",
      "\n",
      "X: 7592-8377$\n",
      "Y: -785$#\n",
      "O: -1155$\n",
      "\n",
      "Train: epoch 3\n",
      "Epoch: [3/15], step: [1/625], loss: 1.436863\n",
      "Epoch: [3/15], step: [201/625], loss: 1.439816\n",
      "Epoch: [3/15], step: [401/625], loss: 1.422209\n",
      "Epoch: [3/15], step: [601/625], loss: 1.416062\n",
      "Test: epoch 3 loss: 1.3872356\n",
      "X: 8176-8752$\n",
      "Y: -576$#\n",
      "O: -111$#\n",
      "\n",
      "X: 1537+8620$\n",
      "Y: 10157$\n",
      "O: 10049$\n",
      "\n",
      "X: 2925+4995$\n",
      "Y: 7920$#\n",
      "O: 8044$#\n",
      "\n",
      "Train: epoch 4\n",
      "Epoch: [4/15], step: [1/625], loss: 1.376719\n",
      "Epoch: [4/15], step: [201/625], loss: 1.352343\n",
      "Epoch: [4/15], step: [401/625], loss: 1.366335\n",
      "Epoch: [4/15], step: [601/625], loss: 1.332209\n",
      "Test: epoch 4 loss: 1.321101\n",
      "X: 9629-9194$\n",
      "Y: 435$##\n",
      "O: 450$##\n",
      "\n",
      "X: 3235-1046$\n",
      "Y: 2189$#\n",
      "O: 2011$#\n",
      "\n",
      "X: 3737-5842$\n",
      "Y: -2105$\n",
      "O: -1910$\n",
      "\n",
      "Train: epoch 5\n",
      "Epoch: [5/15], step: [1/625], loss: 1.365946\n",
      "Epoch: [5/15], step: [201/625], loss: 1.340654\n",
      "Epoch: [5/15], step: [401/625], loss: 1.323614\n",
      "Epoch: [5/15], step: [601/625], loss: 1.305052\n",
      "Test: epoch 5 loss: 1.2747002\n",
      "X: 3559-2610$\n",
      "Y: 949$##\n",
      "O: 1011$#\n",
      "\n",
      "X: 3669+4538$\n",
      "Y: 8207$#\n",
      "O: 8333$#\n",
      "\n",
      "X: 1079+3844$\n",
      "Y: 4923$#\n",
      "O: 4831$#\n",
      "\n",
      "Train: epoch 6\n",
      "Epoch: [6/15], step: [1/625], loss: 1.271637\n",
      "Epoch: [6/15], step: [201/625], loss: 1.274718\n",
      "Epoch: [6/15], step: [401/625], loss: 1.279962\n",
      "Epoch: [6/15], step: [601/625], loss: 1.323880\n",
      "Test: epoch 6 loss: 1.2132081\n",
      "X: 3707+7027$\n",
      "Y: 10734$\n",
      "O: 10852$\n",
      "\n",
      "X: 3552+151$#\n",
      "Y: 3703$#\n",
      "O: 3642$#\n",
      "\n",
      "X: 4505+8604$\n",
      "Y: 13109$\n",
      "O: 13042$\n",
      "\n",
      "Train: epoch 7\n",
      "Epoch: [7/15], step: [1/625], loss: 1.246795\n",
      "Epoch: [7/15], step: [201/625], loss: 1.263709\n",
      "Epoch: [7/15], step: [401/625], loss: 1.228977\n",
      "Epoch: [7/15], step: [601/625], loss: 1.237623\n",
      "Test: epoch 7 loss: 1.2447289\n",
      "X: 8246-2823$\n",
      "Y: 5423$#\n",
      "O: 5303$#\n",
      "\n",
      "X: 6088-7753$\n",
      "Y: -1665$\n",
      "O: -1943$\n",
      "\n",
      "X: 586+4425$#\n",
      "Y: 5011$#\n",
      "O: 4988$#\n",
      "\n",
      "Train: epoch 8\n",
      "Epoch: [8/15], step: [1/625], loss: 1.272970\n",
      "Epoch: [8/15], step: [201/625], loss: 1.239645\n",
      "Epoch: [8/15], step: [401/625], loss: 1.247889\n",
      "Epoch: [8/15], step: [601/625], loss: 1.219038\n",
      "Test: epoch 8 loss: 1.1646484\n",
      "X: 1976-2252$\n",
      "Y: -276$#\n",
      "O: -163$#\n",
      "\n",
      "X: 9768-322$#\n",
      "Y: 9446$#\n",
      "O: 9306$#\n",
      "\n",
      "X: 7676+1154$\n",
      "Y: 8830$#\n",
      "O: 8810$#\n",
      "\n",
      "Train: epoch 9\n",
      "Epoch: [9/15], step: [1/625], loss: 1.246808\n",
      "Epoch: [9/15], step: [201/625], loss: 1.179480\n",
      "Epoch: [9/15], step: [401/625], loss: 1.184301\n",
      "Epoch: [9/15], step: [601/625], loss: 1.150016\n",
      "Test: epoch 9 loss: 1.136148\n",
      "X: 3752+1215$\n",
      "Y: 4967$#\n",
      "O: 5077$#\n",
      "\n",
      "X: 6481-3094$\n",
      "Y: 3387$#\n",
      "O: 3277$#\n",
      "\n",
      "X: 5908+8780$\n",
      "Y: 14688$\n",
      "O: 14647$\n",
      "\n",
      "Train: epoch 10\n",
      "Epoch: [10/15], step: [1/625], loss: 1.153280\n",
      "Epoch: [10/15], step: [201/625], loss: 1.142007\n",
      "Epoch: [10/15], step: [401/625], loss: 1.119956\n",
      "Epoch: [10/15], step: [601/625], loss: 1.101459\n",
      "Test: epoch 10 loss: 1.100983\n",
      "X: 611-714$##\n",
      "Y: -103$#\n",
      "O: -111$#\n",
      "\n",
      "X: 5900-108$#\n",
      "Y: 5792$#\n",
      "O: 5778$#\n",
      "\n",
      "X: 8269-2878$\n",
      "Y: 5391$#\n",
      "O: 5344$#\n",
      "\n",
      "Train: epoch 11\n",
      "Epoch: [11/15], step: [1/625], loss: 1.122389\n",
      "Epoch: [11/15], step: [201/625], loss: 1.129430\n",
      "Epoch: [11/15], step: [401/625], loss: 1.088956\n",
      "Epoch: [11/15], step: [601/625], loss: 1.120467\n",
      "Test: epoch 11 loss: 1.056196\n",
      "X: 139-3637$#\n",
      "Y: -3498$\n",
      "O: -3591$\n",
      "\n",
      "X: 1241-5910$\n",
      "Y: -4669$\n",
      "O: -4505$\n",
      "\n",
      "X: 7631+4909$\n",
      "Y: 12540$\n",
      "O: 12592$\n",
      "\n",
      "Train: epoch 12\n",
      "Epoch: [12/15], step: [1/625], loss: 1.074679\n",
      "Epoch: [12/15], step: [201/625], loss: 1.033064\n",
      "Epoch: [12/15], step: [401/625], loss: 1.042217\n",
      "Epoch: [12/15], step: [601/625], loss: 1.069344\n",
      "Test: epoch 12 loss: 1.0204058\n",
      "X: 4910-1915$\n",
      "Y: 2995$#\n",
      "O: 3097$#\n",
      "\n",
      "X: 3480-8413$\n",
      "Y: -4933$\n",
      "O: -4877$\n",
      "\n",
      "X: 4531-3739$\n",
      "Y: 792$##\n",
      "O: 877$##\n",
      "\n",
      "Train: epoch 13\n",
      "Epoch: [13/15], step: [1/625], loss: 0.994053\n",
      "Epoch: [13/15], step: [201/625], loss: 1.083012\n",
      "Epoch: [13/15], step: [401/625], loss: 0.989263\n",
      "Epoch: [13/15], step: [601/625], loss: 1.030709\n",
      "Test: epoch 13 loss: 0.9988387\n",
      "X: 1022+2742$\n",
      "Y: 3764$#\n",
      "O: 3781$#\n",
      "\n",
      "X: 5223-9710$\n",
      "Y: -4487$\n",
      "O: -4426$\n",
      "\n",
      "X: 823+3855$#\n",
      "Y: 4678$#\n",
      "O: 4620$#\n",
      "\n",
      "Train: epoch 14\n",
      "Epoch: [14/15], step: [1/625], loss: 1.004788\n",
      "Epoch: [14/15], step: [201/625], loss: 1.002375\n",
      "Epoch: [14/15], step: [401/625], loss: 1.007052\n",
      "Epoch: [14/15], step: [601/625], loss: 1.006934\n",
      "Test: epoch 14 loss: 0.9666167\n",
      "X: 1677-4095$\n",
      "Y: -2418$\n",
      "O: -2422$\n",
      "\n",
      "X: 1772-8385$\n",
      "Y: -6613$\n",
      "O: -6542$\n",
      "\n",
      "X: 6768-6464$\n",
      "Y: 304$##\n",
      "O: 322$##\n",
      "\n",
      "Train: epoch 15\n",
      "Epoch: [15/15], step: [1/625], loss: 1.012735\n",
      "Epoch: [15/15], step: [201/625], loss: 0.975851\n",
      "Epoch: [15/15], step: [401/625], loss: 0.941832\n",
      "Epoch: [15/15], step: [601/625], loss: 0.966607\n",
      "Test: epoch 15 loss: 0.9735167\n",
      "X: 1536+9265$\n",
      "Y: 10801$\n",
      "O: 10801$\n",
      "\n",
      "X: 384+7151$#\n",
      "Y: 7535$#\n",
      "O: 7597$#\n",
      "\n",
      "X: 7310+8119$\n",
      "Y: 15429$\n",
      "O: 15472$\n",
      "\n",
      "\n",
      "...training finished.\n"
     ]
    }
   ],
   "source": [
    "session = tf.Session()\n",
    "session.run(tf.global_variables_initializer())\n",
    "            \n",
    "invalid_number_prediction_counts = []\n",
    "all_model_predictions = []\n",
    "all_ground_truth = []\n",
    "\n",
    "print('Start training... \\n')\n",
    "for epoch in range(n_epochs):  \n",
    "    random.shuffle(train_set)\n",
    "    random.shuffle(test_set)\n",
    "    \n",
    "    print('Train: epoch', epoch + 1)\n",
    "    for n_iter, (X_batch, Y_batch) in enumerate(generate_batches(train_set, batch_size=batch_size)):\n",
    "        ######################################\n",
    "        ######### YOUR CODE HERE #############\n",
    "        ######################################\n",
    "        # prepare the data (X_batch and Y_batch) for training\n",
    "        # using function batch_to_ids\n",
    "        X, X_seq_len = batch_to_ids(X_batch, word2id, max_len)\n",
    "        Y, Y_seq_len = batch_to_ids(Y_batch, word2id, max_len)\n",
    "        predictions, loss = model.train_on_batch(session, \n",
    "                                                 X, X_seq_len, \n",
    "                                                 Y, Y_seq_len, \n",
    "                                                 learning_rate, \n",
    "                                                 dropout_keep_probability)\n",
    "        \n",
    "        if n_iter % 200 == 0:\n",
    "            print(\"Epoch: [%d/%d], step: [%d/%d], loss: %f\" % (epoch + 1, n_epochs, n_iter + 1, n_step, loss))\n",
    "                \n",
    "    X_sent, Y_sent = next(generate_batches(test_set, batch_size=batch_size))\n",
    "    ######################################\n",
    "    ######### YOUR CODE HERE #############\n",
    "    ######################################\n",
    "    # prepare test data (X_sent and Y_sent) for predicting \n",
    "    # quality and computing value of the loss function\n",
    "    # using function batch_to_ids\n",
    "    X, X_seq_len = batch_to_ids(X_sent, word2id, max_len)\n",
    "    Y, Y_seq_len = batch_to_ids(Y_sent, word2id, max_len)\n",
    "    predictions, loss = model.predict_for_batch_with_loss(session, X, X_seq_len, Y, Y_seq_len)\n",
    "    print('Test: epoch', epoch + 1, 'loss:', loss,)\n",
    "    for x, y, p  in list(zip(X, Y, predictions))[:3]:\n",
    "        print('X:',''.join(ids_to_sentence(x, id2word)))\n",
    "        print('Y:',''.join(ids_to_sentence(y, id2word)))\n",
    "        print('O:',''.join(ids_to_sentence(p, id2word)))\n",
    "        print('')\n",
    "\n",
    "    model_predictions = []\n",
    "    ground_truth = []\n",
    "    invalid_number_prediction_count = 0\n",
    "    # For the whole test set calculate ground-truth values (as integer numbers)\n",
    "    # and prediction values (also as integers) to calculate metrics.\n",
    "    # If generated by model number is not correct (e.g. '1-1'), \n",
    "    # increase invalid_number_prediction_count and don't append this and corresponding\n",
    "    # ground-truth value to the arrays.\n",
    "    for X_batch, Y_batch in generate_batches(test_set, batch_size=batch_size):\n",
    "        ######################################\n",
    "        ######### YOUR CODE HERE #############\n",
    "        ######################################\n",
    "        X, X_seq_len = batch_to_ids(X_batch, word2id, max_len)\n",
    "        Y, Y_seq_len = batch_to_ids(Y_batch, word2id, max_len)\n",
    "        predictions = model.predict_for_batch(session, X, X_seq_len)\n",
    "        for true, pred in zip(Y, predictions):\n",
    "            true_sent = ''.join(ids_to_sentence(true, id2word))\n",
    "            true_sent = true_sent[:true_sent.find(end_symbol)]\n",
    "            pred_sent = ''.join(ids_to_sentence(pred, id2word))\n",
    "            idx = pred_sent.find(end_symbol)\n",
    "            if index != -1:\n",
    "                pred_sent = pred_sent[:idx]\n",
    "\n",
    "            if pred_sent.isdigit() or (pred_sent[0] == '-' and pred_sent[1:].isdigit()):\n",
    "                pred_sent = int(pred_sent)\n",
    "                model_predictions.append(pred_sent)\n",
    "                true_sent = int(true_sent)\n",
    "                ground_truth.append(true_sent)\n",
    "            else:\n",
    "                invalid_number_prediction_count += 1\n",
    "    \n",
    "    all_model_predictions.append(model_predictions)\n",
    "    all_ground_truth.append(ground_truth)\n",
    "    invalid_number_prediction_counts.append(invalid_number_prediction_count)\n",
    "            \n",
    "print('\\n...training finished.')"
   ]
  },
  {
   "cell_type": "code",
   "execution_count": 133,
   "metadata": {
    "colab": {
     "base_uri": "https://localhost:8080/",
     "height": 272
    },
    "colab_type": "code",
    "id": "HGCveZpRCuTh",
    "outputId": "5c3fa97d-d7f6-4281-a118-6645c8f5f00d"
   },
   "outputs": [
    {
     "name": "stdout",
     "output_type": "stream",
     "text": [
      "Epoch: 1, MAE: 884.419300, Invalid numbers: 0\n",
      "Epoch: 2, MAE: 382.835000, Invalid numbers: 0\n",
      "Epoch: 3, MAE: 279.465250, Invalid numbers: 0\n",
      "Epoch: 4, MAE: 195.977500, Invalid numbers: 0\n",
      "Epoch: 5, MAE: 168.095150, Invalid numbers: 0\n",
      "Epoch: 6, MAE: 139.490850, Invalid numbers: 0\n",
      "Epoch: 7, MAE: 131.022500, Invalid numbers: 0\n",
      "Epoch: 8, MAE: 110.345850, Invalid numbers: 0\n",
      "Epoch: 9, MAE: 82.215450, Invalid numbers: 0\n",
      "Epoch: 10, MAE: 68.603850, Invalid numbers: 0\n",
      "Epoch: 11, MAE: 63.984400, Invalid numbers: 0\n",
      "Epoch: 12, MAE: 47.550100, Invalid numbers: 0\n",
      "Epoch: 13, MAE: 52.461500, Invalid numbers: 0\n",
      "Epoch: 14, MAE: 38.348550, Invalid numbers: 0\n",
      "Epoch: 15, MAE: 33.425300, Invalid numbers: 0\n"
     ]
    }
   ],
   "source": [
    "for i, (gts, predictions, invalid_number_prediction_count) in enumerate(zip(all_ground_truth,\n",
    "                                                                            all_model_predictions,\n",
    "                                                                            invalid_number_prediction_counts), 1):\n",
    "    ######### YOUR CODE HERE #############\n",
    "    mae = mean_absolute_error(gts, predictions)\n",
    "    print(\"Epoch: %i, MAE: %f, Invalid numbers: %i\" % (i, mae, invalid_number_prediction_count))"
   ]
  },
  {
   "cell_type": "code",
   "execution_count": 0,
   "metadata": {
    "colab": {},
    "colab_type": "code",
    "id": "hUttqx76DpZP"
   },
   "outputs": [],
   "source": []
  },
  {
   "cell_type": "markdown",
   "metadata": {
    "colab_type": "text",
    "id": "EgcTkNygDvqd"
   },
   "source": [
    "### Surprisingly, the GRU seems to have outperformed the LSTM"
   ]
  },
  {
   "cell_type": "code",
   "execution_count": 0,
   "metadata": {
    "colab": {},
    "colab_type": "code",
    "id": "qguAOwuaD01m"
   },
   "outputs": [],
   "source": []
  }
 ],
 "metadata": {
  "accelerator": "GPU",
  "colab": {
   "name": "week4-seq2seq.ipynb",
   "provenance": [],
   "version": "0.3.2"
  },
  "kernelspec": {
   "display_name": "Python 3",
   "language": "python",
   "name": "python3"
  },
  "language_info": {
   "codemirror_mode": {
    "name": "ipython",
    "version": 3
   },
   "file_extension": ".py",
   "mimetype": "text/x-python",
   "name": "python",
   "nbconvert_exporter": "python",
   "pygments_lexer": "ipython3",
   "version": "3.6.7"
  }
 },
 "nbformat": 4,
 "nbformat_minor": 1
}
